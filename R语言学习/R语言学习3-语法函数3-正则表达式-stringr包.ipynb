{
 "cells": [
  {
   "cell_type": "code",
   "execution_count": 3,
   "id": "4fafadd1",
   "metadata": {},
   "outputs": [],
   "source": [
    "library(tidyverse)\n",
    "library(stringr)"
   ]
  },
  {
   "cell_type": "markdown",
   "id": "63f09292",
   "metadata": {},
   "source": [
    "## 什么是正则表达式\n",
    "我们在word文档或者excel中，经常使用查找和替换, 然而有些情况，word是解决不了的，比如\n",
    "- 条件搜索\n",
    "  - 统计文中，前面有 “`data`”, “`computer`” or “`statistical`” 的 “`analysis`”，这个单词的个数\n",
    "  - 找出文中重复的单词，比如“we love love you”\n",
    "- 拼写检查\n",
    "  - 电话号码（邮件，密码等）是否正确格式\n",
    "  - 日期书写的规范与统一\n",
    "- 提取信息\n",
    "  - 提取文本特定位置的数据\n",
    "- 文本挖掘\n",
    "  - 非结构化的提取成结构化"
   ]
  },
  {
   "cell_type": "markdown",
   "id": "876d86f0",
   "metadata": {},
   "source": [
    "- 这个时候就需要用到**正则表达式**（`Regular Expression`），这一强大、便捷、高效的文本处理工具。那么，什么是正则表达式呢？简单点说，正则表达式是处理字符串的。\n",
    "\n",
    "- 复杂点说，正则表达式描述了一种字符串匹配的模式（`pattern`），通常被用来检索、替换那些符合某个模式(规则)的文本。这种固定的格式的文本，生活中常见的有电话号码、网络地址、邮件地址和日期格式等等。\n",
    "\n",
    "- 正则表达式并不是R语言特有的，事实上，几乎所有程序语言都支持正则表达式 (e.g. Perl, Python, Java, Ruby, etc).\n",
    "\n",
    "- R 语言中很多函数都需要使用正则表达式，然而正则表达式不太好学。幸运的是，大神`Hadley Wickham`开发的`stringr`包让正则表达式简单易懂"
   ]
  },
  {
   "cell_type": "markdown",
   "id": "4230599b",
   "metadata": {},
   "source": [
    "## 字符串基础\n",
    "### 1 字符串长度`str_length()` \n",
    "- 获取字符串的长度,\n",
    "  - 对于字符串向量，也适用\n",
    "  - 数据框里配合`dplyr`函数，同样很方便"
   ]
  },
  {
   "cell_type": "code",
   "execution_count": 7,
   "id": "25888aa5",
   "metadata": {},
   "outputs": [
    {
     "data": {
      "text/html": [
       "18"
      ],
      "text/latex": [
       "18"
      ],
      "text/markdown": [
       "18"
      ],
      "text/plain": [
       "[1] 18"
      ]
     },
     "metadata": {},
     "output_type": "display_data"
    },
    {
     "data": {
      "text/html": [
       "<style>\n",
       ".list-inline {list-style: none; margin:0; padding: 0}\n",
       ".list-inline>li {display: inline-block}\n",
       ".list-inline>li:not(:last-child)::after {content: \"\\00b7\"; padding: 0 .5ex}\n",
       "</style>\n",
       "<ol class=list-inline><li>1</li><li>18</li><li>&lt;NA&gt;</li></ol>\n"
      ],
      "text/latex": [
       "\\begin{enumerate*}\n",
       "\\item 1\n",
       "\\item 18\n",
       "\\item <NA>\n",
       "\\end{enumerate*}\n"
      ],
      "text/markdown": [
       "1. 1\n",
       "2. 18\n",
       "3. &lt;NA&gt;\n",
       "\n",
       "\n"
      ],
      "text/plain": [
       "[1]  1 18 NA"
      ]
     },
     "metadata": {},
     "output_type": "display_data"
    }
   ],
   "source": [
    "str_length(\"R for data science\")\n",
    "str_length(c(\"a\", \"R for data science\", NA))"
   ]
  },
  {
   "cell_type": "code",
   "execution_count": 9,
   "id": "baab4dc1",
   "metadata": {},
   "outputs": [
    {
     "data": {
      "text/html": [
       "<table class=\"dataframe\">\n",
       "<caption>A data.frame: 3 × 2</caption>\n",
       "<thead>\n",
       "\t<tr><th scope=col>x</th><th scope=col>y</th></tr>\n",
       "\t<tr><th scope=col>&lt;chr&gt;</th><th scope=col>&lt;int&gt;</th></tr>\n",
       "</thead>\n",
       "<tbody>\n",
       "\t<tr><td>a                 </td><td> 1</td></tr>\n",
       "\t<tr><td>R for data science</td><td>18</td></tr>\n",
       "\t<tr><td>NA                </td><td>NA</td></tr>\n",
       "</tbody>\n",
       "</table>\n"
      ],
      "text/latex": [
       "A data.frame: 3 × 2\n",
       "\\begin{tabular}{ll}\n",
       " x & y\\\\\n",
       " <chr> & <int>\\\\\n",
       "\\hline\n",
       "\t a                  &  1\\\\\n",
       "\t R for data science & 18\\\\\n",
       "\t NA                 & NA\\\\\n",
       "\\end{tabular}\n"
      ],
      "text/markdown": [
       "\n",
       "A data.frame: 3 × 2\n",
       "\n",
       "| x &lt;chr&gt; | y &lt;int&gt; |\n",
       "|---|---|\n",
       "| a                  |  1 |\n",
       "| R for data science | 18 |\n",
       "| NA                 | NA |\n",
       "\n"
      ],
      "text/plain": [
       "  x                  y \n",
       "1 a                   1\n",
       "2 R for data science 18\n",
       "3 NA                 NA"
      ]
     },
     "metadata": {},
     "output_type": "display_data"
    }
   ],
   "source": [
    "# 数据框里配合dplyr函数\n",
    "data.frame(\n",
    "  x = c(\"a\", \"R for data science\", NA)\n",
    ") %>% \n",
    "  mutate(y = str_length(x))"
   ]
  },
  {
   "cell_type": "markdown",
   "id": "edf1aada",
   "metadata": {},
   "source": [
    "### 2 字符串组合`str_c()` \n",
    "- 把字符串拼接在一起\n",
    "  - 可以设置中间的间隔——分隔符\n",
    "  - 可以用在数据框中\n",
    "  - `collapse`选项，是先组合，然后加上分隔符转换成单个字符串\n",
    "  - `sep`是对组合设置分隔符"
   ]
  },
  {
   "cell_type": "code",
   "execution_count": 14,
   "id": "af3ac547",
   "metadata": {},
   "outputs": [
    {
     "data": {
      "text/html": [
       "'xy'"
      ],
      "text/latex": [
       "'xy'"
      ],
      "text/markdown": [
       "'xy'"
      ],
      "text/plain": [
       "[1] \"xy\""
      ]
     },
     "metadata": {},
     "output_type": "display_data"
    },
    {
     "data": {
      "text/html": [
       "'x, y'"
      ],
      "text/latex": [
       "'x, y'"
      ],
      "text/markdown": [
       "'x, y'"
      ],
      "text/plain": [
       "[1] \"x, y\""
      ]
     },
     "metadata": {},
     "output_type": "display_data"
    },
    {
     "data": {
      "text/html": [
       "<style>\n",
       ".list-inline {list-style: none; margin:0; padding: 0}\n",
       ".list-inline>li {display: inline-block}\n",
       ".list-inline>li:not(:last-child)::after {content: \"\\00b7\"; padding: 0 .5ex}\n",
       "</style>\n",
       "<ol class=list-inline><li>'x'</li><li>'y'</li><li>'z'</li></ol>\n"
      ],
      "text/latex": [
       "\\begin{enumerate*}\n",
       "\\item 'x'\n",
       "\\item 'y'\n",
       "\\item 'z'\n",
       "\\end{enumerate*}\n"
      ],
      "text/markdown": [
       "1. 'x'\n",
       "2. 'y'\n",
       "3. 'z'\n",
       "\n",
       "\n"
      ],
      "text/plain": [
       "[1] \"x\" \"y\" \"z\""
      ]
     },
     "metadata": {},
     "output_type": "display_data"
    },
    {
     "data": {
      "text/html": [
       "<style>\n",
       ".list-inline {list-style: none; margin:0; padding: 0}\n",
       ".list-inline>li {display: inline-block}\n",
       ".list-inline>li:not(:last-child)::after {content: \"\\00b7\"; padding: 0 .5ex}\n",
       "</style>\n",
       "<ol class=list-inline><li>'x, x'</li><li>'y, y'</li><li>'z, z'</li></ol>\n"
      ],
      "text/latex": [
       "\\begin{enumerate*}\n",
       "\\item 'x, x'\n",
       "\\item 'y, y'\n",
       "\\item 'z, z'\n",
       "\\end{enumerate*}\n"
      ],
      "text/markdown": [
       "1. 'x, x'\n",
       "2. 'y, y'\n",
       "3. 'z, z'\n",
       "\n",
       "\n"
      ],
      "text/plain": [
       "[1] \"x, x\" \"y, y\" \"z, z\""
      ]
     },
     "metadata": {},
     "output_type": "display_data"
    }
   ],
   "source": [
    "str_c(\"x\", \"y\")\n",
    "str_c(\"x\", \"y\", sep=\", \")\n",
    "str_c(c(\"x\", \"y\", \"z\"), sep=\", \")\n",
    "# 说明c(\"x\", \"y\", \"z\")代表一个元素\n",
    "str_c(c(\"x\", \"y\", \"z\"), c(\"x\", \"y\", \"z\"),  sep=\", \")"
   ]
  },
  {
   "cell_type": "code",
   "execution_count": 17,
   "id": "7e76fbc8",
   "metadata": {},
   "outputs": [
    {
     "data": {
      "text/html": [
       "<table class=\"dataframe\">\n",
       "<caption>A data.frame: 3 × 3</caption>\n",
       "<thead>\n",
       "\t<tr><th scope=col>x</th><th scope=col>y</th><th scope=col>z</th></tr>\n",
       "\t<tr><th scope=col>&lt;chr&gt;</th><th scope=col>&lt;chr&gt;</th><th scope=col>&lt;chr&gt;</th></tr>\n",
       "</thead>\n",
       "<tbody>\n",
       "\t<tr><td>I   </td><td>you </td><td>I | you    </td></tr>\n",
       "\t<tr><td>love</td><td>like</td><td>love | like</td></tr>\n",
       "\t<tr><td>you </td><td>me  </td><td>you | me   </td></tr>\n",
       "</tbody>\n",
       "</table>\n"
      ],
      "text/latex": [
       "A data.frame: 3 × 3\n",
       "\\begin{tabular}{lll}\n",
       " x & y & z\\\\\n",
       " <chr> & <chr> & <chr>\\\\\n",
       "\\hline\n",
       "\t I    & you  & I \\textbar{} you    \\\\\n",
       "\t love & like & love \\textbar{} like\\\\\n",
       "\t you  & me   & you \\textbar{} me   \\\\\n",
       "\\end{tabular}\n"
      ],
      "text/markdown": [
       "\n",
       "A data.frame: 3 × 3\n",
       "\n",
       "| x &lt;chr&gt; | y &lt;chr&gt; | z &lt;chr&gt; |\n",
       "|---|---|---|\n",
       "| I    | you  | I | you     |\n",
       "| love | like | love | like |\n",
       "| you  | me   | you | me    |\n",
       "\n"
      ],
      "text/plain": [
       "  x    y    z          \n",
       "1 I    you  I | you    \n",
       "2 love like love | like\n",
       "3 you  me   you | me   "
      ]
     },
     "metadata": {},
     "output_type": "display_data"
    }
   ],
   "source": [
    "# 用在数据框\n",
    "data.frame(\n",
    "  x = c(\"I\", \"love\", \"you\"),\n",
    "  y = c(\"you\", \"like\", \"me\")\n",
    ") %>% \n",
    "  mutate(z = str_c(x, y, sep=\" | \"))"
   ]
  },
  {
   "cell_type": "code",
   "execution_count": 19,
   "id": "fa484bb1",
   "metadata": {},
   "outputs": [
    {
     "data": {
      "text/html": [
       "<style>\n",
       ".list-inline {list-style: none; margin:0; padding: 0}\n",
       ".list-inline>li {display: inline-block}\n",
       ".list-inline>li:not(:last-child)::after {content: \"\\00b7\"; padding: 0 .5ex}\n",
       "</style>\n",
       "<ol class=list-inline><li>'x | a'</li><li>'y | b'</li><li>'z | c'</li></ol>\n"
      ],
      "text/latex": [
       "\\begin{enumerate*}\n",
       "\\item 'x \\textbar{} a'\n",
       "\\item 'y \\textbar{} b'\n",
       "\\item 'z \\textbar{} c'\n",
       "\\end{enumerate*}\n"
      ],
      "text/markdown": [
       "1. 'x | a'\n",
       "2. 'y | b'\n",
       "3. 'z | c'\n",
       "\n",
       "\n"
      ],
      "text/plain": [
       "[1] \"x | a\" \"y | b\" \"z | c\""
      ]
     },
     "metadata": {},
     "output_type": "display_data"
    },
    {
     "data": {
      "text/html": [
       "'xa | yb | zc'"
      ],
      "text/latex": [
       "'xa \\textbar{} yb \\textbar{} zc'"
      ],
      "text/markdown": [
       "'xa | yb | zc'"
      ],
      "text/plain": [
       "[1] \"xa | yb | zc\""
      ]
     },
     "metadata": {},
     "output_type": "display_data"
    }
   ],
   "source": [
    "# collapse选项, 先组合，后转换成单个字符串\n",
    "str_c(c(\"x\",\"y\",\"z\"), c(\"a\",\"b\",\"c\"), sep=\" | \")\n",
    "str_c(c(\"x\",\"y\",\"z\"), c(\"a\",\"b\",\"c\"), collapse=\" | \")"
   ]
  },
  {
   "cell_type": "markdown",
   "id": "60e6e371",
   "metadata": {},
   "source": [
    "### 3 字符串取子集`str_sub()`\n",
    "  - 截取字符串的一部分，需要指定截取的开始位置和结束位置\n",
    "  - 开始位置和结束位置如果是负整数，就表示位置是从后往前数\n",
    "  - 也可以进行赋值，如果该位置上有字符，就用新的字符替换旧的字符"
   ]
  },
  {
   "cell_type": "code",
   "execution_count": 27,
   "id": "7fc6b73f",
   "metadata": {},
   "outputs": [
    {
     "data": {
      "text/html": [
       "<style>\n",
       ".list-inline {list-style: none; margin:0; padding: 0}\n",
       ".list-inline>li {display: inline-block}\n",
       ".list-inline>li:not(:last-child)::after {content: \"\\00b7\"; padding: 0 .5ex}\n",
       "</style>\n",
       "<ol class=list-inline><li>'pp'</li><li>'an'</li><li>'ea'</li></ol>\n"
      ],
      "text/latex": [
       "\\begin{enumerate*}\n",
       "\\item 'pp'\n",
       "\\item 'an'\n",
       "\\item 'ea'\n",
       "\\end{enumerate*}\n"
      ],
      "text/markdown": [
       "1. 'pp'\n",
       "2. 'an'\n",
       "3. 'ea'\n",
       "\n",
       "\n"
      ],
      "text/plain": [
       "[1] \"pp\" \"an\" \"ea\""
      ]
     },
     "metadata": {},
     "output_type": "display_data"
    },
    {
     "data": {
      "text/html": [
       "<style>\n",
       ".list-inline {list-style: none; margin:0; padding: 0}\n",
       ".list-inline>li {display: inline-block}\n",
       ".list-inline>li:not(:last-child)::after {content: \"\\00b7\"; padding: 0 .5ex}\n",
       "</style>\n",
       "<ol class=list-inline><li>'pl'</li><li>'an'</li><li>'ea'</li></ol>\n"
      ],
      "text/latex": [
       "\\begin{enumerate*}\n",
       "\\item 'pl'\n",
       "\\item 'an'\n",
       "\\item 'ea'\n",
       "\\end{enumerate*}\n"
      ],
      "text/markdown": [
       "1. 'pl'\n",
       "2. 'an'\n",
       "3. 'ea'\n",
       "\n",
       "\n"
      ],
      "text/plain": [
       "[1] \"pl\" \"an\" \"ea\""
      ]
     },
     "metadata": {},
     "output_type": "display_data"
    }
   ],
   "source": [
    "x <- c(\"Apple\", \"Banana\", \"Pear\")\n",
    "str_sub(x, 2, 3)\n",
    "str_sub(x, -3, -2)"
   ]
  },
  {
   "cell_type": "code",
   "execution_count": 28,
   "id": "73db5301",
   "metadata": {},
   "outputs": [
    {
     "data": {
      "text/html": [
       "<style>\n",
       ".list-inline {list-style: none; margin:0; padding: 0}\n",
       ".list-inline>li {display: inline-block}\n",
       ".list-inline>li:not(:last-child)::after {content: \"\\00b7\"; padding: 0 .5ex}\n",
       "</style>\n",
       "<ol class=list-inline><li>'A'</li><li>'B'</li><li>'P'</li></ol>\n"
      ],
      "text/latex": [
       "\\begin{enumerate*}\n",
       "\\item 'A'\n",
       "\\item 'B'\n",
       "\\item 'P'\n",
       "\\end{enumerate*}\n"
      ],
      "text/markdown": [
       "1. 'A'\n",
       "2. 'B'\n",
       "3. 'P'\n",
       "\n",
       "\n"
      ],
      "text/plain": [
       "[1] \"A\" \"B\" \"P\""
      ]
     },
     "metadata": {},
     "output_type": "display_data"
    },
    {
     "data": {
      "text/html": [
       "<style>\n",
       ".list-inline {list-style: none; margin:0; padding: 0}\n",
       ".list-inline>li {display: inline-block}\n",
       ".list-inline>li:not(:last-child)::after {content: \"\\00b7\"; padding: 0 .5ex}\n",
       "</style>\n",
       "<ol class=list-inline><li>'Qpple'</li><li>'Qanana'</li><li>'Qear'</li></ol>\n"
      ],
      "text/latex": [
       "\\begin{enumerate*}\n",
       "\\item 'Qpple'\n",
       "\\item 'Qanana'\n",
       "\\item 'Qear'\n",
       "\\end{enumerate*}\n"
      ],
      "text/markdown": [
       "1. 'Qpple'\n",
       "2. 'Qanana'\n",
       "3. 'Qear'\n",
       "\n",
       "\n"
      ],
      "text/plain": [
       "[1] \"Qpple\"  \"Qanana\" \"Qear\"  "
      ]
     },
     "metadata": {},
     "output_type": "display_data"
    }
   ],
   "source": [
    "str_sub(x,1,1)\n",
    "str_sub(x, 1, 1) <- \"Q\"\n",
    "x"
   ]
  },
  {
   "attachments": {},
   "cell_type": "markdown",
   "id": "9aea08ca",
   "metadata": {},
   "source": [
    "## 使用正则表达式进行模式匹配\n",
    "### 1 基础匹配`str_view()`\n",
    "- 查看`string`是否匹配`pattern`，如果匹配，就高亮显示\n",
    "- `.`代表任意字符，表达本身则需转义字符`\\\\.`\n",
    "### 2 锚点\n",
    "- `^a` a是字符串的开始进行匹配\n",
    "- `a$` a是字符串的结尾进行匹配\n",
    "### 3 字符类与字符选项\n",
    "前面提到，.匹配任意字符，事实上还有很多这种特殊含义的字符：\n",
    "\n",
    "  - `\\d`: matches any digit.\n",
    "  - `\\D`: matches any except digit.\n",
    "  - `\\s`: matches any whitespace (e.g. space, tab, newline).\n",
    "  - `[abc]`: matches a, b, or c.\n",
    "  - `[^abc]`: matches anything except a, b, or c.\n",
    "### 4 重复\n",
    "- 控制匹配次数\n",
    "  - `?`: 0 or 1\n",
    "  - `+`: 1 or more\n",
    "  - `*`: 0 or more\n",
    "  \n",
    "  - `{n}`: exactly n\n",
    "  - `{n,}`: n or more\n",
    "  - `{,m}`: at most m\n",
    "  - `{n,m}`: between n and m\n",
    "- 默认的情况，`*`,` +` 匹配都是贪婪的，也就是它会尽可能的匹配更多\n",
    "- 如果想让它不贪婪，而是变得懒惰起来，可以在`*`,` +` 加个`?`\n",
    "\n",
    "![image.png](image/regex_repeat.jpg)"
   ]
  },
  {
   "cell_type": "code",
   "execution_count": 4,
   "id": "03e49e4b",
   "metadata": {},
   "outputs": [
    {
     "data": {
      "text/plain": [
       "\u001b[90m[2] │\u001b[39m b\u001b[36m<an>\u001b[39m\u001b[36m<an>\u001b[39ma"
      ]
     },
     "metadata": {},
     "output_type": "display_data"
    },
    {
     "data": {
      "text/plain": [
       "\u001b[90m[2] │\u001b[39m \u001b[36m<ban>\u001b[39mana\n",
       "\u001b[90m[3] │\u001b[39m p\u001b[36m<ear>\u001b[39m"
      ]
     },
     "metadata": {},
     "output_type": "display_data"
    }
   ],
   "source": [
    "x <- c(\"apple\", \"banana\", \"pear\")\n",
    "str_view(string=x, pattern=\"an\")\n",
    "# 有时候，我们希望在字符a前后都有字符\n",
    "str_view(x, \".a.\")"
   ]
  },
  {
   "cell_type": "code",
   "execution_count": 5,
   "id": "2ef63ec6",
   "metadata": {},
   "outputs": [
    {
     "data": {
      "text/plain": [
       "\u001b[90m[1] │\u001b[39m \u001b[36m<a>\u001b[39mpple"
      ]
     },
     "metadata": {},
     "output_type": "display_data"
    },
    {
     "data": {
      "text/plain": [
       "\u001b[90m[2] │\u001b[39m banan\u001b[36m<a>\u001b[39m"
      ]
     },
     "metadata": {},
     "output_type": "display_data"
    },
    {
     "data": {
      "text/plain": [
       "\u001b[90m[1] │\u001b[39m \u001b[36m<apple>\u001b[39m"
      ]
     },
     "metadata": {},
     "output_type": "display_data"
    }
   ],
   "source": [
    "x <- c(\"apple\", \"banana\", \"pear\")\n",
    "str_view(x, \"^a\")\n",
    "str_view(x, \"a$\")\n",
    "str_view(x, \"^apple$\")"
   ]
  },
  {
   "cell_type": "code",
   "execution_count": 6,
   "id": "c2f6889d",
   "metadata": {},
   "outputs": [
    {
     "data": {
      "text/plain": [
       "\u001b[90m[1] │\u001b[39m \u001b[36m<grey>\u001b[39m\n",
       "\u001b[90m[2] │\u001b[39m \u001b[36m<gray>\u001b[39m"
      ]
     },
     "metadata": {},
     "output_type": "display_data"
    }
   ],
   "source": [
    "# 字符类与字符选项\n",
    "str_view(c(\"grey\", \"gray\"), \"gr[ea]y\")"
   ]
  },
  {
   "cell_type": "code",
   "execution_count": 13,
   "id": "a10b70ff",
   "metadata": {},
   "outputs": [
    {
     "data": {
      "text/plain": [
       "\u001b[90m[1] │\u001b[39m Roman numerals: MD\u001b[36m<CC>\u001b[39m\u001b[36m<C>\u001b[39mLXXXVIII"
      ]
     },
     "metadata": {},
     "output_type": "display_data"
    },
    {
     "data": {
      "text/plain": [
       "\u001b[90m[1] │\u001b[39m Roman numerals: MDCCCL\u001b[36m<XXX>\u001b[39mVIII"
      ]
     },
     "metadata": {},
     "output_type": "display_data"
    },
    {
     "data": {
      "text/plain": [
       "\u001b[90m[1] │\u001b[39m Roman numerals: MD\u001b[36m<CCC>\u001b[39mLXXXVIII"
      ]
     },
     "metadata": {},
     "output_type": "display_data"
    },
    {
     "data": {
      "text/plain": [
       "\u001b[90m[1] │\u001b[39m Roman numerals: MD\u001b[36m<CCC>\u001b[39mLXXXVIII"
      ]
     },
     "metadata": {},
     "output_type": "display_data"
    },
    {
     "data": {
      "text/plain": [
       "\u001b[90m[1] │\u001b[39m Roman numerals: MDCC\u001b[36m<CLXXX>\u001b[39mVIII"
      ]
     },
     "metadata": {},
     "output_type": "display_data"
    },
    {
     "data": {
      "text/plain": [
       "\u001b[90m[1] │\u001b[39m Roman numerals: MDCC\u001b[36m<CLX>\u001b[39mXXVIII"
      ]
     },
     "metadata": {},
     "output_type": "display_data"
    }
   ],
   "source": [
    "# 控制匹配次数\n",
    "x <- \"Roman numerals: MDCCCLXXXVIII\"\n",
    "str_view(x, \"CC?\")\n",
    "str_view(x, \"X+\")\n",
    "str_view(x, \"C{2,}\")\n",
    "str_view(x, \"C{2,3}\")"
   ]
  },
  {
   "cell_type": "code",
   "execution_count": 14,
   "id": "819cfb06",
   "metadata": {},
   "outputs": [
    {
     "data": {
      "text/plain": [
       "\u001b[90m[1] │\u001b[39m Roman numerals: MDCC\u001b[36m<CLXXX>\u001b[39mVIII"
      ]
     },
     "metadata": {},
     "output_type": "display_data"
    },
    {
     "data": {
      "text/plain": [
       "\u001b[90m[1] │\u001b[39m Roman numerals: MDCC\u001b[36m<CLX>\u001b[39mXXVIII"
      ]
     },
     "metadata": {},
     "output_type": "display_data"
    }
   ],
   "source": [
    "# 控制匹配次数\n",
    "# 让* + 变得不贪婪\n",
    "x <- \"Roman numerals: MDCCCLXXXVIII\"\n",
    "str_view(x, \"CLX+\")\n",
    "str_view(x, \"CLX+?\")"
   ]
  },
  {
   "cell_type": "markdown",
   "id": "5fbc22d7",
   "metadata": {},
   "source": [
    "### 5 分组与回溯引用\n",
    "- `.` 是匹配任何字符\n",
    "- `(.)` 将匹配项括起来，它就用了一个名字，叫`\\\\1`； 如果有两个括号，就叫`\\\\1`和`\\\\2`\n",
    "- `\\\\1` 表示回溯引用，表示引用`\\\\1`对于的`(.)`\n",
    "\n",
    "`(.)\\\\1`的意思就是，匹配到了字符，后面还希望有个同样的字符"
   ]
  },
  {
   "cell_type": "code",
   "execution_count": 15,
   "id": "b6b52b2b",
   "metadata": {},
   "outputs": [
    {
     "data": {
      "text/html": [
       "<style>\n",
       ".list-inline {list-style: none; margin:0; padding: 0}\n",
       ".list-inline>li {display: inline-block}\n",
       ".list-inline>li:not(:last-child)::after {content: \"\\00b7\"; padding: 0 .5ex}\n",
       "</style>\n",
       "<ol class=list-inline><li>'apple'</li><li>'apricot'</li><li>'avocado'</li><li>'banana'</li><li>'bell pepper'</li><li>'bilberry'</li><li>'blackberry'</li><li>'blackcurrant'</li><li>'blood orange'</li><li>'blueberry'</li></ol>\n"
      ],
      "text/latex": [
       "\\begin{enumerate*}\n",
       "\\item 'apple'\n",
       "\\item 'apricot'\n",
       "\\item 'avocado'\n",
       "\\item 'banana'\n",
       "\\item 'bell pepper'\n",
       "\\item 'bilberry'\n",
       "\\item 'blackberry'\n",
       "\\item 'blackcurrant'\n",
       "\\item 'blood orange'\n",
       "\\item 'blueberry'\n",
       "\\end{enumerate*}\n"
      ],
      "text/markdown": [
       "1. 'apple'\n",
       "2. 'apricot'\n",
       "3. 'avocado'\n",
       "4. 'banana'\n",
       "5. 'bell pepper'\n",
       "6. 'bilberry'\n",
       "7. 'blackberry'\n",
       "8. 'blackcurrant'\n",
       "9. 'blood orange'\n",
       "10. 'blueberry'\n",
       "\n",
       "\n"
      ],
      "text/plain": [
       " [1] \"apple\"        \"apricot\"      \"avocado\"      \"banana\"       \"bell pepper\" \n",
       " [6] \"bilberry\"     \"blackberry\"   \"blackcurrant\" \"blood orange\" \"blueberry\"   "
      ]
     },
     "metadata": {},
     "output_type": "display_data"
    }
   ],
   "source": [
    "ft <- fruit %>% head(10)\n",
    "ft"
   ]
  },
  {
   "cell_type": "code",
   "execution_count": 17,
   "id": "ed83a241",
   "metadata": {},
   "outputs": [
    {
     "data": {
      "text/plain": [
       "\u001b[90m [1] │\u001b[39m \u001b[36m<ap>\u001b[39m\u001b[36m<pl>\u001b[39me\n",
       "\u001b[90m [2] │\u001b[39m \u001b[36m<ap>\u001b[39m\u001b[36m<ri>\u001b[39m\u001b[36m<co>\u001b[39mt\n",
       "\u001b[90m [3] │\u001b[39m \u001b[36m<av>\u001b[39m\u001b[36m<oc>\u001b[39m\u001b[36m<ad>\u001b[39mo\n",
       "\u001b[90m [4] │\u001b[39m \u001b[36m<ba>\u001b[39m\u001b[36m<na>\u001b[39m\u001b[36m<na>\u001b[39m\n",
       "\u001b[90m [5] │\u001b[39m \u001b[36m<be>\u001b[39m\u001b[36m<ll>\u001b[39m\u001b[36m< p>\u001b[39m\u001b[36m<ep>\u001b[39m\u001b[36m<pe>\u001b[39mr\n",
       "\u001b[90m [6] │\u001b[39m \u001b[36m<bi>\u001b[39m\u001b[36m<lb>\u001b[39m\u001b[36m<er>\u001b[39m\u001b[36m<ry>\u001b[39m\n",
       "\u001b[90m [7] │\u001b[39m \u001b[36m<bl>\u001b[39m\u001b[36m<ac>\u001b[39m\u001b[36m<kb>\u001b[39m\u001b[36m<er>\u001b[39m\u001b[36m<ry>\u001b[39m\n",
       "\u001b[90m [8] │\u001b[39m \u001b[36m<bl>\u001b[39m\u001b[36m<ac>\u001b[39m\u001b[36m<kc>\u001b[39m\u001b[36m<ur>\u001b[39m\u001b[36m<ra>\u001b[39m\u001b[36m<nt>\u001b[39m\n",
       "\u001b[90m [9] │\u001b[39m \u001b[36m<bl>\u001b[39m\u001b[36m<oo>\u001b[39m\u001b[36m<d >\u001b[39m\u001b[36m<or>\u001b[39m\u001b[36m<an>\u001b[39m\u001b[36m<ge>\u001b[39m\n",
       "\u001b[90m[10] │\u001b[39m \u001b[36m<bl>\u001b[39m\u001b[36m<ue>\u001b[39m\u001b[36m<be>\u001b[39m\u001b[36m<rr>\u001b[39my"
      ]
     },
     "metadata": {},
     "output_type": "display_data"
    },
    {
     "data": {
      "text/plain": [
       "\u001b[90m [1] │\u001b[39m a\u001b[36m<pp>\u001b[39mle\n",
       "\u001b[90m [5] │\u001b[39m be\u001b[36m<ll>\u001b[39m pe\u001b[36m<pp>\u001b[39mer\n",
       "\u001b[90m [6] │\u001b[39m bilbe\u001b[36m<rr>\u001b[39my\n",
       "\u001b[90m [7] │\u001b[39m blackbe\u001b[36m<rr>\u001b[39my\n",
       "\u001b[90m [8] │\u001b[39m blackcu\u001b[36m<rr>\u001b[39mant\n",
       "\u001b[90m [9] │\u001b[39m bl\u001b[36m<oo>\u001b[39md orange\n",
       "\u001b[90m[10] │\u001b[39m bluebe\u001b[36m<rr>\u001b[39my"
      ]
     },
     "metadata": {},
     "output_type": "display_data"
    }
   ],
   "source": [
    "# 我们想看看这些单词里，有哪些字母是重复两次的，比如aa, pp. \n",
    "# 如果用上面学的方法\n",
    "str_view(ft, \".{2}\", match=TRUE)\n",
    "# 发现和我们的预想不一样。\n",
    "str_view(ft, \"(.)\\\\1\", match=TRUE)"
   ]
  },
  {
   "cell_type": "code",
   "execution_count": 19,
   "id": "c318480f",
   "metadata": {},
   "outputs": [
    {
     "data": {
      "text/plain": [
       "\u001b[90m[4] │\u001b[39m b\u001b[36m<anan>\u001b[39ma"
      ]
     },
     "metadata": {},
     "output_type": "display_data"
    },
    {
     "data": {
      "text/plain": [
       "\u001b[90m[5] │\u001b[39m bell p\u001b[36m<eppe>\u001b[39mr"
      ]
     },
     "metadata": {},
     "output_type": "display_data"
    }
   ],
   "source": [
    "## 如果是匹配abab, wcwc\n",
    "str_view(ft, \"(..)\\\\1\", match=TRUE)\n",
    "\n",
    "## 如果是匹配abba, wccw\n",
    "str_view(ft, \"(.)(.)\\\\2\\\\1\", match=TRUE)"
   ]
  },
  {
   "cell_type": "markdown",
   "id": "6f8b87e7",
   "metadata": {},
   "source": [
    "### 6 大小写敏感\n",
    "- `(?i)` 匹配元素不区分大小写"
   ]
  },
  {
   "cell_type": "code",
   "execution_count": 32,
   "id": "63932d1e",
   "metadata": {},
   "outputs": [
    {
     "data": {
      "text/html": [
       "<table class=\"dataframe\">\n",
       "<caption>A tibble: 7 × 2</caption>\n",
       "<thead>\n",
       "\t<tr><th scope=col>tch_id</th><th scope=col>online_platform</th></tr>\n",
       "\t<tr><th scope=col>&lt;dbl&gt;</th><th scope=col>&lt;chr&gt;</th></tr>\n",
       "</thead>\n",
       "<tbody>\n",
       "\t<tr><td>105</td><td>Google         </td></tr>\n",
       "\t<tr><td>106</td><td>meet           </td></tr>\n",
       "\t<tr><td>107</td><td>Zoom           </td></tr>\n",
       "\t<tr><td>108</td><td>zoom           </td></tr>\n",
       "\t<tr><td>109</td><td>Google Meet    </td></tr>\n",
       "\t<tr><td>112</td><td>Microsoft Teams</td></tr>\n",
       "\t<tr><td>113</td><td>NA             </td></tr>\n",
       "</tbody>\n",
       "</table>\n"
      ],
      "text/latex": [
       "A tibble: 7 × 2\n",
       "\\begin{tabular}{ll}\n",
       " tch\\_id & online\\_platform\\\\\n",
       " <dbl> & <chr>\\\\\n",
       "\\hline\n",
       "\t 105 & Google         \\\\\n",
       "\t 106 & meet           \\\\\n",
       "\t 107 & Zoom           \\\\\n",
       "\t 108 & zoom           \\\\\n",
       "\t 109 & Google Meet    \\\\\n",
       "\t 112 & Microsoft Teams\\\\\n",
       "\t 113 & NA             \\\\\n",
       "\\end{tabular}\n"
      ],
      "text/markdown": [
       "\n",
       "A tibble: 7 × 2\n",
       "\n",
       "| tch_id &lt;dbl&gt; | online_platform &lt;chr&gt; |\n",
       "|---|---|\n",
       "| 105 | Google          |\n",
       "| 106 | meet            |\n",
       "| 107 | Zoom            |\n",
       "| 108 | zoom            |\n",
       "| 109 | Google Meet     |\n",
       "| 112 | Microsoft Teams |\n",
       "| 113 | NA              |\n",
       "\n"
      ],
      "text/plain": [
       "  tch_id online_platform\n",
       "1 105    Google         \n",
       "2 106    meet           \n",
       "3 107    Zoom           \n",
       "4 108    zoom           \n",
       "5 109    Google Meet    \n",
       "6 112    Microsoft Teams\n",
       "7 113    NA             "
      ]
     },
     "metadata": {},
     "output_type": "display_data"
    }
   ],
   "source": [
    "df <- tibble::tribble(\n",
    "  ~tch_id,  ~online_platform,\n",
    "      105,          \"Google\",\n",
    "      106,            \"meet\",\n",
    "      107,            \"Zoom\",\n",
    "      108,            \"zoom\",\n",
    "      109,     \"Google Meet\",\n",
    "      112, \"Microsoft Teams\",\n",
    "      113,                NA\n",
    ")\n",
    "df"
   ]
  },
  {
   "cell_type": "code",
   "execution_count": 22,
   "id": "33932823",
   "metadata": {},
   "outputs": [
    {
     "data": {
      "text/html": [
       "<table class=\"dataframe\">\n",
       "<caption>A tibble: 3 × 2</caption>\n",
       "<thead>\n",
       "\t<tr><th scope=col>tch_id</th><th scope=col>online_platform</th></tr>\n",
       "\t<tr><th scope=col>&lt;dbl&gt;</th><th scope=col>&lt;chr&gt;</th></tr>\n",
       "</thead>\n",
       "<tbody>\n",
       "\t<tr><td>105</td><td>Google     </td></tr>\n",
       "\t<tr><td>106</td><td>meet       </td></tr>\n",
       "\t<tr><td>109</td><td>Google Meet</td></tr>\n",
       "</tbody>\n",
       "</table>\n"
      ],
      "text/latex": [
       "A tibble: 3 × 2\n",
       "\\begin{tabular}{ll}\n",
       " tch\\_id & online\\_platform\\\\\n",
       " <dbl> & <chr>\\\\\n",
       "\\hline\n",
       "\t 105 & Google     \\\\\n",
       "\t 106 & meet       \\\\\n",
       "\t 109 & Google Meet\\\\\n",
       "\\end{tabular}\n"
      ],
      "text/markdown": [
       "\n",
       "A tibble: 3 × 2\n",
       "\n",
       "| tch_id &lt;dbl&gt; | online_platform &lt;chr&gt; |\n",
       "|---|---|\n",
       "| 105 | Google      |\n",
       "| 106 | meet        |\n",
       "| 109 | Google Meet |\n",
       "\n"
      ],
      "text/plain": [
       "  tch_id online_platform\n",
       "1 105    Google         \n",
       "2 106    meet           \n",
       "3 109    Google Meet    "
      ]
     },
     "metadata": {},
     "output_type": "display_data"
    },
    {
     "data": {
      "text/html": [
       "<table class=\"dataframe\">\n",
       "<caption>A tibble: 3 × 2</caption>\n",
       "<thead>\n",
       "\t<tr><th scope=col>tch_id</th><th scope=col>online_platform</th></tr>\n",
       "\t<tr><th scope=col>&lt;dbl&gt;</th><th scope=col>&lt;chr&gt;</th></tr>\n",
       "</thead>\n",
       "<tbody>\n",
       "\t<tr><td>105</td><td>Google     </td></tr>\n",
       "\t<tr><td>106</td><td>meet       </td></tr>\n",
       "\t<tr><td>109</td><td>Google Meet</td></tr>\n",
       "</tbody>\n",
       "</table>\n"
      ],
      "text/latex": [
       "A tibble: 3 × 2\n",
       "\\begin{tabular}{ll}\n",
       " tch\\_id & online\\_platform\\\\\n",
       " <dbl> & <chr>\\\\\n",
       "\\hline\n",
       "\t 105 & Google     \\\\\n",
       "\t 106 & meet       \\\\\n",
       "\t 109 & Google Meet\\\\\n",
       "\\end{tabular}\n"
      ],
      "text/markdown": [
       "\n",
       "A tibble: 3 × 2\n",
       "\n",
       "| tch_id &lt;dbl&gt; | online_platform &lt;chr&gt; |\n",
       "|---|---|\n",
       "| 105 | Google      |\n",
       "| 106 | meet        |\n",
       "| 109 | Google Meet |\n",
       "\n"
      ],
      "text/plain": [
       "  tch_id online_platform\n",
       "1 105    Google         \n",
       "2 106    meet           \n",
       "3 109    Google Meet    "
      ]
     },
     "metadata": {},
     "output_type": "display_data"
    }
   ],
   "source": [
    "# 希望找出线上平台是google和meet的记录，显然Google和google是一个意思，\n",
    "# 都应该被筛选出\n",
    "## 方法1 使用stringr::regex()\n",
    "df %>% \n",
    "  filter(\n",
    "    str_detect(online_platform, regex(\"google|meet\", ignore_case=TRUE))\n",
    "  )\n",
    "\n",
    "## 方法2 使用(?i)\n",
    "df %>% \n",
    "  filter(\n",
    "    str_detect(online_platform, \"(?i)google|meet\")\n",
    "  )"
   ]
  },
  {
   "cell_type": "markdown",
   "id": "46e40c87",
   "metadata": {},
   "source": [
    "## 解决实际问题\n",
    "### 1 确定一个字符向量是否匹配一种模式\n",
    "- 实际问题中，想判断是否匹配？可以用到`str_detect()`函数，返回逻辑向量\n",
    "- 可用在`filter()`函数中，筛选某列符合条件的行\n",
    "- `stringr::words`包含了牛津字典里常用单词\n",
    "- `str_detect()` 有一个功能类似的函数`str_count()`，区别在于，后者不是简单地返回是或否，而是返回字符串中匹配的数量"
   ]
  },
  {
   "cell_type": "code",
   "execution_count": 30,
   "id": "1e960391",
   "metadata": {},
   "outputs": [
    {
     "data": {
      "text/html": [
       "<style>\n",
       ".list-inline {list-style: none; margin:0; padding: 0}\n",
       ".list-inline>li {display: inline-block}\n",
       ".list-inline>li:not(:last-child)::after {content: \"\\00b7\"; padding: 0 .5ex}\n",
       "</style>\n",
       "<ol class=list-inline><li>TRUE</li><li>FALSE</li><li>TRUE</li></ol>\n"
      ],
      "text/latex": [
       "\\begin{enumerate*}\n",
       "\\item TRUE\n",
       "\\item FALSE\n",
       "\\item TRUE\n",
       "\\end{enumerate*}\n"
      ],
      "text/markdown": [
       "1. TRUE\n",
       "2. FALSE\n",
       "3. TRUE\n",
       "\n",
       "\n"
      ],
      "text/plain": [
       "[1]  TRUE FALSE  TRUE"
      ]
     },
     "metadata": {},
     "output_type": "display_data"
    }
   ],
   "source": [
    "y <- c(\"apple\", \"banana\", \"pear\")\n",
    "str_detect(y, \"e\")"
   ]
  },
  {
   "cell_type": "code",
   "execution_count": 43,
   "id": "1698d1d6",
   "metadata": {},
   "outputs": [
    {
     "data": {
      "text/html": [
       "<table class=\"dataframe\">\n",
       "<caption>A tibble: 3 × 1</caption>\n",
       "<thead>\n",
       "\t<tr><th scope=col>x</th></tr>\n",
       "\t<tr><th scope=col>&lt;chr&gt;</th></tr>\n",
       "</thead>\n",
       "<tbody>\n",
       "\t<tr><td>apple </td></tr>\n",
       "\t<tr><td>banana</td></tr>\n",
       "\t<tr><td>pear  </td></tr>\n",
       "</tbody>\n",
       "</table>\n"
      ],
      "text/latex": [
       "A tibble: 3 × 1\n",
       "\\begin{tabular}{l}\n",
       " x\\\\\n",
       " <chr>\\\\\n",
       "\\hline\n",
       "\t apple \\\\\n",
       "\t banana\\\\\n",
       "\t pear  \\\\\n",
       "\\end{tabular}\n"
      ],
      "text/markdown": [
       "\n",
       "A tibble: 3 × 1\n",
       "\n",
       "| x &lt;chr&gt; |\n",
       "|---|\n",
       "| apple  |\n",
       "| banana |\n",
       "| pear   |\n",
       "\n"
      ],
      "text/plain": [
       "  x     \n",
       "1 apple \n",
       "2 banana\n",
       "3 pear  "
      ]
     },
     "metadata": {},
     "output_type": "display_data"
    },
    {
     "data": {
      "text/html": [
       "<table class=\"dataframe\">\n",
       "<caption>A tibble: 3 × 2</caption>\n",
       "<thead>\n",
       "\t<tr><th scope=col>x</th><th scope=col>has_e</th></tr>\n",
       "\t<tr><th scope=col>&lt;chr&gt;</th><th scope=col>&lt;lgl&gt;</th></tr>\n",
       "</thead>\n",
       "<tbody>\n",
       "\t<tr><td>apple </td><td> TRUE</td></tr>\n",
       "\t<tr><td>banana</td><td>FALSE</td></tr>\n",
       "\t<tr><td>pear  </td><td> TRUE</td></tr>\n",
       "</tbody>\n",
       "</table>\n"
      ],
      "text/latex": [
       "A tibble: 3 × 2\n",
       "\\begin{tabular}{ll}\n",
       " x & has\\_e\\\\\n",
       " <chr> & <lgl>\\\\\n",
       "\\hline\n",
       "\t apple  &  TRUE\\\\\n",
       "\t banana & FALSE\\\\\n",
       "\t pear   &  TRUE\\\\\n",
       "\\end{tabular}\n"
      ],
      "text/markdown": [
       "\n",
       "A tibble: 3 × 2\n",
       "\n",
       "| x &lt;chr&gt; | has_e &lt;lgl&gt; |\n",
       "|---|---|\n",
       "| apple  |  TRUE |\n",
       "| banana | FALSE |\n",
       "| pear   |  TRUE |\n",
       "\n"
      ],
      "text/plain": [
       "  x      has_e\n",
       "1 apple   TRUE\n",
       "2 banana FALSE\n",
       "3 pear    TRUE"
      ]
     },
     "metadata": {},
     "output_type": "display_data"
    },
    {
     "data": {
      "text/html": [
       "<table class=\"dataframe\">\n",
       "<caption>A tibble: 2 × 1</caption>\n",
       "<thead>\n",
       "\t<tr><th scope=col>x</th></tr>\n",
       "\t<tr><th scope=col>&lt;chr&gt;</th></tr>\n",
       "</thead>\n",
       "<tbody>\n",
       "\t<tr><td>apple</td></tr>\n",
       "\t<tr><td>pear </td></tr>\n",
       "</tbody>\n",
       "</table>\n"
      ],
      "text/latex": [
       "A tibble: 2 × 1\n",
       "\\begin{tabular}{l}\n",
       " x\\\\\n",
       " <chr>\\\\\n",
       "\\hline\n",
       "\t apple\\\\\n",
       "\t pear \\\\\n",
       "\\end{tabular}\n"
      ],
      "text/markdown": [
       "\n",
       "A tibble: 2 × 1\n",
       "\n",
       "| x &lt;chr&gt; |\n",
       "|---|\n",
       "| apple |\n",
       "| pear  |\n",
       "\n"
      ],
      "text/plain": [
       "  x    \n",
       "1 apple\n",
       "2 pear "
      ]
     },
     "metadata": {},
     "output_type": "display_data"
    }
   ],
   "source": [
    "d <- tibble(x=c(\"apple\",\"banana\",\"pear\"))\n",
    "d\n",
    "d %>% mutate(has_e = str_detect(x, \"e\"))\n",
    "d %>% dplyr::filter(str_detect(x,\"e\"))"
   ]
  },
  {
   "cell_type": "code",
   "execution_count": 45,
   "id": "22f56b45",
   "metadata": {},
   "outputs": [
    {
     "data": {
      "text/html": [
       "<style>\n",
       ".list-inline {list-style: none; margin:0; padding: 0}\n",
       ".list-inline>li {display: inline-block}\n",
       ".list-inline>li:not(:last-child)::after {content: \"\\00b7\"; padding: 0 .5ex}\n",
       "</style>\n",
       "<ol class=list-inline><li>'a'</li><li>'able'</li><li>'about'</li><li>'absolute'</li><li>'accept'</li><li>'account'</li></ol>\n"
      ],
      "text/latex": [
       "\\begin{enumerate*}\n",
       "\\item 'a'\n",
       "\\item 'able'\n",
       "\\item 'about'\n",
       "\\item 'absolute'\n",
       "\\item 'accept'\n",
       "\\item 'account'\n",
       "\\end{enumerate*}\n"
      ],
      "text/markdown": [
       "1. 'a'\n",
       "2. 'able'\n",
       "3. 'about'\n",
       "4. 'absolute'\n",
       "5. 'accept'\n",
       "6. 'account'\n",
       "\n",
       "\n"
      ],
      "text/plain": [
       "[1] \"a\"        \"able\"     \"about\"    \"absolute\" \"accept\"   \"account\" "
      ]
     },
     "metadata": {},
     "output_type": "display_data"
    }
   ],
   "source": [
    "stringr::words %>% head()"
   ]
  },
  {
   "cell_type": "code",
   "execution_count": 49,
   "id": "f6bc7cad",
   "metadata": {},
   "outputs": [
    {
     "data": {
      "text/html": [
       "65"
      ],
      "text/latex": [
       "65"
      ],
      "text/markdown": [
       "65"
      ],
      "text/plain": [
       "[1] 65"
      ]
     },
     "metadata": {},
     "output_type": "display_data"
    },
    {
     "data": {
      "text/html": [
       "0.276530612244898"
      ],
      "text/latex": [
       "0.276530612244898"
      ],
      "text/markdown": [
       "0.276530612244898"
      ],
      "text/plain": [
       "[1] 0.2765306"
      ]
     },
     "metadata": {},
     "output_type": "display_data"
    },
    {
     "data": {
      "text/html": [
       "<style>\n",
       ".list-inline {list-style: none; margin:0; padding: 0}\n",
       ".list-inline>li {display: inline-block}\n",
       ".list-inline>li:not(:last-child)::after {content: \"\\00b7\"; padding: 0 .5ex}\n",
       "</style>\n",
       "<ol class=list-inline><li>FALSE</li><li>FALSE</li><li>FALSE</li><li>FALSE</li><li>FALSE</li><li>FALSE</li></ol>\n"
      ],
      "text/latex": [
       "\\begin{enumerate*}\n",
       "\\item FALSE\n",
       "\\item FALSE\n",
       "\\item FALSE\n",
       "\\item FALSE\n",
       "\\item FALSE\n",
       "\\item FALSE\n",
       "\\end{enumerate*}\n"
      ],
      "text/markdown": [
       "1. FALSE\n",
       "2. FALSE\n",
       "3. FALSE\n",
       "4. FALSE\n",
       "5. FALSE\n",
       "6. FALSE\n",
       "\n",
       "\n"
      ],
      "text/plain": [
       "[1] FALSE FALSE FALSE FALSE FALSE FALSE"
      ]
     },
     "metadata": {},
     "output_type": "display_data"
    }
   ],
   "source": [
    "## 统计以t开头的单词\n",
    "sum(str_detect(words, \"^t\"))\n",
    "# 以元音结尾的单词，占比多少？\n",
    "mean(str_detect(words, \"[aeiou]$\"))\n",
    "\n",
    "## 所以这里把逻辑向量强制转换为了数字型\n",
    "str_detect(words, \"^t\") %>% head()"
   ]
  },
  {
   "cell_type": "code",
   "execution_count": 50,
   "id": "270e1c36",
   "metadata": {},
   "outputs": [
    {
     "data": {
      "text/html": [
       "<table class=\"dataframe\">\n",
       "<caption>A tibble: 4 × 1</caption>\n",
       "<thead>\n",
       "\t<tr><th scope=col>word</th></tr>\n",
       "\t<tr><th scope=col>&lt;chr&gt;</th></tr>\n",
       "</thead>\n",
       "<tbody>\n",
       "\t<tr><td>box</td></tr>\n",
       "\t<tr><td>sex</td></tr>\n",
       "\t<tr><td>six</td></tr>\n",
       "\t<tr><td>tax</td></tr>\n",
       "</tbody>\n",
       "</table>\n"
      ],
      "text/latex": [
       "A tibble: 4 × 1\n",
       "\\begin{tabular}{l}\n",
       " word\\\\\n",
       " <chr>\\\\\n",
       "\\hline\n",
       "\t box\\\\\n",
       "\t sex\\\\\n",
       "\t six\\\\\n",
       "\t tax\\\\\n",
       "\\end{tabular}\n"
      ],
      "text/markdown": [
       "\n",
       "A tibble: 4 × 1\n",
       "\n",
       "| word &lt;chr&gt; |\n",
       "|---|\n",
       "| box |\n",
       "| sex |\n",
       "| six |\n",
       "| tax |\n",
       "\n"
      ],
      "text/plain": [
       "  word\n",
       "1 box \n",
       "2 sex \n",
       "3 six \n",
       "4 tax "
      ]
     },
     "metadata": {},
     "output_type": "display_data"
    }
   ],
   "source": [
    "# 在数据框里, 看看以x结尾的单词是哪些\n",
    "\n",
    "tibble(\n",
    "  word = words\n",
    ") %>% \n",
    "  dplyr::filter(str_detect(word, \"x$\"))"
   ]
  },
  {
   "cell_type": "code",
   "execution_count": 51,
   "id": "cb680a6e",
   "metadata": {},
   "outputs": [
    {
     "data": {
      "text/html": [
       "<style>\n",
       ".list-inline {list-style: none; margin:0; padding: 0}\n",
       ".list-inline>li {display: inline-block}\n",
       ".list-inline>li:not(:last-child)::after {content: \"\\00b7\"; padding: 0 .5ex}\n",
       "</style>\n",
       "<ol class=list-inline><li>1</li><li>3</li><li>1</li></ol>\n"
      ],
      "text/latex": [
       "\\begin{enumerate*}\n",
       "\\item 1\n",
       "\\item 3\n",
       "\\item 1\n",
       "\\end{enumerate*}\n"
      ],
      "text/markdown": [
       "1. 1\n",
       "2. 3\n",
       "3. 1\n",
       "\n",
       "\n"
      ],
      "text/plain": [
       "[1] 1 3 1"
      ]
     },
     "metadata": {},
     "output_type": "display_data"
    }
   ],
   "source": [
    "# str_count() 函数，返回字符串中匹配的数量\n",
    "x <- c(\"apple\", \"banana\", \"pear\")\n",
    "str_count(x, \"a\")"
   ]
  },
  {
   "cell_type": "code",
   "execution_count": 52,
   "id": "b2a20b69",
   "metadata": {},
   "outputs": [
    {
     "data": {
      "text/html": [
       "<table class=\"dataframe\">\n",
       "<caption>A tibble: 980 × 3</caption>\n",
       "<thead>\n",
       "\t<tr><th scope=col>word</th><th scope=col>vowels</th><th scope=col>consonants</th></tr>\n",
       "\t<tr><th scope=col>&lt;chr&gt;</th><th scope=col>&lt;int&gt;</th><th scope=col>&lt;int&gt;</th></tr>\n",
       "</thead>\n",
       "<tbody>\n",
       "\t<tr><td>a        </td><td>1</td><td>0</td></tr>\n",
       "\t<tr><td>able     </td><td>2</td><td>2</td></tr>\n",
       "\t<tr><td>about    </td><td>3</td><td>2</td></tr>\n",
       "\t<tr><td>absolute </td><td>4</td><td>4</td></tr>\n",
       "\t<tr><td>accept   </td><td>2</td><td>4</td></tr>\n",
       "\t<tr><td>account  </td><td>3</td><td>4</td></tr>\n",
       "\t<tr><td>achieve  </td><td>4</td><td>3</td></tr>\n",
       "\t<tr><td>across   </td><td>2</td><td>4</td></tr>\n",
       "\t<tr><td>act      </td><td>1</td><td>2</td></tr>\n",
       "\t<tr><td>active   </td><td>3</td><td>3</td></tr>\n",
       "\t<tr><td>actual   </td><td>3</td><td>3</td></tr>\n",
       "\t<tr><td>add      </td><td>1</td><td>2</td></tr>\n",
       "\t<tr><td>address  </td><td>2</td><td>5</td></tr>\n",
       "\t<tr><td>admit    </td><td>2</td><td>3</td></tr>\n",
       "\t<tr><td>advertise</td><td>4</td><td>5</td></tr>\n",
       "\t<tr><td>affect   </td><td>2</td><td>4</td></tr>\n",
       "\t<tr><td>afford   </td><td>2</td><td>4</td></tr>\n",
       "\t<tr><td>after    </td><td>2</td><td>3</td></tr>\n",
       "\t<tr><td>afternoon</td><td>4</td><td>5</td></tr>\n",
       "\t<tr><td>again    </td><td>3</td><td>2</td></tr>\n",
       "\t<tr><td>against  </td><td>3</td><td>4</td></tr>\n",
       "\t<tr><td>age      </td><td>2</td><td>1</td></tr>\n",
       "\t<tr><td>agent    </td><td>2</td><td>3</td></tr>\n",
       "\t<tr><td>ago      </td><td>2</td><td>1</td></tr>\n",
       "\t<tr><td>agree    </td><td>3</td><td>2</td></tr>\n",
       "\t<tr><td>air      </td><td>2</td><td>1</td></tr>\n",
       "\t<tr><td>all      </td><td>1</td><td>2</td></tr>\n",
       "\t<tr><td>allow    </td><td>2</td><td>3</td></tr>\n",
       "\t<tr><td>almost   </td><td>2</td><td>4</td></tr>\n",
       "\t<tr><td>along    </td><td>2</td><td>3</td></tr>\n",
       "\t<tr><td>⋮</td><td>⋮</td><td>⋮</td></tr>\n",
       "\t<tr><td>whole    </td><td>2</td><td>3</td></tr>\n",
       "\t<tr><td>why      </td><td>0</td><td>3</td></tr>\n",
       "\t<tr><td>wide     </td><td>2</td><td>2</td></tr>\n",
       "\t<tr><td>wife     </td><td>2</td><td>2</td></tr>\n",
       "\t<tr><td>will     </td><td>1</td><td>3</td></tr>\n",
       "\t<tr><td>win      </td><td>1</td><td>2</td></tr>\n",
       "\t<tr><td>wind     </td><td>1</td><td>3</td></tr>\n",
       "\t<tr><td>window   </td><td>2</td><td>4</td></tr>\n",
       "\t<tr><td>wish     </td><td>1</td><td>3</td></tr>\n",
       "\t<tr><td>with     </td><td>1</td><td>3</td></tr>\n",
       "\t<tr><td>within   </td><td>2</td><td>4</td></tr>\n",
       "\t<tr><td>without  </td><td>3</td><td>4</td></tr>\n",
       "\t<tr><td>woman    </td><td>2</td><td>3</td></tr>\n",
       "\t<tr><td>wonder   </td><td>2</td><td>4</td></tr>\n",
       "\t<tr><td>wood     </td><td>2</td><td>2</td></tr>\n",
       "\t<tr><td>word     </td><td>1</td><td>3</td></tr>\n",
       "\t<tr><td>work     </td><td>1</td><td>3</td></tr>\n",
       "\t<tr><td>world    </td><td>1</td><td>4</td></tr>\n",
       "\t<tr><td>worry    </td><td>1</td><td>4</td></tr>\n",
       "\t<tr><td>worse    </td><td>2</td><td>3</td></tr>\n",
       "\t<tr><td>worth    </td><td>1</td><td>4</td></tr>\n",
       "\t<tr><td>would    </td><td>2</td><td>3</td></tr>\n",
       "\t<tr><td>write    </td><td>2</td><td>3</td></tr>\n",
       "\t<tr><td>wrong    </td><td>1</td><td>4</td></tr>\n",
       "\t<tr><td>year     </td><td>2</td><td>2</td></tr>\n",
       "\t<tr><td>yes      </td><td>1</td><td>2</td></tr>\n",
       "\t<tr><td>yesterday</td><td>3</td><td>6</td></tr>\n",
       "\t<tr><td>yet      </td><td>1</td><td>2</td></tr>\n",
       "\t<tr><td>you      </td><td>2</td><td>1</td></tr>\n",
       "\t<tr><td>young    </td><td>2</td><td>3</td></tr>\n",
       "</tbody>\n",
       "</table>\n"
      ],
      "text/latex": [
       "A tibble: 980 × 3\n",
       "\\begin{tabular}{lll}\n",
       " word & vowels & consonants\\\\\n",
       " <chr> & <int> & <int>\\\\\n",
       "\\hline\n",
       "\t a         & 1 & 0\\\\\n",
       "\t able      & 2 & 2\\\\\n",
       "\t about     & 3 & 2\\\\\n",
       "\t absolute  & 4 & 4\\\\\n",
       "\t accept    & 2 & 4\\\\\n",
       "\t account   & 3 & 4\\\\\n",
       "\t achieve   & 4 & 3\\\\\n",
       "\t across    & 2 & 4\\\\\n",
       "\t act       & 1 & 2\\\\\n",
       "\t active    & 3 & 3\\\\\n",
       "\t actual    & 3 & 3\\\\\n",
       "\t add       & 1 & 2\\\\\n",
       "\t address   & 2 & 5\\\\\n",
       "\t admit     & 2 & 3\\\\\n",
       "\t advertise & 4 & 5\\\\\n",
       "\t affect    & 2 & 4\\\\\n",
       "\t afford    & 2 & 4\\\\\n",
       "\t after     & 2 & 3\\\\\n",
       "\t afternoon & 4 & 5\\\\\n",
       "\t again     & 3 & 2\\\\\n",
       "\t against   & 3 & 4\\\\\n",
       "\t age       & 2 & 1\\\\\n",
       "\t agent     & 2 & 3\\\\\n",
       "\t ago       & 2 & 1\\\\\n",
       "\t agree     & 3 & 2\\\\\n",
       "\t air       & 2 & 1\\\\\n",
       "\t all       & 1 & 2\\\\\n",
       "\t allow     & 2 & 3\\\\\n",
       "\t almost    & 2 & 4\\\\\n",
       "\t along     & 2 & 3\\\\\n",
       "\t ⋮ & ⋮ & ⋮\\\\\n",
       "\t whole     & 2 & 3\\\\\n",
       "\t why       & 0 & 3\\\\\n",
       "\t wide      & 2 & 2\\\\\n",
       "\t wife      & 2 & 2\\\\\n",
       "\t will      & 1 & 3\\\\\n",
       "\t win       & 1 & 2\\\\\n",
       "\t wind      & 1 & 3\\\\\n",
       "\t window    & 2 & 4\\\\\n",
       "\t wish      & 1 & 3\\\\\n",
       "\t with      & 1 & 3\\\\\n",
       "\t within    & 2 & 4\\\\\n",
       "\t without   & 3 & 4\\\\\n",
       "\t woman     & 2 & 3\\\\\n",
       "\t wonder    & 2 & 4\\\\\n",
       "\t wood      & 2 & 2\\\\\n",
       "\t word      & 1 & 3\\\\\n",
       "\t work      & 1 & 3\\\\\n",
       "\t world     & 1 & 4\\\\\n",
       "\t worry     & 1 & 4\\\\\n",
       "\t worse     & 2 & 3\\\\\n",
       "\t worth     & 1 & 4\\\\\n",
       "\t would     & 2 & 3\\\\\n",
       "\t write     & 2 & 3\\\\\n",
       "\t wrong     & 1 & 4\\\\\n",
       "\t year      & 2 & 2\\\\\n",
       "\t yes       & 1 & 2\\\\\n",
       "\t yesterday & 3 & 6\\\\\n",
       "\t yet       & 1 & 2\\\\\n",
       "\t you       & 2 & 1\\\\\n",
       "\t young     & 2 & 3\\\\\n",
       "\\end{tabular}\n"
      ],
      "text/markdown": [
       "\n",
       "A tibble: 980 × 3\n",
       "\n",
       "| word &lt;chr&gt; | vowels &lt;int&gt; | consonants &lt;int&gt; |\n",
       "|---|---|---|\n",
       "| a         | 1 | 0 |\n",
       "| able      | 2 | 2 |\n",
       "| about     | 3 | 2 |\n",
       "| absolute  | 4 | 4 |\n",
       "| accept    | 2 | 4 |\n",
       "| account   | 3 | 4 |\n",
       "| achieve   | 4 | 3 |\n",
       "| across    | 2 | 4 |\n",
       "| act       | 1 | 2 |\n",
       "| active    | 3 | 3 |\n",
       "| actual    | 3 | 3 |\n",
       "| add       | 1 | 2 |\n",
       "| address   | 2 | 5 |\n",
       "| admit     | 2 | 3 |\n",
       "| advertise | 4 | 5 |\n",
       "| affect    | 2 | 4 |\n",
       "| afford    | 2 | 4 |\n",
       "| after     | 2 | 3 |\n",
       "| afternoon | 4 | 5 |\n",
       "| again     | 3 | 2 |\n",
       "| against   | 3 | 4 |\n",
       "| age       | 2 | 1 |\n",
       "| agent     | 2 | 3 |\n",
       "| ago       | 2 | 1 |\n",
       "| agree     | 3 | 2 |\n",
       "| air       | 2 | 1 |\n",
       "| all       | 1 | 2 |\n",
       "| allow     | 2 | 3 |\n",
       "| almost    | 2 | 4 |\n",
       "| along     | 2 | 3 |\n",
       "| ⋮ | ⋮ | ⋮ |\n",
       "| whole     | 2 | 3 |\n",
       "| why       | 0 | 3 |\n",
       "| wide      | 2 | 2 |\n",
       "| wife      | 2 | 2 |\n",
       "| will      | 1 | 3 |\n",
       "| win       | 1 | 2 |\n",
       "| wind      | 1 | 3 |\n",
       "| window    | 2 | 4 |\n",
       "| wish      | 1 | 3 |\n",
       "| with      | 1 | 3 |\n",
       "| within    | 2 | 4 |\n",
       "| without   | 3 | 4 |\n",
       "| woman     | 2 | 3 |\n",
       "| wonder    | 2 | 4 |\n",
       "| wood      | 2 | 2 |\n",
       "| word      | 1 | 3 |\n",
       "| work      | 1 | 3 |\n",
       "| world     | 1 | 4 |\n",
       "| worry     | 1 | 4 |\n",
       "| worse     | 2 | 3 |\n",
       "| worth     | 1 | 4 |\n",
       "| would     | 2 | 3 |\n",
       "| write     | 2 | 3 |\n",
       "| wrong     | 1 | 4 |\n",
       "| year      | 2 | 2 |\n",
       "| yes       | 1 | 2 |\n",
       "| yesterday | 3 | 6 |\n",
       "| yet       | 1 | 2 |\n",
       "| you       | 2 | 1 |\n",
       "| young     | 2 | 3 |\n",
       "\n"
      ],
      "text/plain": [
       "    word      vowels consonants\n",
       "1   a         1      0         \n",
       "2   able      2      2         \n",
       "3   about     3      2         \n",
       "4   absolute  4      4         \n",
       "5   accept    2      4         \n",
       "6   account   3      4         \n",
       "7   achieve   4      3         \n",
       "8   across    2      4         \n",
       "9   act       1      2         \n",
       "10  active    3      3         \n",
       "11  actual    3      3         \n",
       "12  add       1      2         \n",
       "13  address   2      5         \n",
       "14  admit     2      3         \n",
       "15  advertise 4      5         \n",
       "16  affect    2      4         \n",
       "17  afford    2      4         \n",
       "18  after     2      3         \n",
       "19  afternoon 4      5         \n",
       "20  again     3      2         \n",
       "21  against   3      4         \n",
       "22  age       2      1         \n",
       "23  agent     2      3         \n",
       "24  ago       2      1         \n",
       "25  agree     3      2         \n",
       "26  air       2      1         \n",
       "27  all       1      2         \n",
       "28  allow     2      3         \n",
       "29  almost    2      4         \n",
       "30  along     2      3         \n",
       "⋮   ⋮         ⋮      ⋮         \n",
       "951 whole     2      3         \n",
       "952 why       0      3         \n",
       "953 wide      2      2         \n",
       "954 wife      2      2         \n",
       "955 will      1      3         \n",
       "956 win       1      2         \n",
       "957 wind      1      3         \n",
       "958 window    2      4         \n",
       "959 wish      1      3         \n",
       "960 with      1      3         \n",
       "961 within    2      4         \n",
       "962 without   3      4         \n",
       "963 woman     2      3         \n",
       "964 wonder    2      4         \n",
       "965 wood      2      2         \n",
       "966 word      1      3         \n",
       "967 work      1      3         \n",
       "968 world     1      4         \n",
       "969 worry     1      4         \n",
       "970 worse     2      3         \n",
       "971 worth     1      4         \n",
       "972 would     2      3         \n",
       "973 write     2      3         \n",
       "974 wrong     1      4         \n",
       "975 year      2      2         \n",
       "976 yes       1      2         \n",
       "977 yesterday 3      6         \n",
       "978 yet       1      2         \n",
       "979 you       2      1         \n",
       "980 young     2      3         "
      ]
     },
     "metadata": {},
     "output_type": "display_data"
    }
   ],
   "source": [
    "tibble(\n",
    "  word = words\n",
    ") %>% \n",
    "  mutate(\n",
    "    vowels = str_count(word, \"[aeiou]\"),\n",
    "    consonants = str_count(word, \"[^aeiou]\") # 除了元音字母外的数量\n",
    "  )"
   ]
  },
  {
   "cell_type": "markdown",
   "id": "47087edd",
   "metadata": {},
   "source": [
    "### 2 确定匹配的位置\n",
    "- 正则表达式不会重叠匹配。比如用`\"aba\"`去匹配`\"abababa\"`，肉眼感觉是三次，但正则表达式告诉我们是两次，因为不会重叠匹配\n",
    "- `str_count()` 统计匹配到的数量\n",
    "- `str_view_count()` 查看所有匹配到的位置"
   ]
  },
  {
   "cell_type": "code",
   "execution_count": 53,
   "id": "4740ea95",
   "metadata": {},
   "outputs": [
    {
     "data": {
      "text/html": [
       "2"
      ],
      "text/latex": [
       "2"
      ],
      "text/markdown": [
       "2"
      ],
      "text/plain": [
       "[1] 2"
      ]
     },
     "metadata": {},
     "output_type": "display_data"
    }
   ],
   "source": [
    "str_count(\"abababa\", \"aba\")"
   ]
  },
  {
   "cell_type": "code",
   "execution_count": 76,
   "id": "eff9579f",
   "metadata": {},
   "outputs": [
    {
     "data": {
      "text/plain": [
       "\u001b[90m[1] │\u001b[39m \u001b[36m<aba>\u001b[39mb\u001b[36m<aba>\u001b[39m"
      ]
     },
     "metadata": {},
     "output_type": "display_data"
    }
   ],
   "source": [
    "str_view_all(\"abababa\", \"aba\")"
   ]
  },
  {
   "cell_type": "markdown",
   "id": "6b1a3599",
   "metadata": {},
   "source": [
    "### 3 提取匹配的内容\n",
    "- `str_extract()` 只提取第一个——谁先匹配提取谁\n",
    "- `str_extract_all()`提取全部匹配到的内容\n",
    "  - `unnest()`将匹配到的内容分不同行保存, `keep_empty=TRUE`保留无法展开的行\n",
    "  "
   ]
  },
  {
   "cell_type": "code",
   "execution_count": 65,
   "id": "a84d13cf",
   "metadata": {},
   "outputs": [
    {
     "data": {
      "text/html": [
       "'red|orange|yellow|green|blue|purple'"
      ],
      "text/latex": [
       "'red\\textbar{}orange\\textbar{}yellow\\textbar{}green\\textbar{}blue\\textbar{}purple'"
      ],
      "text/markdown": [
       "'red|orange|yellow|green|blue|purple'"
      ],
      "text/plain": [
       "[1] \"red|orange|yellow|green|blue|purple\""
      ]
     },
     "metadata": {},
     "output_type": "display_data"
    },
    {
     "data": {
      "text/html": [
       "<style>\n",
       ".list-inline {list-style: none; margin:0; padding: 0}\n",
       ".list-inline>li {display: inline-block}\n",
       ".list-inline>li:not(:last-child)::after {content: \"\\00b7\"; padding: 0 .5ex}\n",
       "</style>\n",
       "<ol class=list-inline><li>'red'</li><li>'orange'</li><li>'yellow'</li><li>'green'</li><li>'blue'</li><li>'purple'</li></ol>\n"
      ],
      "text/latex": [
       "\\begin{enumerate*}\n",
       "\\item 'red'\n",
       "\\item 'orange'\n",
       "\\item 'yellow'\n",
       "\\item 'green'\n",
       "\\item 'blue'\n",
       "\\item 'purple'\n",
       "\\end{enumerate*}\n"
      ],
      "text/markdown": [
       "1. 'red'\n",
       "2. 'orange'\n",
       "3. 'yellow'\n",
       "4. 'green'\n",
       "5. 'blue'\n",
       "6. 'purple'\n",
       "\n",
       "\n"
      ],
      "text/plain": [
       "[1] \"red\"    \"orange\" \"yellow\" \"green\"  \"blue\"   \"purple\""
      ]
     },
     "metadata": {},
     "output_type": "display_data"
    }
   ],
   "source": [
    "colours <- c(\n",
    "  \"red\", \"orange\", \"yellow\",\n",
    "  \"green\", \"blue\", \"purple\"\n",
    ")\n",
    "colour_match <- str_c(colours, collapse=\"|\")\n",
    "colour_match1 <- str_c(colours, sep=\"|\")\n",
    "## 直观的感受下 collapse 和 sep 的区别\n",
    "colour_match\n",
    "colour_match1"
   ]
  },
  {
   "cell_type": "code",
   "execution_count": 72,
   "id": "a70c1404",
   "metadata": {},
   "outputs": [
    {
     "data": {
      "text/plain": [
       "\u001b[90m[1] │\u001b[39m \u001b[36m<ab>\u001b[39m\u001b[36m<cd>\u001b[39m"
      ]
     },
     "metadata": {},
     "output_type": "display_data"
    },
    {
     "data": {
      "text/plain": [
       "\u001b[90m[1] │\u001b[39m a\u001b[36m<bc>\u001b[39md"
      ]
     },
     "metadata": {},
     "output_type": "display_data"
    }
   ],
   "source": [
    "str_view(\"abcd\", \"ab|cd\")\n",
    "str_view(\"abcd\", \"[ab][cd]\")"
   ]
  },
  {
   "cell_type": "code",
   "execution_count": 71,
   "id": "07b68c2b",
   "metadata": {},
   "outputs": [
    {
     "data": {
      "text/html": [
       "'blue'"
      ],
      "text/latex": [
       "'blue'"
      ],
      "text/markdown": [
       "'blue'"
      ],
      "text/plain": [
       "[1] \"blue\""
      ]
     },
     "metadata": {},
     "output_type": "display_data"
    },
    {
     "data": {
      "text/html": [
       "<ol>\n",
       "\t<li><style>\n",
       ".list-inline {list-style: none; margin:0; padding: 0}\n",
       ".list-inline>li {display: inline-block}\n",
       ".list-inline>li:not(:last-child)::after {content: \"\\00b7\"; padding: 0 .5ex}\n",
       "</style>\n",
       "<ol class=list-inline><li>'blue'</li><li>'red'</li></ol>\n",
       "</li>\n",
       "</ol>\n"
      ],
      "text/latex": [
       "\\begin{enumerate}\n",
       "\\item \\begin{enumerate*}\n",
       "\\item 'blue'\n",
       "\\item 'red'\n",
       "\\end{enumerate*}\n",
       "\n",
       "\\end{enumerate}\n"
      ],
      "text/markdown": [
       "1. 1. 'blue'\n",
       "2. 'red'\n",
       "\n",
       "\n",
       "\n",
       "\n",
       "\n"
      ],
      "text/plain": [
       "[[1]]\n",
       "[1] \"blue\" \"red\" \n"
      ]
     },
     "metadata": {},
     "output_type": "display_data"
    }
   ],
   "source": [
    "more <- \"It is hard to erase blue or red ink.\"\n",
    "str_extract(more, pattern = colour_match)\n",
    "str_extract_all(more, pattern = colour_match)"
   ]
  },
  {
   "cell_type": "code",
   "execution_count": 79,
   "id": "dba83f5e",
   "metadata": {},
   "outputs": [
    {
     "data": {
      "text/html": [
       "<style>\n",
       ".list-inline {list-style: none; margin:0; padding: 0}\n",
       ".list-inline>li {display: inline-block}\n",
       ".list-inline>li:not(:last-child)::after {content: \"\\00b7\"; padding: 0 .5ex}\n",
       "</style>\n",
       "<ol class=list-inline><li>'It is hard to erase blue or red ink.'</li><li>'The green light in the brown box flickered.'</li><li>'The sky in the west is tinged with orange red.'</li></ol>\n"
      ],
      "text/latex": [
       "\\begin{enumerate*}\n",
       "\\item 'It is hard to erase blue or red ink.'\n",
       "\\item 'The green light in the brown box flickered.'\n",
       "\\item 'The sky in the west is tinged with orange red.'\n",
       "\\end{enumerate*}\n"
      ],
      "text/markdown": [
       "1. 'It is hard to erase blue or red ink.'\n",
       "2. 'The green light in the brown box flickered.'\n",
       "3. 'The sky in the west is tinged with orange red.'\n",
       "\n",
       "\n"
      ],
      "text/plain": [
       "[1] \"It is hard to erase blue or red ink.\"          \n",
       "[2] \"The green light in the brown box flickered.\"   \n",
       "[3] \"The sky in the west is tinged with orange red.\""
      ]
     },
     "metadata": {},
     "output_type": "display_data"
    },
    {
     "data": {
      "text/html": [
       "<table class=\"dataframe\">\n",
       "<caption>A tibble: 3 × 1</caption>\n",
       "<thead>\n",
       "\t<tr><th scope=col>sentence</th></tr>\n",
       "\t<tr><th scope=col>&lt;chr&gt;</th></tr>\n",
       "</thead>\n",
       "<tbody>\n",
       "\t<tr><td>It is hard to erase blue or red ink.          </td></tr>\n",
       "\t<tr><td>The green light in the brown box flickered.   </td></tr>\n",
       "\t<tr><td>The sky in the west is tinged with orange red.</td></tr>\n",
       "</tbody>\n",
       "</table>\n"
      ],
      "text/latex": [
       "A tibble: 3 × 1\n",
       "\\begin{tabular}{l}\n",
       " sentence\\\\\n",
       " <chr>\\\\\n",
       "\\hline\n",
       "\t It is hard to erase blue or red ink.          \\\\\n",
       "\t The green light in the brown box flickered.   \\\\\n",
       "\t The sky in the west is tinged with orange red.\\\\\n",
       "\\end{tabular}\n"
      ],
      "text/markdown": [
       "\n",
       "A tibble: 3 × 1\n",
       "\n",
       "| sentence &lt;chr&gt; |\n",
       "|---|\n",
       "| It is hard to erase blue or red ink.           |\n",
       "| The green light in the brown box flickered.    |\n",
       "| The sky in the west is tinged with orange red. |\n",
       "\n"
      ],
      "text/plain": [
       "  sentence                                      \n",
       "1 It is hard to erase blue or red ink.          \n",
       "2 The green light in the brown box flickered.   \n",
       "3 The sky in the west is tinged with orange red."
      ]
     },
     "metadata": {},
     "output_type": "display_data"
    }
   ],
   "source": [
    "# 取出sentences中，含有有两种和两种颜色以上的句子\n",
    "more <- sentences[str_count(sentences, colour_match) > 1]\n",
    "more\n",
    "\n",
    "tibble(sentence = sentences) %>% \n",
    "  filter(str_count(sentence, colour_match) > 1)"
   ]
  },
  {
   "cell_type": "code",
   "execution_count": 83,
   "id": "003d17d6",
   "metadata": {},
   "outputs": [
    {
     "data": {
      "text/html": [
       "<table class=\"dataframe\">\n",
       "<caption>A tibble: 3 × 2</caption>\n",
       "<thead>\n",
       "\t<tr><th scope=col>x</th><th scope=col>color</th></tr>\n",
       "\t<tr><th scope=col>&lt;chr&gt;</th><th scope=col>&lt;chr&gt;</th></tr>\n",
       "</thead>\n",
       "<tbody>\n",
       "\t<tr><td>It is hard to erase blue or red ink.          </td><td>blue  </td></tr>\n",
       "\t<tr><td>The green light in the brown box flickered.   </td><td>green </td></tr>\n",
       "\t<tr><td>The sky in the west is tinged with orange red.</td><td>orange</td></tr>\n",
       "</tbody>\n",
       "</table>\n"
      ],
      "text/latex": [
       "A tibble: 3 × 2\n",
       "\\begin{tabular}{ll}\n",
       " x & color\\\\\n",
       " <chr> & <chr>\\\\\n",
       "\\hline\n",
       "\t It is hard to erase blue or red ink.           & blue  \\\\\n",
       "\t The green light in the brown box flickered.    & green \\\\\n",
       "\t The sky in the west is tinged with orange red. & orange\\\\\n",
       "\\end{tabular}\n"
      ],
      "text/markdown": [
       "\n",
       "A tibble: 3 × 2\n",
       "\n",
       "| x &lt;chr&gt; | color &lt;chr&gt; |\n",
       "|---|---|\n",
       "| It is hard to erase blue or red ink.           | blue   |\n",
       "| The green light in the brown box flickered.    | green  |\n",
       "| The sky in the west is tinged with orange red. | orange |\n",
       "\n"
      ],
      "text/plain": [
       "  x                                              color \n",
       "1 It is hard to erase blue or red ink.           blue  \n",
       "2 The green light in the brown box flickered.    green \n",
       "3 The sky in the west is tinged with orange red. orange"
      ]
     },
     "metadata": {},
     "output_type": "display_data"
    }
   ],
   "source": [
    "# str_extract()提取匹配, 谁先匹配就提取谁\n",
    "more <- sentences[str_count(sentences, colour_match) > 1]\n",
    "\n",
    "tibble(x = more) %>% \n",
    "  mutate(color = str_extract(x, colour_match))"
   ]
  },
  {
   "cell_type": "code",
   "execution_count": 86,
   "id": "6548a621",
   "metadata": {},
   "outputs": [
    {
     "data": {
      "text/html": [
       "<table class=\"dataframe\">\n",
       "<caption>A tibble: 3 × 2</caption>\n",
       "<thead>\n",
       "\t<tr><th scope=col>x</th><th scope=col>color</th></tr>\n",
       "\t<tr><th scope=col>&lt;chr&gt;</th><th scope=col>&lt;list&gt;</th></tr>\n",
       "</thead>\n",
       "<tbody>\n",
       "\t<tr><td>It is hard to erase blue or red ink.          </td><td>blue, red </td></tr>\n",
       "\t<tr><td>The green light in the brown box flickered.   </td><td>green, red  </td></tr>\n",
       "\t<tr><td>The sky in the west is tinged with orange red.</td><td>orange, red   </td></tr>\n",
       "</tbody>\n",
       "</table>\n"
      ],
      "text/latex": [
       "A tibble: 3 × 2\n",
       "\\begin{tabular}{ll}\n",
       " x & color\\\\\n",
       " <chr> & <list>\\\\\n",
       "\\hline\n",
       "\t It is hard to erase blue or red ink.           & blue, red \\\\\n",
       "\t The green light in the brown box flickered.    & green, red  \\\\\n",
       "\t The sky in the west is tinged with orange red. & orange, red   \\\\\n",
       "\\end{tabular}\n"
      ],
      "text/markdown": [
       "\n",
       "A tibble: 3 × 2\n",
       "\n",
       "| x &lt;chr&gt; | color &lt;list&gt; |\n",
       "|---|---|\n",
       "| It is hard to erase blue or red ink.           | blue, red  |\n",
       "| The green light in the brown box flickered.    | green, red   |\n",
       "| The sky in the west is tinged with orange red. | orange, red    |\n",
       "\n"
      ],
      "text/plain": [
       "  x                                              color         \n",
       "1 It is hard to erase blue or red ink.           blue, red     \n",
       "2 The green light in the brown box flickered.    green, red    \n",
       "3 The sky in the west is tinged with orange red. orange, red   "
      ]
     },
     "metadata": {},
     "output_type": "display_data"
    },
    {
     "data": {
      "text/html": [
       "<table class=\"dataframe\">\n",
       "<caption>A tibble: 6 × 2</caption>\n",
       "<thead>\n",
       "\t<tr><th scope=col>x</th><th scope=col>color</th></tr>\n",
       "\t<tr><th scope=col>&lt;chr&gt;</th><th scope=col>&lt;chr&gt;</th></tr>\n",
       "</thead>\n",
       "<tbody>\n",
       "\t<tr><td>It is hard to erase blue or red ink.          </td><td>blue  </td></tr>\n",
       "\t<tr><td>It is hard to erase blue or red ink.          </td><td>red   </td></tr>\n",
       "\t<tr><td>The green light in the brown box flickered.   </td><td>green </td></tr>\n",
       "\t<tr><td>The green light in the brown box flickered.   </td><td>red   </td></tr>\n",
       "\t<tr><td>The sky in the west is tinged with orange red.</td><td>orange</td></tr>\n",
       "\t<tr><td>The sky in the west is tinged with orange red.</td><td>red   </td></tr>\n",
       "</tbody>\n",
       "</table>\n"
      ],
      "text/latex": [
       "A tibble: 6 × 2\n",
       "\\begin{tabular}{ll}\n",
       " x & color\\\\\n",
       " <chr> & <chr>\\\\\n",
       "\\hline\n",
       "\t It is hard to erase blue or red ink.           & blue  \\\\\n",
       "\t It is hard to erase blue or red ink.           & red   \\\\\n",
       "\t The green light in the brown box flickered.    & green \\\\\n",
       "\t The green light in the brown box flickered.    & red   \\\\\n",
       "\t The sky in the west is tinged with orange red. & orange\\\\\n",
       "\t The sky in the west is tinged with orange red. & red   \\\\\n",
       "\\end{tabular}\n"
      ],
      "text/markdown": [
       "\n",
       "A tibble: 6 × 2\n",
       "\n",
       "| x &lt;chr&gt; | color &lt;chr&gt; |\n",
       "|---|---|\n",
       "| It is hard to erase blue or red ink.           | blue   |\n",
       "| It is hard to erase blue or red ink.           | red    |\n",
       "| The green light in the brown box flickered.    | green  |\n",
       "| The green light in the brown box flickered.    | red    |\n",
       "| The sky in the west is tinged with orange red. | orange |\n",
       "| The sky in the west is tinged with orange red. | red    |\n",
       "\n"
      ],
      "text/plain": [
       "  x                                              color \n",
       "1 It is hard to erase blue or red ink.           blue  \n",
       "2 It is hard to erase blue or red ink.           red   \n",
       "3 The green light in the brown box flickered.    green \n",
       "4 The green light in the brown box flickered.    red   \n",
       "5 The sky in the west is tinged with orange red. orange\n",
       "6 The sky in the west is tinged with orange red. red   "
      ]
     },
     "metadata": {},
     "output_type": "display_data"
    }
   ],
   "source": [
    "# str_extract_all()提取全部匹配项\n",
    "tibble(x = more) %>% \n",
    "  mutate(color = str_extract_all(x, colour_match))\n",
    "\n",
    "tibble(x = more) %>% \n",
    "  mutate(color = str_extract_all(x, colour_match)) %>% \n",
    "  unnest(color)"
   ]
  },
  {
   "cell_type": "markdown",
   "id": "3d94a5c9",
   "metadata": {},
   "source": [
    "### 4 替换匹配内容\n",
    " - `str_replace()`  替换首个匹配\n",
    " - `str_replace_all()` 替换所有匹配"
   ]
  },
  {
   "cell_type": "code",
   "execution_count": 88,
   "id": "796d1ea7",
   "metadata": {},
   "outputs": [
    {
     "data": {
      "text/html": [
       "<style>\n",
       ".list-inline {list-style: none; margin:0; padding: 0}\n",
       ".list-inline>li {display: inline-block}\n",
       ".list-inline>li:not(:last-child)::after {content: \"\\00b7\"; padding: 0 .5ex}\n",
       "</style>\n",
       "<ol class=list-inline><li>'-pple'</li><li>'p-ar'</li><li>'b-nana'</li></ol>\n"
      ],
      "text/latex": [
       "\\begin{enumerate*}\n",
       "\\item '-pple'\n",
       "\\item 'p-ar'\n",
       "\\item 'b-nana'\n",
       "\\end{enumerate*}\n"
      ],
      "text/markdown": [
       "1. '-pple'\n",
       "2. 'p-ar'\n",
       "3. 'b-nana'\n",
       "\n",
       "\n"
      ],
      "text/plain": [
       "[1] \"-pple\"  \"p-ar\"   \"b-nana\""
      ]
     },
     "metadata": {},
     "output_type": "display_data"
    }
   ],
   "source": [
    "x <- c(\"apple\", \"pear\", \"banana\")\n",
    "str_replace(x, \"[aeiou]\", \"-\")"
   ]
  },
  {
   "cell_type": "code",
   "execution_count": 89,
   "id": "d896af36",
   "metadata": {},
   "outputs": [
    {
     "data": {
      "text/html": [
       "<style>\n",
       ".list-inline {list-style: none; margin:0; padding: 0}\n",
       ".list-inline>li {display: inline-block}\n",
       ".list-inline>li:not(:last-child)::after {content: \"\\00b7\"; padding: 0 .5ex}\n",
       "</style>\n",
       "<ol class=list-inline><li>'-ppl-'</li><li>'p--r'</li><li>'b-n-n-'</li></ol>\n"
      ],
      "text/latex": [
       "\\begin{enumerate*}\n",
       "\\item '-ppl-'\n",
       "\\item 'p--r'\n",
       "\\item 'b-n-n-'\n",
       "\\end{enumerate*}\n"
      ],
      "text/markdown": [
       "1. '-ppl-'\n",
       "2. 'p--r'\n",
       "3. 'b-n-n-'\n",
       "\n",
       "\n"
      ],
      "text/plain": [
       "[1] \"-ppl-\"  \"p--r\"   \"b-n-n-\""
      ]
     },
     "metadata": {},
     "output_type": "display_data"
    }
   ],
   "source": [
    "str_replace_all(x, \"[aeiou]\", \"-\")"
   ]
  },
  {
   "cell_type": "markdown",
   "id": "8854a193",
   "metadata": {},
   "source": [
    "### 5 拆分字符串\n",
    "- 这个和`str_c()`是相反的操作\n",
    "- `str_split()` `simplify=TRUE`将其转化为数据框\n",
    "- `n = 2`：这意味着每个原始字符串最多会被分割成两部分。例如，如果有多个冒号和空格，只会取前两个分隔后的部分。"
   ]
  },
  {
   "cell_type": "code",
   "execution_count": 91,
   "id": "c1a80e8a",
   "metadata": {},
   "outputs": [
    {
     "data": {
      "text/html": [
       "'I love my country'"
      ],
      "text/latex": [
       "'I love my country'"
      ],
      "text/markdown": [
       "'I love my country'"
      ],
      "text/plain": [
       "[1] \"I love my country\""
      ]
     },
     "metadata": {},
     "output_type": "display_data"
    },
    {
     "data": {
      "text/html": [
       "<ol>\n",
       "\t<li><style>\n",
       ".list-inline {list-style: none; margin:0; padding: 0}\n",
       ".list-inline>li {display: inline-block}\n",
       ".list-inline>li:not(:last-child)::after {content: \"\\00b7\"; padding: 0 .5ex}\n",
       "</style>\n",
       "<ol class=list-inline><li>'I'</li><li>'love'</li><li>'my'</li><li>'country'</li></ol>\n",
       "</li>\n",
       "</ol>\n"
      ],
      "text/latex": [
       "\\begin{enumerate}\n",
       "\\item \\begin{enumerate*}\n",
       "\\item 'I'\n",
       "\\item 'love'\n",
       "\\item 'my'\n",
       "\\item 'country'\n",
       "\\end{enumerate*}\n",
       "\n",
       "\\end{enumerate}\n"
      ],
      "text/markdown": [
       "1. 1. 'I'\n",
       "2. 'love'\n",
       "3. 'my'\n",
       "4. 'country'\n",
       "\n",
       "\n",
       "\n",
       "\n",
       "\n"
      ],
      "text/plain": [
       "[[1]]\n",
       "[1] \"I\"       \"love\"    \"my\"      \"country\"\n"
      ]
     },
     "metadata": {},
     "output_type": "display_data"
    }
   ],
   "source": [
    "lines <- \"I love my country\"\n",
    "lines\n",
    "str_split(lines, \" \")"
   ]
  },
  {
   "cell_type": "code",
   "execution_count": 100,
   "id": "8b4e8b41",
   "metadata": {},
   "outputs": [
    {
     "data": {
      "text/html": [
       "<style>\n",
       ".list-inline {list-style: none; margin:0; padding: 0}\n",
       ".list-inline>li {display: inline-block}\n",
       ".list-inline>li:not(:last-child)::after {content: \"\\00b7\"; padding: 0 .5ex}\n",
       "</style>\n",
       "<ol class=list-inline><li>'Name: Hadley'</li><li>'Country: N: Z'</li><li>'Age: 35'</li></ol>\n"
      ],
      "text/latex": [
       "\\begin{enumerate*}\n",
       "\\item 'Name: Hadley'\n",
       "\\item 'Country: N: Z'\n",
       "\\item 'Age: 35'\n",
       "\\end{enumerate*}\n"
      ],
      "text/markdown": [
       "1. 'Name: Hadley'\n",
       "2. 'Country: N: Z'\n",
       "3. 'Age: 35'\n",
       "\n",
       "\n"
      ],
      "text/plain": [
       "[1] \"Name: Hadley\"  \"Country: N: Z\" \"Age: 35\"      "
      ]
     },
     "metadata": {},
     "output_type": "display_data"
    },
    {
     "data": {
      "text/html": [
       "<table class=\"dataframe\">\n",
       "<caption>A matrix: 3 × 2 of type chr</caption>\n",
       "<tbody>\n",
       "\t<tr><td>Name   </td><td>Hadley</td></tr>\n",
       "\t<tr><td>Country</td><td>N: Z  </td></tr>\n",
       "\t<tr><td>Age    </td><td>35    </td></tr>\n",
       "</tbody>\n",
       "</table>\n"
      ],
      "text/latex": [
       "A matrix: 3 × 2 of type chr\n",
       "\\begin{tabular}{ll}\n",
       "\t Name    & Hadley\\\\\n",
       "\t Country & N: Z  \\\\\n",
       "\t Age     & 35    \\\\\n",
       "\\end{tabular}\n"
      ],
      "text/markdown": [
       "\n",
       "A matrix: 3 × 2 of type chr\n",
       "\n",
       "| Name    | Hadley |\n",
       "| Country | N: Z   |\n",
       "| Age     | 35     |\n",
       "\n"
      ],
      "text/plain": [
       "     [,1]    [,2]  \n",
       "[1,] Name    Hadley\n",
       "[2,] Country N: Z  \n",
       "[3,] Age     35    "
      ]
     },
     "metadata": {},
     "output_type": "display_data"
    },
    {
     "data": {
      "text/html": [
       "<ol>\n",
       "\t<li><style>\n",
       ".list-inline {list-style: none; margin:0; padding: 0}\n",
       ".list-inline>li {display: inline-block}\n",
       ".list-inline>li:not(:last-child)::after {content: \"\\00b7\"; padding: 0 .5ex}\n",
       "</style>\n",
       "<ol class=list-inline><li>'Name'</li><li>'Hadley'</li></ol>\n",
       "</li>\n",
       "\t<li><style>\n",
       ".list-inline {list-style: none; margin:0; padding: 0}\n",
       ".list-inline>li {display: inline-block}\n",
       ".list-inline>li:not(:last-child)::after {content: \"\\00b7\"; padding: 0 .5ex}\n",
       "</style>\n",
       "<ol class=list-inline><li>'Country'</li><li>'N'</li><li>'Z'</li></ol>\n",
       "</li>\n",
       "\t<li><style>\n",
       ".list-inline {list-style: none; margin:0; padding: 0}\n",
       ".list-inline>li {display: inline-block}\n",
       ".list-inline>li:not(:last-child)::after {content: \"\\00b7\"; padding: 0 .5ex}\n",
       "</style>\n",
       "<ol class=list-inline><li>'Age'</li><li>'35'</li></ol>\n",
       "</li>\n",
       "</ol>\n"
      ],
      "text/latex": [
       "\\begin{enumerate}\n",
       "\\item \\begin{enumerate*}\n",
       "\\item 'Name'\n",
       "\\item 'Hadley'\n",
       "\\end{enumerate*}\n",
       "\n",
       "\\item \\begin{enumerate*}\n",
       "\\item 'Country'\n",
       "\\item 'N'\n",
       "\\item 'Z'\n",
       "\\end{enumerate*}\n",
       "\n",
       "\\item \\begin{enumerate*}\n",
       "\\item 'Age'\n",
       "\\item '35'\n",
       "\\end{enumerate*}\n",
       "\n",
       "\\end{enumerate}\n"
      ],
      "text/markdown": [
       "1. 1. 'Name'\n",
       "2. 'Hadley'\n",
       "\n",
       "\n",
       "\n",
       "2. 1. 'Country'\n",
       "2. 'N'\n",
       "3. 'Z'\n",
       "\n",
       "\n",
       "\n",
       "3. 1. 'Age'\n",
       "2. '35'\n",
       "\n",
       "\n",
       "\n",
       "\n",
       "\n"
      ],
      "text/plain": [
       "[[1]]\n",
       "[1] \"Name\"   \"Hadley\"\n",
       "\n",
       "[[2]]\n",
       "[1] \"Country\" \"N\"       \"Z\"      \n",
       "\n",
       "[[3]]\n",
       "[1] \"Age\" \"35\" \n"
      ]
     },
     "metadata": {},
     "output_type": "display_data"
    },
    {
     "data": {
      "text/html": [
       "<table class=\"dataframe\">\n",
       "<caption>A matrix: 3 × 3 of type chr</caption>\n",
       "<tbody>\n",
       "\t<tr><td>Name   </td><td>Hadley</td><td> </td></tr>\n",
       "\t<tr><td>Country</td><td>N     </td><td>Z</td></tr>\n",
       "\t<tr><td>Age    </td><td>35    </td><td> </td></tr>\n",
       "</tbody>\n",
       "</table>\n"
      ],
      "text/latex": [
       "A matrix: 3 × 3 of type chr\n",
       "\\begin{tabular}{lll}\n",
       "\t Name    & Hadley &  \\\\\n",
       "\t Country & N      & Z\\\\\n",
       "\t Age     & 35     &  \\\\\n",
       "\\end{tabular}\n"
      ],
      "text/markdown": [
       "\n",
       "A matrix: 3 × 3 of type chr\n",
       "\n",
       "| Name    | Hadley | <!----> |\n",
       "| Country | N      | Z |\n",
       "| Age     | 35     | <!----> |\n",
       "\n"
      ],
      "text/plain": [
       "     [,1]    [,2]   [,3]\n",
       "[1,] Name    Hadley     \n",
       "[2,] Country N      Z   \n",
       "[3,] Age     35         "
      ]
     },
     "metadata": {},
     "output_type": "display_data"
    }
   ],
   "source": [
    "fields <- c(\"Name: Hadley\", \"Country: N: Z\", \"Age: 35\")\n",
    "fields\n",
    "fields %>% str_split(\": \", n = 2, simplify=TRUE)\n",
    "fields %>% str_split(\": \")\n",
    "fields %>% str_split(\": \", n = 3, simplify=TRUE)"
   ]
  },
  {
   "cell_type": "markdown",
   "id": "51e81c05",
   "metadata": {},
   "source": [
    "## 进阶部分\n",
    "带有条件的匹配\n",
    "### 1 `look ahead`\n",
    "Windows后面的 `() `是匹配条件，事实上，有四种情形：\n",
    "\n",
    "- `(?=pattern)` 要求此位置的**后面**必须匹配表达式pattern\n",
    "- `(?!pattern)` 要求此位置的**后面**不能匹配表达式pattern\n",
    "\n",
    "### 2 `look behind`\n",
    "- `(?<=pattern)` 要求此位置的**前面**必须匹配表达式pattern\n",
    "- `(?<!pattern)` 要求此位置的**前面**不能匹配表达式pattern"
   ]
  },
  {
   "cell_type": "code",
   "execution_count": 103,
   "id": "151662fd",
   "metadata": {},
   "outputs": [
    {
     "data": {
      "text/plain": [
       "\u001b[90m[1] │\u001b[39m \u001b[36m<Windows>\u001b[39m2000"
      ]
     },
     "metadata": {},
     "output_type": "display_data"
    },
    {
     "data": {
      "text/plain": [
       "\u001b[90m[2] │\u001b[39m \u001b[36m<Windows>\u001b[39m\n",
       "\u001b[90m[3] │\u001b[39m \u001b[36m<Windows>\u001b[39m3.1"
      ]
     },
     "metadata": {},
     "output_type": "display_data"
    }
   ],
   "source": [
    "# `look ahead`\n",
    "# 想匹配Windows，同时希望Windows右侧是\"95\", \"98\", \"NT\", \"2000\"中的一个\n",
    "win <- c(\"Windows2000\", \"Windows\", \"Windows3.1\")\n",
    "str_view(win, \"Windows(?=95|98|NT|2000)\")\n",
    "str_view(win, \"Windows(?!95|98|NT|2000)\")"
   ]
  },
  {
   "cell_type": "code",
   "execution_count": 105,
   "id": "1dcd8932",
   "metadata": {},
   "outputs": [
    {
     "data": {
      "text/plain": [
       "\u001b[90m[1] │\u001b[39m 2000\u001b[36m<Windows>\u001b[39m"
      ]
     },
     "metadata": {},
     "output_type": "display_data"
    },
    {
     "data": {
      "text/plain": [
       "\u001b[90m[2] │\u001b[39m \u001b[36m<Windows>\u001b[39m\n",
       "\u001b[90m[3] │\u001b[39m 3.1\u001b[36m<Windows>\u001b[39m"
      ]
     },
     "metadata": {},
     "output_type": "display_data"
    }
   ],
   "source": [
    "## look behind\n",
    "win <- c(\"2000Windows\", \"Windows\", \"3.1Windows\")\n",
    "str_view(win, \"(?<=95|98|NT|2000)Windows\")\n",
    "str_view(win, \"(?<!95|98|NT|2000)Windows\")"
   ]
  },
  {
   "cell_type": "markdown",
   "id": "914278be",
   "metadata": {},
   "source": [
    "## 案例分析\n",
    "- `tidyr::extract()`提取匹配到pattern的整个元素，而不是pattern\n",
    "- `tidyr::extract(x, c(), \"pattern\")` `c()`将匹配到的元素分成几列的列名，几列与pattern有关，pattern有几个`()`就几列\n",
    "### 案例1"
   ]
  },
  {
   "cell_type": "code",
   "execution_count": 108,
   "id": "a0f54d89",
   "metadata": {},
   "outputs": [
    {
     "data": {
      "text/html": [
       "<table class=\"dataframe\">\n",
       "<caption>A tibble: 4 × 2</caption>\n",
       "<thead>\n",
       "\t<tr><th scope=col>x</th><th scope=col>y</th></tr>\n",
       "\t<tr><th scope=col>&lt;int&gt;</th><th scope=col>&lt;chr&gt;</th></tr>\n",
       "</thead>\n",
       "<tbody>\n",
       "\t<tr><td>1</td><td>wk 3  </td></tr>\n",
       "\t<tr><td>2</td><td>week-1</td></tr>\n",
       "\t<tr><td>3</td><td>7     </td></tr>\n",
       "\t<tr><td>4</td><td>w#9   </td></tr>\n",
       "</tbody>\n",
       "</table>\n"
      ],
      "text/latex": [
       "A tibble: 4 × 2\n",
       "\\begin{tabular}{ll}\n",
       " x & y\\\\\n",
       " <int> & <chr>\\\\\n",
       "\\hline\n",
       "\t 1 & wk 3  \\\\\n",
       "\t 2 & week-1\\\\\n",
       "\t 3 & 7     \\\\\n",
       "\t 4 & w\\#9   \\\\\n",
       "\\end{tabular}\n"
      ],
      "text/markdown": [
       "\n",
       "A tibble: 4 × 2\n",
       "\n",
       "| x &lt;int&gt; | y &lt;chr&gt; |\n",
       "|---|---|\n",
       "| 1 | wk 3   |\n",
       "| 2 | week-1 |\n",
       "| 3 | 7      |\n",
       "| 4 | w#9    |\n",
       "\n"
      ],
      "text/plain": [
       "  x y     \n",
       "1 1 wk 3  \n",
       "2 2 week-1\n",
       "3 3 7     \n",
       "4 4 w#9   "
      ]
     },
     "metadata": {},
     "output_type": "display_data"
    },
    {
     "data": {
      "text/html": [
       "<table class=\"dataframe\">\n",
       "<caption>A tibble: 4 × 3</caption>\n",
       "<thead>\n",
       "\t<tr><th scope=col>x</th><th scope=col>y</th><th scope=col>z</th></tr>\n",
       "\t<tr><th scope=col>&lt;int&gt;</th><th scope=col>&lt;chr&gt;</th><th scope=col>&lt;chr&gt;</th></tr>\n",
       "</thead>\n",
       "<tbody>\n",
       "\t<tr><td>1</td><td>wk 3  </td><td>3</td></tr>\n",
       "\t<tr><td>2</td><td>week-1</td><td>1</td></tr>\n",
       "\t<tr><td>3</td><td>7     </td><td>7</td></tr>\n",
       "\t<tr><td>4</td><td>w#9   </td><td>9</td></tr>\n",
       "</tbody>\n",
       "</table>\n"
      ],
      "text/latex": [
       "A tibble: 4 × 3\n",
       "\\begin{tabular}{lll}\n",
       " x & y & z\\\\\n",
       " <int> & <chr> & <chr>\\\\\n",
       "\\hline\n",
       "\t 1 & wk 3   & 3\\\\\n",
       "\t 2 & week-1 & 1\\\\\n",
       "\t 3 & 7      & 7\\\\\n",
       "\t 4 & w\\#9    & 9\\\\\n",
       "\\end{tabular}\n"
      ],
      "text/markdown": [
       "\n",
       "A tibble: 4 × 3\n",
       "\n",
       "| x &lt;int&gt; | y &lt;chr&gt; | z &lt;chr&gt; |\n",
       "|---|---|---|\n",
       "| 1 | wk 3   | 3 |\n",
       "| 2 | week-1 | 1 |\n",
       "| 3 | 7      | 7 |\n",
       "| 4 | w#9    | 9 |\n",
       "\n"
      ],
      "text/plain": [
       "  x y      z\n",
       "1 1 wk 3   3\n",
       "2 2 week-1 1\n",
       "3 3 7      7\n",
       "4 4 w#9    9"
      ]
     },
     "metadata": {},
     "output_type": "display_data"
    }
   ],
   "source": [
    "# 我们希望能提取第二列中的数值，构成新的一列\n",
    "dt <- tibble(\n",
    "  x = 1:4,\n",
    "  y = c(\"wk 3\", \"week-1\", \"7\", \"w#9\")\n",
    ")\n",
    "dt\n",
    "\n",
    "dt %>% \n",
    "  mutate(\n",
    "    z = str_extract(y, \"[0-9]\"))"
   ]
  },
  {
   "cell_type": "markdown",
   "id": "e6d5e824",
   "metadata": {},
   "source": [
    "### 案例2 "
   ]
  },
  {
   "cell_type": "code",
   "execution_count": 113,
   "id": "40ec2ac4",
   "metadata": {},
   "outputs": [
    {
     "data": {
      "text/html": [
       "<table class=\"dataframe\">\n",
       "<caption>A data.frame: 7 × 2</caption>\n",
       "<thead>\n",
       "\t<tr><th scope=col>x</th><th scope=col>y</th></tr>\n",
       "\t<tr><th scope=col>&lt;int&gt;</th><th scope=col>&lt;chr&gt;</th></tr>\n",
       "</thead>\n",
       "<tbody>\n",
       "\t<tr><td>1</td><td>2016123456  </td></tr>\n",
       "\t<tr><td>2</td><td>20150513    </td></tr>\n",
       "\t<tr><td>3</td><td>AB2016123456</td></tr>\n",
       "\t<tr><td>4</td><td>J2017000987 </td></tr>\n",
       "\t<tr><td>5</td><td>B2017000987C</td></tr>\n",
       "\t<tr><td>6</td><td>aksdf       </td></tr>\n",
       "\t<tr><td>7</td><td>2014        </td></tr>\n",
       "</tbody>\n",
       "</table>\n"
      ],
      "text/latex": [
       "A data.frame: 7 × 2\n",
       "\\begin{tabular}{ll}\n",
       " x & y\\\\\n",
       " <int> & <chr>\\\\\n",
       "\\hline\n",
       "\t 1 & 2016123456  \\\\\n",
       "\t 2 & 20150513    \\\\\n",
       "\t 3 & AB2016123456\\\\\n",
       "\t 4 & J2017000987 \\\\\n",
       "\t 5 & B2017000987C\\\\\n",
       "\t 6 & aksdf       \\\\\n",
       "\t 7 & 2014        \\\\\n",
       "\\end{tabular}\n"
      ],
      "text/markdown": [
       "\n",
       "A data.frame: 7 × 2\n",
       "\n",
       "| x &lt;int&gt; | y &lt;chr&gt; |\n",
       "|---|---|\n",
       "| 1 | 2016123456   |\n",
       "| 2 | 20150513     |\n",
       "| 3 | AB2016123456 |\n",
       "| 4 | J2017000987  |\n",
       "| 5 | B2017000987C |\n",
       "| 6 | aksdf        |\n",
       "| 7 | 2014         |\n",
       "\n"
      ],
      "text/plain": [
       "  x y           \n",
       "1 1 2016123456  \n",
       "2 2 20150513    \n",
       "3 3 AB2016123456\n",
       "4 4 J2017000987 \n",
       "5 5 B2017000987C\n",
       "6 6 aksdf       \n",
       "7 7 2014        "
      ]
     },
     "metadata": {},
     "output_type": "display_data"
    },
    {
     "data": {
      "text/html": [
       "<table class=\"dataframe\">\n",
       "<caption>A tibble: 5 × 3</caption>\n",
       "<thead>\n",
       "\t<tr><th scope=col>x</th><th scope=col>y</th><th scope=col>z</th></tr>\n",
       "\t<tr><th scope=col>&lt;int&gt;</th><th scope=col>&lt;chr&gt;</th><th scope=col>&lt;chr&gt;</th></tr>\n",
       "</thead>\n",
       "<tbody>\n",
       "\t<tr><td>3</td><td>AB2016123456</td><td>A</td></tr>\n",
       "\t<tr><td>3</td><td>AB2016123456</td><td>B</td></tr>\n",
       "\t<tr><td>4</td><td>J2017000987 </td><td>J</td></tr>\n",
       "\t<tr><td>5</td><td>B2017000987C</td><td>B</td></tr>\n",
       "\t<tr><td>5</td><td>B2017000987C</td><td>C</td></tr>\n",
       "</tbody>\n",
       "</table>\n"
      ],
      "text/latex": [
       "A tibble: 5 × 3\n",
       "\\begin{tabular}{lll}\n",
       " x & y & z\\\\\n",
       " <int> & <chr> & <chr>\\\\\n",
       "\\hline\n",
       "\t 3 & AB2016123456 & A\\\\\n",
       "\t 3 & AB2016123456 & B\\\\\n",
       "\t 4 & J2017000987  & J\\\\\n",
       "\t 5 & B2017000987C & B\\\\\n",
       "\t 5 & B2017000987C & C\\\\\n",
       "\\end{tabular}\n"
      ],
      "text/markdown": [
       "\n",
       "A tibble: 5 × 3\n",
       "\n",
       "| x &lt;int&gt; | y &lt;chr&gt; | z &lt;chr&gt; |\n",
       "|---|---|---|\n",
       "| 3 | AB2016123456 | A |\n",
       "| 3 | AB2016123456 | B |\n",
       "| 4 | J2017000987  | J |\n",
       "| 5 | B2017000987C | B |\n",
       "| 5 | B2017000987C | C |\n",
       "\n"
      ],
      "text/plain": [
       "  x y            z\n",
       "1 3 AB2016123456 A\n",
       "2 3 AB2016123456 B\n",
       "3 4 J2017000987  J\n",
       "4 5 B2017000987C B\n",
       "5 5 B2017000987C C"
      ]
     },
     "metadata": {},
     "output_type": "display_data"
    }
   ],
   "source": [
    "# 提取第二列中的大写字母\n",
    "df <- data.frame(\n",
    "  x = seq_along(1:7),\n",
    "  y = c(\"2016123456\", \"20150513\", \"AB2016123456\", \"J2017000987\", \"B2017000987C\", \"aksdf\", \"2014\")\n",
    ")\n",
    "df\n",
    "\n",
    "df %>% \n",
    "  mutate(\n",
    "    z = str_extract_all(y, \"[A-Z]\")\n",
    "  ) %>% \n",
    "  tidyr::unnest(z)"
   ]
  },
  {
   "cell_type": "markdown",
   "id": "f341d1d1",
   "metadata": {},
   "source": [
    "### 案例3"
   ]
  },
  {
   "cell_type": "code",
   "execution_count": 118,
   "id": "212cf971",
   "metadata": {},
   "outputs": [
    {
     "data": {
      "text/html": [
       "<table class=\"dataframe\">\n",
       "<caption>A tibble: 3 × 1</caption>\n",
       "<thead>\n",
       "\t<tr><th scope=col>x</th></tr>\n",
       "\t<tr><th scope=col>&lt;chr&gt;</th></tr>\n",
       "</thead>\n",
       "<tbody>\n",
       "\t<tr><td>I我   </td></tr>\n",
       "\t<tr><td>love爱</td></tr>\n",
       "\t<tr><td>you你 </td></tr>\n",
       "</tbody>\n",
       "</table>\n"
      ],
      "text/latex": [
       "A tibble: 3 × 1\n",
       "\\begin{tabular}{l}\n",
       " x\\\\\n",
       " <chr>\\\\\n",
       "\\hline\n",
       "\t I我   \\\\\n",
       "\t love爱\\\\\n",
       "\t you你 \\\\\n",
       "\\end{tabular}\n"
      ],
      "text/markdown": [
       "\n",
       "A tibble: 3 × 1\n",
       "\n",
       "| x &lt;chr&gt; |\n",
       "|---|\n",
       "| I我    |\n",
       "| love爱 |\n",
       "| you你  |\n",
       "\n"
      ],
      "text/plain": [
       "  x     \n",
       "1 I我   \n",
       "2 love爱\n",
       "3 you你 "
      ]
     },
     "metadata": {},
     "output_type": "display_data"
    },
    {
     "data": {
      "text/html": [
       "<table class=\"dataframe\">\n",
       "<caption>A tibble: 3 × 3</caption>\n",
       "<thead>\n",
       "\t<tr><th scope=col>x</th><th scope=col>en</th><th scope=col>cn</th></tr>\n",
       "\t<tr><th scope=col>&lt;chr&gt;</th><th scope=col>&lt;chr&gt;</th><th scope=col>&lt;chr&gt;</th></tr>\n",
       "</thead>\n",
       "<tbody>\n",
       "\t<tr><td>I我   </td><td>I   </td><td>我</td></tr>\n",
       "\t<tr><td>love爱</td><td>love</td><td>爱</td></tr>\n",
       "\t<tr><td>you你 </td><td>you </td><td>你</td></tr>\n",
       "</tbody>\n",
       "</table>\n"
      ],
      "text/latex": [
       "A tibble: 3 × 3\n",
       "\\begin{tabular}{lll}\n",
       " x & en & cn\\\\\n",
       " <chr> & <chr> & <chr>\\\\\n",
       "\\hline\n",
       "\t I我    & I    & 我\\\\\n",
       "\t love爱 & love & 爱\\\\\n",
       "\t you你  & you  & 你\\\\\n",
       "\\end{tabular}\n"
      ],
      "text/markdown": [
       "\n",
       "A tibble: 3 × 3\n",
       "\n",
       "| x &lt;chr&gt; | en &lt;chr&gt; | cn &lt;chr&gt; |\n",
       "|---|---|---|\n",
       "| I我    | I    | 我 |\n",
       "| love爱 | love | 爱 |\n",
       "| you你  | you  | 你 |\n",
       "\n"
      ],
      "text/plain": [
       "  x      en   cn\n",
       "1 I我    I    我\n",
       "2 love爱 love 爱\n",
       "3 you你  you  你"
      ]
     },
     "metadata": {},
     "output_type": "display_data"
    }
   ],
   "source": [
    "# 要求：中英文分开\n",
    "tb <- tibble(x = c(\"I我\", \"love爱\", \"you你\"))\n",
    "tb\n",
    "tb %>% \n",
    "  tidyr::extract(\n",
    "    x, c(\"en\", \"cn\"), \"([a-zA-Z]+)([^a-zA-Z]+)\",\n",
    "  remove = FALSE)"
   ]
  },
  {
   "cell_type": "markdown",
   "id": "98c10586",
   "metadata": {},
   "source": [
    "### 案例4"
   ]
  },
  {
   "cell_type": "code",
   "execution_count": 120,
   "id": "5b0f8fe6",
   "metadata": {},
   "outputs": [
    {
     "data": {
      "text/html": [
       "<table class=\"dataframe\">\n",
       "<caption>A tibble: 3 × 1</caption>\n",
       "<thead>\n",
       "\t<tr><th scope=col>x</th></tr>\n",
       "\t<tr><th scope=col>&lt;chr&gt;</th></tr>\n",
       "</thead>\n",
       "<tbody>\n",
       "\t<tr><td>1-12week</td></tr>\n",
       "\t<tr><td>1-10week</td></tr>\n",
       "\t<tr><td>5-12week</td></tr>\n",
       "</tbody>\n",
       "</table>\n"
      ],
      "text/latex": [
       "A tibble: 3 × 1\n",
       "\\begin{tabular}{l}\n",
       " x\\\\\n",
       " <chr>\\\\\n",
       "\\hline\n",
       "\t 1-12week\\\\\n",
       "\t 1-10week\\\\\n",
       "\t 5-12week\\\\\n",
       "\\end{tabular}\n"
      ],
      "text/markdown": [
       "\n",
       "A tibble: 3 × 1\n",
       "\n",
       "| x &lt;chr&gt; |\n",
       "|---|\n",
       "| 1-12week |\n",
       "| 1-10week |\n",
       "| 5-12week |\n",
       "\n"
      ],
      "text/plain": [
       "  x       \n",
       "1 1-12week\n",
       "2 1-10week\n",
       "3 5-12week"
      ]
     },
     "metadata": {},
     "output_type": "display_data"
    },
    {
     "data": {
      "text/html": [
       "<table class=\"dataframe\">\n",
       "<caption>A tibble: 3 × 4</caption>\n",
       "<thead>\n",
       "\t<tr><th scope=col>x</th><th scope=col>start</th><th scope=col>end</th><th scope=col>cn</th></tr>\n",
       "\t<tr><th scope=col>&lt;chr&gt;</th><th scope=col>&lt;chr&gt;</th><th scope=col>&lt;chr&gt;</th><th scope=col>&lt;chr&gt;</th></tr>\n",
       "</thead>\n",
       "<tbody>\n",
       "\t<tr><td>1-12week</td><td>1</td><td>12</td><td>week</td></tr>\n",
       "\t<tr><td>1-10week</td><td>1</td><td>10</td><td>week</td></tr>\n",
       "\t<tr><td>5-12week</td><td>5</td><td>12</td><td>week</td></tr>\n",
       "</tbody>\n",
       "</table>\n"
      ],
      "text/latex": [
       "A tibble: 3 × 4\n",
       "\\begin{tabular}{llll}\n",
       " x & start & end & cn\\\\\n",
       " <chr> & <chr> & <chr> & <chr>\\\\\n",
       "\\hline\n",
       "\t 1-12week & 1 & 12 & week\\\\\n",
       "\t 1-10week & 1 & 10 & week\\\\\n",
       "\t 5-12week & 5 & 12 & week\\\\\n",
       "\\end{tabular}\n"
      ],
      "text/markdown": [
       "\n",
       "A tibble: 3 × 4\n",
       "\n",
       "| x &lt;chr&gt; | start &lt;chr&gt; | end &lt;chr&gt; | cn &lt;chr&gt; |\n",
       "|---|---|---|---|\n",
       "| 1-12week | 1 | 12 | week |\n",
       "| 1-10week | 1 | 10 | week |\n",
       "| 5-12week | 5 | 12 | week |\n",
       "\n"
      ],
      "text/plain": [
       "  x        start end cn  \n",
       "1 1-12week 1     12  week\n",
       "2 1-10week 1     10  week\n",
       "3 5-12week 5     12  week"
      ]
     },
     "metadata": {},
     "output_type": "display_data"
    }
   ],
   "source": [
    "# 要求：提取起始数字\n",
    "df <- tibble(x = c(\"1-12week\", \"1-10week\", \"5-12week\"))\n",
    "df\n",
    "\n",
    "df %>% extract(\n",
    "  x, c(\"start\", \"end\", \"cn\"), \"(\\\\d+)-(\\\\d+)(\\\\D+)\",\n",
    "  remove = FALSE)"
   ]
  },
  {
   "cell_type": "markdown",
   "id": "84d968a1",
   "metadata": {},
   "source": [
    "### 案例5"
   ]
  },
  {
   "cell_type": "code",
   "execution_count": 138,
   "id": "e3f4c1f8",
   "metadata": {},
   "outputs": [
    {
     "data": {
      "text/html": [
       "<table class=\"dataframe\">\n",
       "<caption>A tibble: 5 × 1</caption>\n",
       "<thead>\n",
       "\t<tr><th scope=col>x</th></tr>\n",
       "\t<tr><th scope=col>&lt;chr&gt;</th></tr>\n",
       "</thead>\n",
       "<tbody>\n",
       "\t<tr><td>12W34  </td></tr>\n",
       "\t<tr><td>AB2C46 </td></tr>\n",
       "\t<tr><td>B217C  </td></tr>\n",
       "\t<tr><td>akTs6df</td></tr>\n",
       "\t<tr><td>21WD4  </td></tr>\n",
       "</tbody>\n",
       "</table>\n"
      ],
      "text/latex": [
       "A tibble: 5 × 1\n",
       "\\begin{tabular}{l}\n",
       " x\\\\\n",
       " <chr>\\\\\n",
       "\\hline\n",
       "\t 12W34  \\\\\n",
       "\t AB2C46 \\\\\n",
       "\t B217C  \\\\\n",
       "\t akTs6df\\\\\n",
       "\t 21WD4  \\\\\n",
       "\\end{tabular}\n"
      ],
      "text/markdown": [
       "\n",
       "A tibble: 5 × 1\n",
       "\n",
       "| x &lt;chr&gt; |\n",
       "|---|\n",
       "| 12W34   |\n",
       "| AB2C46  |\n",
       "| B217C   |\n",
       "| akTs6df |\n",
       "| 21WD4   |\n",
       "\n"
      ],
      "text/plain": [
       "  x      \n",
       "1 12W34  \n",
       "2 AB2C46 \n",
       "3 B217C  \n",
       "4 akTs6df\n",
       "5 21WD4  "
      ]
     },
     "metadata": {},
     "output_type": "display_data"
    },
    {
     "data": {
      "text/html": [
       "<table class=\"dataframe\">\n",
       "<caption>A tibble: 5 × 2</caption>\n",
       "<thead>\n",
       "\t<tr><th scope=col>x</th><th scope=col>item</th></tr>\n",
       "\t<tr><th scope=col>&lt;chr&gt;</th><th scope=col>&lt;chr&gt;</th></tr>\n",
       "</thead>\n",
       "<tbody>\n",
       "\t<tr><td>12W34 </td><td>3</td></tr>\n",
       "\t<tr><td>AB2C46</td><td>2</td></tr>\n",
       "\t<tr><td>AB2C46</td><td>4</td></tr>\n",
       "\t<tr><td>B217C </td><td>2</td></tr>\n",
       "\t<tr><td>21WD4 </td><td>4</td></tr>\n",
       "</tbody>\n",
       "</table>\n"
      ],
      "text/latex": [
       "A tibble: 5 × 2\n",
       "\\begin{tabular}{ll}\n",
       " x & item\\\\\n",
       " <chr> & <chr>\\\\\n",
       "\\hline\n",
       "\t 12W34  & 3\\\\\n",
       "\t AB2C46 & 2\\\\\n",
       "\t AB2C46 & 4\\\\\n",
       "\t B217C  & 2\\\\\n",
       "\t 21WD4  & 4\\\\\n",
       "\\end{tabular}\n"
      ],
      "text/markdown": [
       "\n",
       "A tibble: 5 × 2\n",
       "\n",
       "| x &lt;chr&gt; | item &lt;chr&gt; |\n",
       "|---|---|\n",
       "| 12W34  | 3 |\n",
       "| AB2C46 | 2 |\n",
       "| AB2C46 | 4 |\n",
       "| B217C  | 2 |\n",
       "| 21WD4  | 4 |\n",
       "\n"
      ],
      "text/plain": [
       "  x      item\n",
       "1 12W34  3   \n",
       "2 AB2C46 2   \n",
       "3 AB2C46 4   \n",
       "4 B217C  2   \n",
       "5 21WD4  4   "
      ]
     },
     "metadata": {},
     "output_type": "display_data"
    }
   ],
   "source": [
    "# 要求：提取大写字母后的数字\n",
    "df <- tibble(\n",
    " x = c(\"12W34\", \"AB2C46\", \"B217C\", \"akTs6df\", \"21WD4\")\n",
    ")\n",
    "df\n",
    "\n",
    "df %>% \n",
    "  mutate(item = str_extract_all(x, \"(?<=[A-Z])[0-9]\")) %>% \n",
    "  tidyr::unnest(item)"
   ]
  },
  {
   "cell_type": "code",
   "execution_count": 141,
   "id": "afe55c75",
   "metadata": {},
   "outputs": [
    {
     "data": {
      "text/html": [
       "<table class=\"dataframe\">\n",
       "<caption>A tibble: 5 × 2</caption>\n",
       "<thead>\n",
       "\t<tr><th scope=col>x</th><th scope=col>item</th></tr>\n",
       "\t<tr><th scope=col>&lt;chr&gt;</th><th scope=col>&lt;chr&gt;</th></tr>\n",
       "</thead>\n",
       "<tbody>\n",
       "\t<tr><td>12W34 </td><td>34 </td></tr>\n",
       "\t<tr><td>AB2C46</td><td>2  </td></tr>\n",
       "\t<tr><td>AB2C46</td><td>46 </td></tr>\n",
       "\t<tr><td>B217C </td><td>217</td></tr>\n",
       "\t<tr><td>21WD4 </td><td>4  </td></tr>\n",
       "</tbody>\n",
       "</table>\n"
      ],
      "text/latex": [
       "A tibble: 5 × 2\n",
       "\\begin{tabular}{ll}\n",
       " x & item\\\\\n",
       " <chr> & <chr>\\\\\n",
       "\\hline\n",
       "\t 12W34  & 34 \\\\\n",
       "\t AB2C46 & 2  \\\\\n",
       "\t AB2C46 & 46 \\\\\n",
       "\t B217C  & 217\\\\\n",
       "\t 21WD4  & 4  \\\\\n",
       "\\end{tabular}\n"
      ],
      "text/markdown": [
       "\n",
       "A tibble: 5 × 2\n",
       "\n",
       "| x &lt;chr&gt; | item &lt;chr&gt; |\n",
       "|---|---|\n",
       "| 12W34  | 34  |\n",
       "| AB2C46 | 2   |\n",
       "| AB2C46 | 46  |\n",
       "| B217C  | 217 |\n",
       "| 21WD4  | 4   |\n",
       "\n"
      ],
      "text/plain": [
       "  x      item\n",
       "1 12W34  34  \n",
       "2 AB2C46 2   \n",
       "3 AB2C46 46  \n",
       "4 B217C  217 \n",
       "5 21WD4  4   "
      ]
     },
     "metadata": {},
     "output_type": "display_data"
    },
    {
     "data": {
      "text/html": [
       "<table class=\"dataframe\">\n",
       "<caption>A tibble: 5 × 2</caption>\n",
       "<thead>\n",
       "\t<tr><th scope=col>x</th><th scope=col>item</th></tr>\n",
       "\t<tr><th scope=col>&lt;chr&gt;</th><th scope=col>&lt;chr&gt;</th></tr>\n",
       "</thead>\n",
       "<tbody>\n",
       "\t<tr><td>12W34 </td><td>W</td></tr>\n",
       "\t<tr><td>AB2C46</td><td>B</td></tr>\n",
       "\t<tr><td>AB2C46</td><td>C</td></tr>\n",
       "\t<tr><td>B217C </td><td>B</td></tr>\n",
       "\t<tr><td>21WD4 </td><td>D</td></tr>\n",
       "</tbody>\n",
       "</table>\n"
      ],
      "text/latex": [
       "A tibble: 5 × 2\n",
       "\\begin{tabular}{ll}\n",
       " x & item\\\\\n",
       " <chr> & <chr>\\\\\n",
       "\\hline\n",
       "\t 12W34  & W\\\\\n",
       "\t AB2C46 & B\\\\\n",
       "\t AB2C46 & C\\\\\n",
       "\t B217C  & B\\\\\n",
       "\t 21WD4  & D\\\\\n",
       "\\end{tabular}\n"
      ],
      "text/markdown": [
       "\n",
       "A tibble: 5 × 2\n",
       "\n",
       "| x &lt;chr&gt; | item &lt;chr&gt; |\n",
       "|---|---|\n",
       "| 12W34  | W |\n",
       "| AB2C46 | B |\n",
       "| AB2C46 | C |\n",
       "| B217C  | B |\n",
       "| 21WD4  | D |\n",
       "\n"
      ],
      "text/plain": [
       "  x      item\n",
       "1 12W34  W   \n",
       "2 AB2C46 B   \n",
       "3 AB2C46 C   \n",
       "4 B217C  B   \n",
       "5 21WD4  D   "
      ]
     },
     "metadata": {},
     "output_type": "display_data"
    }
   ],
   "source": [
    "# 提取大写字母后的连续数字\n",
    "df %>% \n",
    "  mutate(\n",
    "    item = str_extract_all(x, \"(?<=[A-Z])\\\\d+\")) %>% \n",
    "  tidyr::unnest(item)\n",
    "# 提取数字前大写字母\n",
    "df %>% \n",
    "  mutate(\n",
    "    item = str_extract_all(x, \"[A-Z](?=[0-9])\")) %>% \n",
    "  tidyr::unnest(item)"
   ]
  },
  {
   "cell_type": "code",
   "execution_count": 142,
   "id": "54695b8a",
   "metadata": {},
   "outputs": [
    {
     "data": {
      "text/html": [
       "<ol>\n",
       "\t<li><table class=\"dataframe\">\n",
       "<caption>A matrix: 30 × 1 of type chr</caption>\n",
       "<tbody>\n",
       "\t<tr><td> </td></tr>\n",
       "\t<tr><td> </td></tr>\n",
       "\t<tr><td> </td></tr>\n",
       "\t<tr><td> </td></tr>\n",
       "\t<tr><td> </td></tr>\n",
       "\t<tr><td> </td></tr>\n",
       "\t<tr><td> </td></tr>\n",
       "\t<tr><td> </td></tr>\n",
       "\t<tr><td> </td></tr>\n",
       "\t<tr><td> </td></tr>\n",
       "\t<tr><td> </td></tr>\n",
       "\t<tr><td> </td></tr>\n",
       "\t<tr><td> </td></tr>\n",
       "\t<tr><td> </td></tr>\n",
       "\t<tr><td> </td></tr>\n",
       "\t<tr><td> </td></tr>\n",
       "\t<tr><td> </td></tr>\n",
       "\t<tr><td> </td></tr>\n",
       "\t<tr><td>C</td></tr>\n",
       "\t<tr><td>C</td></tr>\n",
       "\t<tr><td>C</td></tr>\n",
       "\t<tr><td> </td></tr>\n",
       "\t<tr><td> </td></tr>\n",
       "\t<tr><td> </td></tr>\n",
       "\t<tr><td> </td></tr>\n",
       "\t<tr><td> </td></tr>\n",
       "\t<tr><td> </td></tr>\n",
       "\t<tr><td> </td></tr>\n",
       "\t<tr><td> </td></tr>\n",
       "\t<tr><td> </td></tr>\n",
       "</tbody>\n",
       "</table>\n",
       "</li>\n",
       "</ol>\n"
      ],
      "text/latex": [
       "\\begin{enumerate}\n",
       "\\item A matrix: 30 × 1 of type chr\n",
       "\\begin{tabular}{l}\n",
       "\t  \\\\\n",
       "\t  \\\\\n",
       "\t  \\\\\n",
       "\t  \\\\\n",
       "\t  \\\\\n",
       "\t  \\\\\n",
       "\t  \\\\\n",
       "\t  \\\\\n",
       "\t  \\\\\n",
       "\t  \\\\\n",
       "\t  \\\\\n",
       "\t  \\\\\n",
       "\t  \\\\\n",
       "\t  \\\\\n",
       "\t  \\\\\n",
       "\t  \\\\\n",
       "\t  \\\\\n",
       "\t  \\\\\n",
       "\t C\\\\\n",
       "\t C\\\\\n",
       "\t C\\\\\n",
       "\t  \\\\\n",
       "\t  \\\\\n",
       "\t  \\\\\n",
       "\t  \\\\\n",
       "\t  \\\\\n",
       "\t  \\\\\n",
       "\t  \\\\\n",
       "\t  \\\\\n",
       "\t  \\\\\n",
       "\\end{tabular}\n",
       "\n",
       "\\end{enumerate}\n"
      ],
      "text/markdown": [
       "1. \n",
       "A matrix: 30 × 1 of type chr\n",
       "\n",
       "| <!----> |\n",
       "| <!----> |\n",
       "| <!----> |\n",
       "| <!----> |\n",
       "| <!----> |\n",
       "| <!----> |\n",
       "| <!----> |\n",
       "| <!----> |\n",
       "| <!----> |\n",
       "| <!----> |\n",
       "| <!----> |\n",
       "| <!----> |\n",
       "| <!----> |\n",
       "| <!----> |\n",
       "| <!----> |\n",
       "| <!----> |\n",
       "| <!----> |\n",
       "| <!----> |\n",
       "| C |\n",
       "| C |\n",
       "| C |\n",
       "| <!----> |\n",
       "| <!----> |\n",
       "| <!----> |\n",
       "| <!----> |\n",
       "| <!----> |\n",
       "| <!----> |\n",
       "| <!----> |\n",
       "| <!----> |\n",
       "| <!----> |\n",
       "\n",
       "\n",
       "\n",
       "\n"
      ],
      "text/plain": [
       "[[1]]\n",
       "      [,1]\n",
       " [1,] \"\"  \n",
       " [2,] \"\"  \n",
       " [3,] \"\"  \n",
       " [4,] \"\"  \n",
       " [5,] \"\"  \n",
       " [6,] \"\"  \n",
       " [7,] \"\"  \n",
       " [8,] \"\"  \n",
       " [9,] \"\"  \n",
       "[10,] \"\"  \n",
       "[11,] \"\"  \n",
       "[12,] \"\"  \n",
       "[13,] \"\"  \n",
       "[14,] \"\"  \n",
       "[15,] \"\"  \n",
       "[16,] \"\"  \n",
       "[17,] \"\"  \n",
       "[18,] \"\"  \n",
       "[19,] \"C\" \n",
       "[20,] \"C\" \n",
       "[21,] \"C\" \n",
       "[22,] \"\"  \n",
       "[23,] \"\"  \n",
       "[24,] \"\"  \n",
       "[25,] \"\"  \n",
       "[26,] \"\"  \n",
       "[27,] \"\"  \n",
       "[28,] \"\"  \n",
       "[29,] \"\"  \n",
       "[30,] \"\"  \n"
      ]
     },
     "metadata": {},
     "output_type": "display_data"
    }
   ],
   "source": [
    "x <- \"Roman numerals: MDCCCLXXXVIII\"\n",
    "str_match_all(x,\"C?\")"
   ]
  },
  {
   "cell_type": "code",
   "execution_count": 143,
   "id": "95e2b84c",
   "metadata": {},
   "outputs": [
    {
     "data": {
      "text/html": [
       "<ol>\n",
       "\t<li><table class=\"dataframe\">\n",
       "<caption>A matrix: 2 × 1 of type chr</caption>\n",
       "<tbody>\n",
       "\t<tr><td>CC</td></tr>\n",
       "\t<tr><td>C </td></tr>\n",
       "</tbody>\n",
       "</table>\n",
       "</li>\n",
       "</ol>\n"
      ],
      "text/latex": [
       "\\begin{enumerate}\n",
       "\\item A matrix: 2 × 1 of type chr\n",
       "\\begin{tabular}{l}\n",
       "\t CC\\\\\n",
       "\t C \\\\\n",
       "\\end{tabular}\n",
       "\n",
       "\\end{enumerate}\n"
      ],
      "text/markdown": [
       "1. \n",
       "A matrix: 2 × 1 of type chr\n",
       "\n",
       "| CC |\n",
       "| C  |\n",
       "\n",
       "\n",
       "\n",
       "\n"
      ],
      "text/plain": [
       "[[1]]\n",
       "     [,1]\n",
       "[1,] \"CC\"\n",
       "[2,] \"C\" \n"
      ]
     },
     "metadata": {},
     "output_type": "display_data"
    }
   ],
   "source": [
    "str_match_all(x, \"CC?\")"
   ]
  },
  {
   "cell_type": "markdown",
   "id": "bc354bc4",
   "metadata": {},
   "source": [
    "### 案例6 "
   ]
  },
  {
   "cell_type": "code",
   "execution_count": 151,
   "id": "f7703ba2",
   "metadata": {},
   "outputs": [
    {
     "data": {
      "text/html": [
       "<table class=\"dataframe\">\n",
       "<caption>A tibble: 5 × 1</caption>\n",
       "<thead>\n",
       "\t<tr><th scope=col>x</th></tr>\n",
       "\t<tr><th scope=col>&lt;chr&gt;</th></tr>\n",
       "</thead>\n",
       "<tbody>\n",
       "\t<tr><td>1234 </td></tr>\n",
       "\t<tr><td>B246 </td></tr>\n",
       "\t<tr><td>217C </td></tr>\n",
       "\t<tr><td>2357f</td></tr>\n",
       "\t<tr><td>21WD4</td></tr>\n",
       "</tbody>\n",
       "</table>\n"
      ],
      "text/latex": [
       "A tibble: 5 × 1\n",
       "\\begin{tabular}{l}\n",
       " x\\\\\n",
       " <chr>\\\\\n",
       "\\hline\n",
       "\t 1234 \\\\\n",
       "\t B246 \\\\\n",
       "\t 217C \\\\\n",
       "\t 2357f\\\\\n",
       "\t 21WD4\\\\\n",
       "\\end{tabular}\n"
      ],
      "text/markdown": [
       "\n",
       "A tibble: 5 × 1\n",
       "\n",
       "| x &lt;chr&gt; |\n",
       "|---|\n",
       "| 1234  |\n",
       "| B246  |\n",
       "| 217C  |\n",
       "| 2357f |\n",
       "| 21WD4 |\n",
       "\n"
      ],
      "text/plain": [
       "  x    \n",
       "1 1234 \n",
       "2 B246 \n",
       "3 217C \n",
       "4 2357f\n",
       "5 21WD4"
      ]
     },
     "metadata": {},
     "output_type": "display_data"
    },
    {
     "data": {
      "text/html": [
       "<table class=\"dataframe\">\n",
       "<caption>A tibble: 5 × 2</caption>\n",
       "<thead>\n",
       "\t<tr><th scope=col>x</th><th scope=col>sum</th></tr>\n",
       "\t<tr><th scope=col>&lt;chr&gt;</th><th scope=col>&lt;dbl&gt;</th></tr>\n",
       "</thead>\n",
       "<tbody>\n",
       "\t<tr><td>1234 </td><td>10</td></tr>\n",
       "\t<tr><td>217C </td><td>10</td></tr>\n",
       "\t<tr><td>21WD4</td><td> 7</td></tr>\n",
       "\t<tr><td>2357f</td><td>17</td></tr>\n",
       "\t<tr><td>B246 </td><td>12</td></tr>\n",
       "</tbody>\n",
       "</table>\n"
      ],
      "text/latex": [
       "A tibble: 5 × 2\n",
       "\\begin{tabular}{ll}\n",
       " x & sum\\\\\n",
       " <chr> & <dbl>\\\\\n",
       "\\hline\n",
       "\t 1234  & 10\\\\\n",
       "\t 217C  & 10\\\\\n",
       "\t 21WD4 &  7\\\\\n",
       "\t 2357f & 17\\\\\n",
       "\t B246  & 12\\\\\n",
       "\\end{tabular}\n"
      ],
      "text/markdown": [
       "\n",
       "A tibble: 5 × 2\n",
       "\n",
       "| x &lt;chr&gt; | sum &lt;dbl&gt; |\n",
       "|---|---|\n",
       "| 1234  | 10 |\n",
       "| 217C  | 10 |\n",
       "| 21WD4 |  7 |\n",
       "| 2357f | 17 |\n",
       "| B246  | 12 |\n",
       "\n"
      ],
      "text/plain": [
       "  x     sum\n",
       "1 1234  10 \n",
       "2 217C  10 \n",
       "3 21WD4  7 \n",
       "4 2357f 17 \n",
       "5 B246  12 "
      ]
     },
     "metadata": {},
     "output_type": "display_data"
    }
   ],
   "source": [
    "# 提取数字并求和\n",
    "df <- tibble(\n",
    "  x = c(\"1234\", \"B246\", \"217C\", \"2357f\", \"21WD4\")\n",
    ")\n",
    "df\n",
    "df %>% \n",
    "  mutate(num = str_extract_all(x, \"\\\\d\")) %>% \n",
    "  unnest(num) %>% \n",
    "  mutate_at(vars(num), as.numeric) %>% \n",
    "  group_by(x) %>% \n",
    "  summarise(sum = sum(num))"
   ]
  },
  {
   "cell_type": "markdown",
   "id": "c401eabe",
   "metadata": {},
   "source": [
    "### 案例7\n",
    "- `tibble::deframe()`将数据框或`tibble`转换为键值对"
   ]
  },
  {
   "cell_type": "code",
   "execution_count": 155,
   "id": "dd06e5bd",
   "metadata": {},
   "outputs": [
    {
     "data": {
      "text/html": [
       "<style>\n",
       ".dl-inline {width: auto; margin:0; padding: 0}\n",
       ".dl-inline>dt, .dl-inline>dd {float: none; width: auto; display: inline-block}\n",
       ".dl-inline>dt::after {content: \":\\0020\"; padding-right: .5ex}\n",
       ".dl-inline>dt:not(:first-of-type) {padding-left: .5ex}\n",
       "</style><dl class=dl-inline><dt>Quantum entanglement</dt><dd>'A01'</dd><dt>physical phenomenon</dt><dd>'A02'</dd><dt>quantum state</dt><dd>'A03'</dd><dt>quantum mechanics</dt><dd>'A04'</dd></dl>\n"
      ],
      "text/latex": [
       "\\begin{description*}\n",
       "\\item[Quantum entanglement] 'A01'\n",
       "\\item[physical phenomenon] 'A02'\n",
       "\\item[quantum state] 'A03'\n",
       "\\item[quantum mechanics] 'A04'\n",
       "\\end{description*}\n"
      ],
      "text/markdown": [
       "Quantum entanglement\n",
       ":   'A01'physical phenomenon\n",
       ":   'A02'quantum state\n",
       ":   'A03'quantum mechanics\n",
       ":   'A04'\n",
       "\n"
      ],
      "text/plain": [
       "Quantum entanglement  physical phenomenon        quantum state \n",
       "               \"A01\"                \"A02\"                \"A03\" \n",
       "   quantum mechanics \n",
       "               \"A04\" "
      ]
     },
     "metadata": {},
     "output_type": "display_data"
    },
    {
     "data": {
      "text/html": [
       "'A01 is a A02 that occurs when pairs or groups of particles are generated, interact, or share spatial proximity in ways such that the A03 of each particle cannot be described independently of the state of the others, even when the particles are separated by a large distance.'"
      ],
      "text/latex": [
       "'A01 is a A02 that occurs when pairs or groups of particles are generated, interact, or share spatial proximity in ways such that the A03 of each particle cannot be described independently of the state of the others, even when the particles are separated by a large distance.'"
      ],
      "text/markdown": [
       "'A01 is a A02 that occurs when pairs or groups of particles are generated, interact, or share spatial proximity in ways such that the A03 of each particle cannot be described independently of the state of the others, even when the particles are separated by a large distance.'"
      ],
      "text/plain": [
       "[1] \"A01 is a A02 that occurs when pairs or groups of particles are generated, interact, or share spatial proximity in ways such that the A03 of each particle cannot be described independently of the state of the others, even when the particles are separated by a large distance.\""
      ]
     },
     "metadata": {},
     "output_type": "display_data"
    }
   ],
   "source": [
    "## 文本替换\n",
    "text <- \"Quantum entanglement is a physical phenomenon that occurs when pairs or groups of particles are generated, interact, or share spatial proximity in ways such that the quantum state of each particle cannot be described independently of the state of the others, even when the particles are separated by a large distance.\"\n",
    "\n",
    "pairs <-\n",
    "  tibble::tribble(\n",
    "    ~item, ~code,\n",
    "    \"Quantum entanglement\", \"A01\",\n",
    "    \"physical phenomenon\", \"A02\",\n",
    "    \"quantum state\", \"A03\",\n",
    "    \"quantum mechanics\", \"A04\"\n",
    "  ) %>%\n",
    "  tibble::deframe()\n",
    "pairs\n",
    "\n",
    "text %>% str_replace_all(pairs)"
   ]
  },
  {
   "cell_type": "markdown",
   "id": "0ad30942",
   "metadata": {},
   "source": [
    "### 案例8"
   ]
  },
  {
   "cell_type": "code",
   "execution_count": 165,
   "id": "3cacf9e6",
   "metadata": {},
   "outputs": [
    {
     "data": {
      "text/html": [
       "<table class=\"dataframe\">\n",
       "<caption>A tibble: 8 × 2</caption>\n",
       "<thead>\n",
       "\t<tr><th scope=col>No</th><th scope=col>address</th></tr>\n",
       "\t<tr><th scope=col>&lt;dbl&gt;</th><th scope=col>&lt;chr&gt;</th></tr>\n",
       "</thead>\n",
       "<tbody>\n",
       "\t<tr><td>1</td><td>Sichuan Univ, Coll Chem      </td></tr>\n",
       "\t<tr><td>2</td><td>Sichuan Univ, Coll Elect Engn</td></tr>\n",
       "\t<tr><td>3</td><td>Sichuan Univ, Dept Phys      </td></tr>\n",
       "\t<tr><td>4</td><td>Sichuan Univ, Coll Life Sci  </td></tr>\n",
       "\t<tr><td>5</td><td>Sichuan Univ, Food Engn      </td></tr>\n",
       "\t<tr><td>6</td><td>Sichuan Univ, Coll Phys      </td></tr>\n",
       "\t<tr><td>7</td><td>Sichuan Univ, Sch Business   </td></tr>\n",
       "\t<tr><td>8</td><td>Wuhan Univ, Mat Sci          </td></tr>\n",
       "</tbody>\n",
       "</table>\n"
      ],
      "text/latex": [
       "A tibble: 8 × 2\n",
       "\\begin{tabular}{ll}\n",
       " No & address\\\\\n",
       " <dbl> & <chr>\\\\\n",
       "\\hline\n",
       "\t 1 & Sichuan Univ, Coll Chem      \\\\\n",
       "\t 2 & Sichuan Univ, Coll Elect Engn\\\\\n",
       "\t 3 & Sichuan Univ, Dept Phys      \\\\\n",
       "\t 4 & Sichuan Univ, Coll Life Sci  \\\\\n",
       "\t 5 & Sichuan Univ, Food Engn      \\\\\n",
       "\t 6 & Sichuan Univ, Coll Phys      \\\\\n",
       "\t 7 & Sichuan Univ, Sch Business   \\\\\n",
       "\t 8 & Wuhan Univ, Mat Sci          \\\\\n",
       "\\end{tabular}\n"
      ],
      "text/markdown": [
       "\n",
       "A tibble: 8 × 2\n",
       "\n",
       "| No &lt;dbl&gt; | address &lt;chr&gt; |\n",
       "|---|---|\n",
       "| 1 | Sichuan Univ, Coll Chem       |\n",
       "| 2 | Sichuan Univ, Coll Elect Engn |\n",
       "| 3 | Sichuan Univ, Dept Phys       |\n",
       "| 4 | Sichuan Univ, Coll Life Sci   |\n",
       "| 5 | Sichuan Univ, Food Engn       |\n",
       "| 6 | Sichuan Univ, Coll Phys       |\n",
       "| 7 | Sichuan Univ, Sch Business    |\n",
       "| 8 | Wuhan Univ, Mat Sci           |\n",
       "\n"
      ],
      "text/plain": [
       "  No address                      \n",
       "1 1  Sichuan Univ, Coll Chem      \n",
       "2 2  Sichuan Univ, Coll Elect Engn\n",
       "3 3  Sichuan Univ, Dept Phys      \n",
       "4 4  Sichuan Univ, Coll Life Sci  \n",
       "5 5  Sichuan Univ, Food Engn      \n",
       "6 6  Sichuan Univ, Coll Phys      \n",
       "7 7  Sichuan Univ, Sch Business   \n",
       "8 8  Wuhan Univ, Mat Sci          "
      ]
     },
     "metadata": {},
     "output_type": "display_data"
    },
    {
     "data": {
      "text/html": [
       "<table class=\"dataframe\">\n",
       "<caption>A tibble: 8 × 3</caption>\n",
       "<thead>\n",
       "\t<tr><th scope=col>No</th><th scope=col>address</th><th scope=col>college</th></tr>\n",
       "\t<tr><th scope=col>&lt;dbl&gt;</th><th scope=col>&lt;chr&gt;</th><th scope=col>&lt;chr&gt;</th></tr>\n",
       "</thead>\n",
       "<tbody>\n",
       "\t<tr><td>1</td><td>Sichuan Univ, Coll Chem      </td><td>Coll Chem      </td></tr>\n",
       "\t<tr><td>2</td><td>Sichuan Univ, Coll Elect Engn</td><td>Coll Elect Engn</td></tr>\n",
       "\t<tr><td>3</td><td>Sichuan Univ, Dept Phys      </td><td>Dept Phys      </td></tr>\n",
       "\t<tr><td>4</td><td>Sichuan Univ, Coll Life Sci  </td><td>Coll Life Sci  </td></tr>\n",
       "\t<tr><td>5</td><td>Sichuan Univ, Food Engn      </td><td>Food Engn      </td></tr>\n",
       "\t<tr><td>6</td><td>Sichuan Univ, Coll Phys      </td><td>Coll Phys      </td></tr>\n",
       "\t<tr><td>7</td><td>Sichuan Univ, Sch Business   </td><td>Sch Business   </td></tr>\n",
       "\t<tr><td>8</td><td>Wuhan Univ, Mat Sci          </td><td>NA             </td></tr>\n",
       "</tbody>\n",
       "</table>\n"
      ],
      "text/latex": [
       "A tibble: 8 × 3\n",
       "\\begin{tabular}{lll}\n",
       " No & address & college\\\\\n",
       " <dbl> & <chr> & <chr>\\\\\n",
       "\\hline\n",
       "\t 1 & Sichuan Univ, Coll Chem       & Coll Chem      \\\\\n",
       "\t 2 & Sichuan Univ, Coll Elect Engn & Coll Elect Engn\\\\\n",
       "\t 3 & Sichuan Univ, Dept Phys       & Dept Phys      \\\\\n",
       "\t 4 & Sichuan Univ, Coll Life Sci   & Coll Life Sci  \\\\\n",
       "\t 5 & Sichuan Univ, Food Engn       & Food Engn      \\\\\n",
       "\t 6 & Sichuan Univ, Coll Phys       & Coll Phys      \\\\\n",
       "\t 7 & Sichuan Univ, Sch Business    & Sch Business   \\\\\n",
       "\t 8 & Wuhan Univ, Mat Sci           & NA             \\\\\n",
       "\\end{tabular}\n"
      ],
      "text/markdown": [
       "\n",
       "A tibble: 8 × 3\n",
       "\n",
       "| No &lt;dbl&gt; | address &lt;chr&gt; | college &lt;chr&gt; |\n",
       "|---|---|---|\n",
       "| 1 | Sichuan Univ, Coll Chem       | Coll Chem       |\n",
       "| 2 | Sichuan Univ, Coll Elect Engn | Coll Elect Engn |\n",
       "| 3 | Sichuan Univ, Dept Phys       | Dept Phys       |\n",
       "| 4 | Sichuan Univ, Coll Life Sci   | Coll Life Sci   |\n",
       "| 5 | Sichuan Univ, Food Engn       | Food Engn       |\n",
       "| 6 | Sichuan Univ, Coll Phys       | Coll Phys       |\n",
       "| 7 | Sichuan Univ, Sch Business    | Sch Business    |\n",
       "| 8 | Wuhan Univ, Mat Sci           | NA              |\n",
       "\n"
      ],
      "text/plain": [
       "  No address                       college        \n",
       "1 1  Sichuan Univ, Coll Chem       Coll Chem      \n",
       "2 2  Sichuan Univ, Coll Elect Engn Coll Elect Engn\n",
       "3 3  Sichuan Univ, Dept Phys       Dept Phys      \n",
       "4 4  Sichuan Univ, Coll Life Sci   Coll Life Sci  \n",
       "5 5  Sichuan Univ, Food Engn       Food Engn      \n",
       "6 6  Sichuan Univ, Coll Phys       Coll Phys      \n",
       "7 7  Sichuan Univ, Sch Business    Sch Business   \n",
       "8 8  Wuhan Univ, Mat Sci           NA             "
      ]
     },
     "metadata": {},
     "output_type": "display_data"
    }
   ],
   "source": [
    "# 提取Sichuan Univ后面的学院\n",
    "df <- tibble::tribble(\n",
    "  ~No, ~address,\n",
    "    1, \"Sichuan Univ, Coll Chem\",\n",
    "    2, \"Sichuan Univ, Coll Elect Engn\",\n",
    "    3, \"Sichuan Univ, Dept Phys\",\n",
    "    4, \"Sichuan Univ, Coll Life Sci\",\n",
    "    5, \"Sichuan Univ, Food Engn\",\n",
    "    6, \"Sichuan Univ, Coll Phys\",\n",
    "    7, \"Sichuan Univ, Sch Business\",\n",
    "    8, \"Wuhan Univ, Mat Sci\")\n",
    "df\n",
    "\n",
    "df %>% \n",
    "  mutate(college = str_extract(address, \"(?<=Sichuan Univ, ).*\")\n",
    "        ) %>% \n",
    "  tidyr::unnest(college, keep_empty=TRUE)"
   ]
  },
  {
   "cell_type": "code",
   "execution_count": 166,
   "id": "5caea0a2",
   "metadata": {},
   "outputs": [
    {
     "data": {
      "text/html": [
       "<table class=\"dataframe\">\n",
       "<caption>A tibble: 8 × 3</caption>\n",
       "<thead>\n",
       "\t<tr><th scope=col>No</th><th scope=col>address</th><th scope=col>college</th></tr>\n",
       "\t<tr><th scope=col>&lt;dbl&gt;</th><th scope=col>&lt;chr&gt;</th><th scope=col>&lt;chr&gt;</th></tr>\n",
       "</thead>\n",
       "<tbody>\n",
       "\t<tr><td>1</td><td>Sichuan Univ, Coll Chem      </td><td>Coll Chem      </td></tr>\n",
       "\t<tr><td>2</td><td>Sichuan Univ, Coll Elect Engn</td><td>Coll Elect Engn</td></tr>\n",
       "\t<tr><td>3</td><td>Sichuan Univ, Dept Phys      </td><td>Dept Phys      </td></tr>\n",
       "\t<tr><td>4</td><td>Sichuan Univ, Coll Life Sci  </td><td>Coll Life Sci  </td></tr>\n",
       "\t<tr><td>5</td><td>Sichuan Univ, Food Engn      </td><td>Food Engn      </td></tr>\n",
       "\t<tr><td>6</td><td>Sichuan Univ, Coll Phys      </td><td>Coll Phys      </td></tr>\n",
       "\t<tr><td>7</td><td>Sichuan Univ, Sch Business   </td><td>Sch Business   </td></tr>\n",
       "\t<tr><td>8</td><td>Wuhan Univ, Mat Sci          </td><td>Mat Sci        </td></tr>\n",
       "</tbody>\n",
       "</table>\n"
      ],
      "text/latex": [
       "A tibble: 8 × 3\n",
       "\\begin{tabular}{lll}\n",
       " No & address & college\\\\\n",
       " <dbl> & <chr> & <chr>\\\\\n",
       "\\hline\n",
       "\t 1 & Sichuan Univ, Coll Chem       & Coll Chem      \\\\\n",
       "\t 2 & Sichuan Univ, Coll Elect Engn & Coll Elect Engn\\\\\n",
       "\t 3 & Sichuan Univ, Dept Phys       & Dept Phys      \\\\\n",
       "\t 4 & Sichuan Univ, Coll Life Sci   & Coll Life Sci  \\\\\n",
       "\t 5 & Sichuan Univ, Food Engn       & Food Engn      \\\\\n",
       "\t 6 & Sichuan Univ, Coll Phys       & Coll Phys      \\\\\n",
       "\t 7 & Sichuan Univ, Sch Business    & Sch Business   \\\\\n",
       "\t 8 & Wuhan Univ, Mat Sci           & Mat Sci        \\\\\n",
       "\\end{tabular}\n"
      ],
      "text/markdown": [
       "\n",
       "A tibble: 8 × 3\n",
       "\n",
       "| No &lt;dbl&gt; | address &lt;chr&gt; | college &lt;chr&gt; |\n",
       "|---|---|---|\n",
       "| 1 | Sichuan Univ, Coll Chem       | Coll Chem       |\n",
       "| 2 | Sichuan Univ, Coll Elect Engn | Coll Elect Engn |\n",
       "| 3 | Sichuan Univ, Dept Phys       | Dept Phys       |\n",
       "| 4 | Sichuan Univ, Coll Life Sci   | Coll Life Sci   |\n",
       "| 5 | Sichuan Univ, Food Engn       | Food Engn       |\n",
       "| 6 | Sichuan Univ, Coll Phys       | Coll Phys       |\n",
       "| 7 | Sichuan Univ, Sch Business    | Sch Business    |\n",
       "| 8 | Wuhan Univ, Mat Sci           | Mat Sci         |\n",
       "\n"
      ],
      "text/plain": [
       "  No address                       college        \n",
       "1 1  Sichuan Univ, Coll Chem       Coll Chem      \n",
       "2 2  Sichuan Univ, Coll Elect Engn Coll Elect Engn\n",
       "3 3  Sichuan Univ, Dept Phys       Dept Phys      \n",
       "4 4  Sichuan Univ, Coll Life Sci   Coll Life Sci  \n",
       "5 5  Sichuan Univ, Food Engn       Food Engn      \n",
       "6 6  Sichuan Univ, Coll Phys       Coll Phys      \n",
       "7 7  Sichuan Univ, Sch Business    Sch Business   \n",
       "8 8  Wuhan Univ, Mat Sci           Mat Sci        "
      ]
     },
     "metadata": {},
     "output_type": "display_data"
    }
   ],
   "source": [
    "df %>% \n",
    "  mutate(college = str_remove_all(address, \".*, \"))"
   ]
  },
  {
   "cell_type": "code",
   "execution_count": 167,
   "id": "212af3a2",
   "metadata": {},
   "outputs": [
    {
     "data": {
      "text/html": [
       "<table class=\"dataframe\">\n",
       "<caption>A tibble: 8 × 4</caption>\n",
       "<thead>\n",
       "\t<tr><th scope=col>No</th><th scope=col>address</th><th scope=col>univ</th><th scope=col>college</th></tr>\n",
       "\t<tr><th scope=col>&lt;dbl&gt;</th><th scope=col>&lt;chr&gt;</th><th scope=col>&lt;chr&gt;</th><th scope=col>&lt;chr&gt;</th></tr>\n",
       "</thead>\n",
       "<tbody>\n",
       "\t<tr><td>1</td><td>Sichuan Univ, Coll Chem      </td><td>Sichuan Univ</td><td> Coll Chem      </td></tr>\n",
       "\t<tr><td>2</td><td>Sichuan Univ, Coll Elect Engn</td><td>Sichuan Univ</td><td> Coll Elect Engn</td></tr>\n",
       "\t<tr><td>3</td><td>Sichuan Univ, Dept Phys      </td><td>Sichuan Univ</td><td> Dept Phys      </td></tr>\n",
       "\t<tr><td>4</td><td>Sichuan Univ, Coll Life Sci  </td><td>Sichuan Univ</td><td> Coll Life Sci  </td></tr>\n",
       "\t<tr><td>5</td><td>Sichuan Univ, Food Engn      </td><td>Sichuan Univ</td><td> Food Engn      </td></tr>\n",
       "\t<tr><td>6</td><td>Sichuan Univ, Coll Phys      </td><td>Sichuan Univ</td><td> Coll Phys      </td></tr>\n",
       "\t<tr><td>7</td><td>Sichuan Univ, Sch Business   </td><td>Sichuan Univ</td><td> Sch Business   </td></tr>\n",
       "\t<tr><td>8</td><td>Wuhan Univ, Mat Sci          </td><td>Wuhan Univ  </td><td> Mat Sci        </td></tr>\n",
       "</tbody>\n",
       "</table>\n"
      ],
      "text/latex": [
       "A tibble: 8 × 4\n",
       "\\begin{tabular}{llll}\n",
       " No & address & univ & college\\\\\n",
       " <dbl> & <chr> & <chr> & <chr>\\\\\n",
       "\\hline\n",
       "\t 1 & Sichuan Univ, Coll Chem       & Sichuan Univ &  Coll Chem      \\\\\n",
       "\t 2 & Sichuan Univ, Coll Elect Engn & Sichuan Univ &  Coll Elect Engn\\\\\n",
       "\t 3 & Sichuan Univ, Dept Phys       & Sichuan Univ &  Dept Phys      \\\\\n",
       "\t 4 & Sichuan Univ, Coll Life Sci   & Sichuan Univ &  Coll Life Sci  \\\\\n",
       "\t 5 & Sichuan Univ, Food Engn       & Sichuan Univ &  Food Engn      \\\\\n",
       "\t 6 & Sichuan Univ, Coll Phys       & Sichuan Univ &  Coll Phys      \\\\\n",
       "\t 7 & Sichuan Univ, Sch Business    & Sichuan Univ &  Sch Business   \\\\\n",
       "\t 8 & Wuhan Univ, Mat Sci           & Wuhan Univ   &  Mat Sci        \\\\\n",
       "\\end{tabular}\n"
      ],
      "text/markdown": [
       "\n",
       "A tibble: 8 × 4\n",
       "\n",
       "| No &lt;dbl&gt; | address &lt;chr&gt; | univ &lt;chr&gt; | college &lt;chr&gt; |\n",
       "|---|---|---|---|\n",
       "| 1 | Sichuan Univ, Coll Chem       | Sichuan Univ |  Coll Chem       |\n",
       "| 2 | Sichuan Univ, Coll Elect Engn | Sichuan Univ |  Coll Elect Engn |\n",
       "| 3 | Sichuan Univ, Dept Phys       | Sichuan Univ |  Dept Phys       |\n",
       "| 4 | Sichuan Univ, Coll Life Sci   | Sichuan Univ |  Coll Life Sci   |\n",
       "| 5 | Sichuan Univ, Food Engn       | Sichuan Univ |  Food Engn       |\n",
       "| 6 | Sichuan Univ, Coll Phys       | Sichuan Univ |  Coll Phys       |\n",
       "| 7 | Sichuan Univ, Sch Business    | Sichuan Univ |  Sch Business    |\n",
       "| 8 | Wuhan Univ, Mat Sci           | Wuhan Univ   |  Mat Sci         |\n",
       "\n"
      ],
      "text/plain": [
       "  No address                       univ         college         \n",
       "1 1  Sichuan Univ, Coll Chem       Sichuan Univ  Coll Chem      \n",
       "2 2  Sichuan Univ, Coll Elect Engn Sichuan Univ  Coll Elect Engn\n",
       "3 3  Sichuan Univ, Dept Phys       Sichuan Univ  Dept Phys      \n",
       "4 4  Sichuan Univ, Coll Life Sci   Sichuan Univ  Coll Life Sci  \n",
       "5 5  Sichuan Univ, Food Engn       Sichuan Univ  Food Engn      \n",
       "6 6  Sichuan Univ, Coll Phys       Sichuan Univ  Coll Phys      \n",
       "7 7  Sichuan Univ, Sch Business    Sichuan Univ  Sch Business   \n",
       "8 8  Wuhan Univ, Mat Sci           Wuhan Univ    Mat Sci        "
      ]
     },
     "metadata": {},
     "output_type": "display_data"
    }
   ],
   "source": [
    "df %>% \n",
    "  separate(\n",
    "    address, \n",
    "    into = c(\"univ\", \"college\"),\n",
    "    sep = \",\",\n",
    "    remove = FALSE)"
   ]
  },
  {
   "cell_type": "code",
   "execution_count": 170,
   "id": "a78fc1e6",
   "metadata": {},
   "outputs": [
    {
     "data": {
      "text/html": [
       "<table class=\"dataframe\">\n",
       "<caption>A tibble: 8 × 4</caption>\n",
       "<thead>\n",
       "\t<tr><th scope=col>No</th><th scope=col>address</th><th scope=col>univ</th><th scope=col>college</th></tr>\n",
       "\t<tr><th scope=col>&lt;dbl&gt;</th><th scope=col>&lt;chr&gt;</th><th scope=col>&lt;chr&gt;</th><th scope=col>&lt;chr&gt;</th></tr>\n",
       "</thead>\n",
       "<tbody>\n",
       "\t<tr><td>1</td><td>Sichuan Univ, Coll Chem      </td><td>Sichuan Univ</td><td>Coll Chem      </td></tr>\n",
       "\t<tr><td>2</td><td>Sichuan Univ, Coll Elect Engn</td><td>Sichuan Univ</td><td>Coll Elect Engn</td></tr>\n",
       "\t<tr><td>3</td><td>Sichuan Univ, Dept Phys      </td><td>Sichuan Univ</td><td>Dept Phys      </td></tr>\n",
       "\t<tr><td>4</td><td>Sichuan Univ, Coll Life Sci  </td><td>Sichuan Univ</td><td>Coll Life Sci  </td></tr>\n",
       "\t<tr><td>5</td><td>Sichuan Univ, Food Engn      </td><td>Sichuan Univ</td><td>Food Engn      </td></tr>\n",
       "\t<tr><td>6</td><td>Sichuan Univ, Coll Phys      </td><td>Sichuan Univ</td><td>Coll Phys      </td></tr>\n",
       "\t<tr><td>7</td><td>Sichuan Univ, Sch Business   </td><td>Sichuan Univ</td><td>Sch Business   </td></tr>\n",
       "\t<tr><td>8</td><td>Wuhan Univ, Mat Sci          </td><td>NA          </td><td>NA             </td></tr>\n",
       "</tbody>\n",
       "</table>\n"
      ],
      "text/latex": [
       "A tibble: 8 × 4\n",
       "\\begin{tabular}{llll}\n",
       " No & address & univ & college\\\\\n",
       " <dbl> & <chr> & <chr> & <chr>\\\\\n",
       "\\hline\n",
       "\t 1 & Sichuan Univ, Coll Chem       & Sichuan Univ & Coll Chem      \\\\\n",
       "\t 2 & Sichuan Univ, Coll Elect Engn & Sichuan Univ & Coll Elect Engn\\\\\n",
       "\t 3 & Sichuan Univ, Dept Phys       & Sichuan Univ & Dept Phys      \\\\\n",
       "\t 4 & Sichuan Univ, Coll Life Sci   & Sichuan Univ & Coll Life Sci  \\\\\n",
       "\t 5 & Sichuan Univ, Food Engn       & Sichuan Univ & Food Engn      \\\\\n",
       "\t 6 & Sichuan Univ, Coll Phys       & Sichuan Univ & Coll Phys      \\\\\n",
       "\t 7 & Sichuan Univ, Sch Business    & Sichuan Univ & Sch Business   \\\\\n",
       "\t 8 & Wuhan Univ, Mat Sci           & NA           & NA             \\\\\n",
       "\\end{tabular}\n"
      ],
      "text/markdown": [
       "\n",
       "A tibble: 8 × 4\n",
       "\n",
       "| No &lt;dbl&gt; | address &lt;chr&gt; | univ &lt;chr&gt; | college &lt;chr&gt; |\n",
       "|---|---|---|---|\n",
       "| 1 | Sichuan Univ, Coll Chem       | Sichuan Univ | Coll Chem       |\n",
       "| 2 | Sichuan Univ, Coll Elect Engn | Sichuan Univ | Coll Elect Engn |\n",
       "| 3 | Sichuan Univ, Dept Phys       | Sichuan Univ | Dept Phys       |\n",
       "| 4 | Sichuan Univ, Coll Life Sci   | Sichuan Univ | Coll Life Sci   |\n",
       "| 5 | Sichuan Univ, Food Engn       | Sichuan Univ | Food Engn       |\n",
       "| 6 | Sichuan Univ, Coll Phys       | Sichuan Univ | Coll Phys       |\n",
       "| 7 | Sichuan Univ, Sch Business    | Sichuan Univ | Sch Business    |\n",
       "| 8 | Wuhan Univ, Mat Sci           | NA           | NA              |\n",
       "\n"
      ],
      "text/plain": [
       "  No address                       univ         college        \n",
       "1 1  Sichuan Univ, Coll Chem       Sichuan Univ Coll Chem      \n",
       "2 2  Sichuan Univ, Coll Elect Engn Sichuan Univ Coll Elect Engn\n",
       "3 3  Sichuan Univ, Dept Phys       Sichuan Univ Dept Phys      \n",
       "4 4  Sichuan Univ, Coll Life Sci   Sichuan Univ Coll Life Sci  \n",
       "5 5  Sichuan Univ, Food Engn       Sichuan Univ Food Engn      \n",
       "6 6  Sichuan Univ, Coll Phys       Sichuan Univ Coll Phys      \n",
       "7 7  Sichuan Univ, Sch Business    Sichuan Univ Sch Business   \n",
       "8 8  Wuhan Univ, Mat Sci           NA           NA             "
      ]
     },
     "metadata": {},
     "output_type": "display_data"
    },
    {
     "data": {
      "text/html": [
       "<table class=\"dataframe\">\n",
       "<caption>A tibble: 8 × 4</caption>\n",
       "<thead>\n",
       "\t<tr><th scope=col>No</th><th scope=col>address</th><th scope=col>univ</th><th scope=col>college</th></tr>\n",
       "\t<tr><th scope=col>&lt;dbl&gt;</th><th scope=col>&lt;chr&gt;</th><th scope=col>&lt;chr&gt;</th><th scope=col>&lt;chr&gt;</th></tr>\n",
       "</thead>\n",
       "<tbody>\n",
       "\t<tr><td>1</td><td>Sichuan Univ, Coll Chem      </td><td>Sichuan Univ</td><td>Coll Chem      </td></tr>\n",
       "\t<tr><td>2</td><td>Sichuan Univ, Coll Elect Engn</td><td>Sichuan Univ</td><td>Coll Elect Engn</td></tr>\n",
       "\t<tr><td>3</td><td>Sichuan Univ, Dept Phys      </td><td>Sichuan Univ</td><td>Dept Phys      </td></tr>\n",
       "\t<tr><td>4</td><td>Sichuan Univ, Coll Life Sci  </td><td>Sichuan Univ</td><td>Coll Life Sci  </td></tr>\n",
       "\t<tr><td>5</td><td>Sichuan Univ, Food Engn      </td><td>Sichuan Univ</td><td>Food Engn      </td></tr>\n",
       "\t<tr><td>6</td><td>Sichuan Univ, Coll Phys      </td><td>Sichuan Univ</td><td>Coll Phys      </td></tr>\n",
       "\t<tr><td>7</td><td>Sichuan Univ, Sch Business   </td><td>Sichuan Univ</td><td>Sch Business   </td></tr>\n",
       "\t<tr><td>8</td><td>Wuhan Univ, Mat Sci          </td><td>Wuhan Univ  </td><td>Mat Sci        </td></tr>\n",
       "</tbody>\n",
       "</table>\n"
      ],
      "text/latex": [
       "A tibble: 8 × 4\n",
       "\\begin{tabular}{llll}\n",
       " No & address & univ & college\\\\\n",
       " <dbl> & <chr> & <chr> & <chr>\\\\\n",
       "\\hline\n",
       "\t 1 & Sichuan Univ, Coll Chem       & Sichuan Univ & Coll Chem      \\\\\n",
       "\t 2 & Sichuan Univ, Coll Elect Engn & Sichuan Univ & Coll Elect Engn\\\\\n",
       "\t 3 & Sichuan Univ, Dept Phys       & Sichuan Univ & Dept Phys      \\\\\n",
       "\t 4 & Sichuan Univ, Coll Life Sci   & Sichuan Univ & Coll Life Sci  \\\\\n",
       "\t 5 & Sichuan Univ, Food Engn       & Sichuan Univ & Food Engn      \\\\\n",
       "\t 6 & Sichuan Univ, Coll Phys       & Sichuan Univ & Coll Phys      \\\\\n",
       "\t 7 & Sichuan Univ, Sch Business    & Sichuan Univ & Sch Business   \\\\\n",
       "\t 8 & Wuhan Univ, Mat Sci           & Wuhan Univ   & Mat Sci        \\\\\n",
       "\\end{tabular}\n"
      ],
      "text/markdown": [
       "\n",
       "A tibble: 8 × 4\n",
       "\n",
       "| No &lt;dbl&gt; | address &lt;chr&gt; | univ &lt;chr&gt; | college &lt;chr&gt; |\n",
       "|---|---|---|---|\n",
       "| 1 | Sichuan Univ, Coll Chem       | Sichuan Univ | Coll Chem       |\n",
       "| 2 | Sichuan Univ, Coll Elect Engn | Sichuan Univ | Coll Elect Engn |\n",
       "| 3 | Sichuan Univ, Dept Phys       | Sichuan Univ | Dept Phys       |\n",
       "| 4 | Sichuan Univ, Coll Life Sci   | Sichuan Univ | Coll Life Sci   |\n",
       "| 5 | Sichuan Univ, Food Engn       | Sichuan Univ | Food Engn       |\n",
       "| 6 | Sichuan Univ, Coll Phys       | Sichuan Univ | Coll Phys       |\n",
       "| 7 | Sichuan Univ, Sch Business    | Sichuan Univ | Sch Business    |\n",
       "| 8 | Wuhan Univ, Mat Sci           | Wuhan Univ   | Mat Sci         |\n",
       "\n"
      ],
      "text/plain": [
       "  No address                       univ         college        \n",
       "1 1  Sichuan Univ, Coll Chem       Sichuan Univ Coll Chem      \n",
       "2 2  Sichuan Univ, Coll Elect Engn Sichuan Univ Coll Elect Engn\n",
       "3 3  Sichuan Univ, Dept Phys       Sichuan Univ Dept Phys      \n",
       "4 4  Sichuan Univ, Coll Life Sci   Sichuan Univ Coll Life Sci  \n",
       "5 5  Sichuan Univ, Food Engn       Sichuan Univ Food Engn      \n",
       "6 6  Sichuan Univ, Coll Phys       Sichuan Univ Coll Phys      \n",
       "7 7  Sichuan Univ, Sch Business    Sichuan Univ Sch Business   \n",
       "8 8  Wuhan Univ, Mat Sci           Wuhan Univ   Mat Sci        "
      ]
     },
     "metadata": {},
     "output_type": "display_data"
    }
   ],
   "source": [
    "df %>% tidyr::extract(\n",
    "  address, c(\"univ\", \"college\"), \"(Sichuan Univ), (.+)\",\n",
    "  remove=FALSE)\n",
    "df %>% tidyr::extract(\n",
    "  address, c(\"univ\", \"college\"), \"(.*), (.+)\",\n",
    "  remove=FALSE)"
   ]
  },
  {
   "cell_type": "code",
   "execution_count": null,
   "id": "513d1aea",
   "metadata": {},
   "outputs": [],
   "source": []
  },
  {
   "cell_type": "code",
   "execution_count": null,
   "id": "4f7a9803",
   "metadata": {},
   "outputs": [],
   "source": []
  },
  {
   "cell_type": "code",
   "execution_count": null,
   "id": "a4837fb4",
   "metadata": {},
   "outputs": [],
   "source": []
  }
 ],
 "metadata": {
  "kernelspec": {
   "display_name": "R",
   "language": "R",
   "name": "ir"
  },
  "language_info": {
   "codemirror_mode": "r",
   "file_extension": ".r",
   "mimetype": "text/x-r-source",
   "name": "R",
   "pygments_lexer": "r",
   "version": "4.2.0"
  }
 },
 "nbformat": 4,
 "nbformat_minor": 5
}
