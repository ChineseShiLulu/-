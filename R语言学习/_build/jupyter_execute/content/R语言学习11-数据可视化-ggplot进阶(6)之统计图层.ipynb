{
 "cells": [
  {
   "attachments": {},
   "cell_type": "markdown",
   "id": "92ac6992",
   "metadata": {},
   "source": [
    "# ggplot2之统计图层\n",
    "**美学映射**是图形语法中非常重要的一个概念，**变量**映射到**视觉元素**，然后通过几何形状`GEOM`画出图形。（下图是每个几何形状所对应的视觉元素）![image.png](image/ggplot_aesthetics_cheatsheet.png)\n",
    "比如`geom_point(mapping = aes(x = mass, y = height))` 将会画出散点图，这里的`x`轴代表`mass`变量，而`y`轴代表`height`变量.\n",
    "\n",
    "因为`geom_*()`很强大而且也很容易理解，所以一般我们不会去思考我们的数据在喂给`ggplot()`后发生了什么，只希望能出图就行了。比如下面的直方图例子"
   ]
  },
  {
   "cell_type": "code",
   "execution_count": null,
   "id": "4d30fd60",
   "metadata": {},
   "outputs": [],
   "source": []
  }
 ],
 "metadata": {
  "kernelspec": {
   "display_name": "R",
   "language": "R",
   "name": "ir"
  },
  "language_info": {
   "codemirror_mode": "r",
   "file_extension": ".r",
   "mimetype": "text/x-r-source",
   "name": "R",
   "pygments_lexer": "r",
   "version": "4.2.0"
  }
 },
 "nbformat": 4,
 "nbformat_minor": 5
}