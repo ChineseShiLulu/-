{
 "cells": [
  {
   "cell_type": "markdown",
   "id": "b9e93184",
   "metadata": {},
   "source": [
    "## 对象\n",
    "- 一切都是对象\n",
    "  - R中存储的数据成为对象object，R语言数据处理实际上就是不断的创建和操控这些对象。\n",
    "- 对象的创建和使用\n",
    "  - 创建一个R对象，首先确定一个名称，然后使用赋值操作符 <-，将数据赋值给它"
   ]
  },
  {
   "cell_type": "markdown",
   "id": "0cca4ee2",
   "metadata": {},
   "source": [
    "#### 对象属性\n",
    "所有R对象都有其属性，其中最重要的两个属性是类型和长度"
   ]
  },
  {
   "cell_type": "code",
   "execution_count": 5,
   "id": "bc2b28fa",
   "metadata": {},
   "outputs": [
    {
     "data": {
      "text/html": [
       "'double'"
      ],
      "text/latex": [
       "'double'"
      ],
      "text/markdown": [
       "'double'"
      ],
      "text/plain": [
       "[1] \"double\""
      ]
     },
     "metadata": {},
     "output_type": "display_data"
    },
    {
     "data": {
      "text/html": [
       "1"
      ],
      "text/latex": [
       "1"
      ],
      "text/markdown": [
       "1"
      ],
      "text/plain": [
       "[1] 1"
      ]
     },
     "metadata": {},
     "output_type": "display_data"
    }
   ],
   "source": [
    "x  <- 123\n",
    "typeof(x) # 类型\n",
    "length(x) # 长度"
   ]
  },
  {
   "cell_type": "markdown",
   "id": "f5ba2418",
   "metadata": {},
   "source": [
    "## 向量\n",
    "- 向量就像冰糖葫芦\n",
    "  - 可以用 c() 函数实现类似结构"
   ]
  },
  {
   "cell_type": "code",
   "execution_count": 6,
   "id": "0ba0b1ae",
   "metadata": {},
   "outputs": [
    {
     "data": {
      "text/html": [
       "'double'"
      ],
      "text/latex": [
       "'double'"
      ],
      "text/markdown": [
       "'double'"
      ],
      "text/plain": [
       "[1] \"double\""
      ]
     },
     "metadata": {},
     "output_type": "display_data"
    },
    {
     "data": {
      "text/html": [
       "5"
      ],
      "text/latex": [
       "5"
      ],
      "text/markdown": [
       "5"
      ],
      "text/plain": [
       "[1] 5"
      ]
     },
     "metadata": {},
     "output_type": "display_data"
    }
   ],
   "source": [
    "x <- c(3,4,5,6,7)\n",
    "typeof(x)\n",
    "length(x)\n",
    "\n",
    "# 这里的c就是 combine 或 concatenate 的意思\n",
    "# 它要求元素之间用英文的逗号分隔\n",
    "# 且元素的数据类型是统一的，比如这里都是数值\n",
    "# c() 函数把一组数据聚合到了一起，就构成了一个向量。"
   ]
  },
  {
   "cell_type": "markdown",
   "id": "3813f644",
   "metadata": {},
   "source": [
    "- 聚合成新向量\n",
    "  - c() 函数还可以把两个向量聚合成一个新的向量。"
   ]
  },
  {
   "cell_type": "code",
   "execution_count": 7,
   "id": "aa38782d",
   "metadata": {},
   "outputs": [
    {
     "data": {
      "text/html": [
       "<style>\n",
       ".list-inline {list-style: none; margin:0; padding: 0}\n",
       ".list-inline>li {display: inline-block}\n",
       ".list-inline>li:not(:last-child)::after {content: \"\\00b7\"; padding: 0 .5ex}\n",
       "</style>\n",
       "<ol class=list-inline><li>1</li><li>2</li><li>3</li><li>4</li><li>5</li><li>6</li></ol>\n"
      ],
      "text/latex": [
       "\\begin{enumerate*}\n",
       "\\item 1\n",
       "\\item 2\n",
       "\\item 3\n",
       "\\item 4\n",
       "\\item 5\n",
       "\\item 6\n",
       "\\end{enumerate*}\n"
      ],
      "text/markdown": [
       "1. 1\n",
       "2. 2\n",
       "3. 3\n",
       "4. 4\n",
       "5. 5\n",
       "6. 6\n",
       "\n",
       "\n"
      ],
      "text/plain": [
       "[1] 1 2 3 4 5 6"
      ]
     },
     "metadata": {},
     "output_type": "display_data"
    }
   ],
   "source": [
    "low  <- c(1,2,3)\n",
    "high <- c(4,5,6)\n",
    "sequence <- c(low, high)\n",
    "sequence"
   ]
  },
  {
   "cell_type": "markdown",
   "id": "3eaf00a1",
   "metadata": {},
   "source": [
    "- 命名向量\n",
    "  - 相比与向量c(5, 6, 7, 8)， 每个元素可以有自己的名字\n",
    "  - 个人评价：类似于`python`中的字典——键值对"
   ]
  },
  {
   "cell_type": "code",
   "execution_count": 8,
   "id": "8ac549fb",
   "metadata": {},
   "outputs": [
    {
     "data": {
      "text/html": [
       "<style>\n",
       ".dl-inline {width: auto; margin:0; padding: 0}\n",
       ".dl-inline>dt, .dl-inline>dd {float: none; width: auto; display: inline-block}\n",
       ".dl-inline>dt::after {content: \":\\0020\"; padding-right: .5ex}\n",
       ".dl-inline>dt:not(:first-of-type) {padding-left: .5ex}\n",
       "</style><dl class=dl-inline><dt>a</dt><dd>5</dd><dt>b</dt><dd>6</dd><dt>c</dt><dd>7</dd><dt>d</dt><dd>8</dd></dl>\n"
      ],
      "text/latex": [
       "\\begin{description*}\n",
       "\\item[a] 5\n",
       "\\item[b] 6\n",
       "\\item[c] 7\n",
       "\\item[d] 8\n",
       "\\end{description*}\n"
      ],
      "text/markdown": [
       "a\n",
       ":   5b\n",
       ":   6c\n",
       ":   7d\n",
       ":   8\n",
       "\n"
      ],
      "text/plain": [
       "a b c d \n",
       "5 6 7 8 "
      ]
     },
     "metadata": {},
     "output_type": "display_data"
    }
   ],
   "source": [
    "x <- c('a'=5, 'b'=6, 'c'=7, 'd'=8)\n",
    "x"
   ]
  },
  {
   "cell_type": "code",
   "execution_count": 9,
   "id": "41213992",
   "metadata": {},
   "outputs": [
    {
     "data": {
      "text/html": [
       "<style>\n",
       ".dl-inline {width: auto; margin:0; padding: 0}\n",
       ".dl-inline>dt, .dl-inline>dd {float: none; width: auto; display: inline-block}\n",
       ".dl-inline>dt::after {content: \":\\0020\"; padding-right: .5ex}\n",
       ".dl-inline>dt:not(:first-of-type) {padding-left: .5ex}\n",
       "</style><dl class=dl-inline><dt>a</dt><dd>5</dd><dt>b</dt><dd>6</dd><dt>c</dt><dd>7</dd><dt>d</dt><dd>8</dd></dl>\n"
      ],
      "text/latex": [
       "\\begin{description*}\n",
       "\\item[a] 5\n",
       "\\item[b] 6\n",
       "\\item[c] 7\n",
       "\\item[d] 8\n",
       "\\end{description*}\n"
      ],
      "text/markdown": [
       "a\n",
       ":   5b\n",
       ":   6c\n",
       ":   7d\n",
       ":   8\n",
       "\n"
      ],
      "text/plain": [
       "a b c d \n",
       "5 6 7 8 "
      ]
     },
     "metadata": {},
     "output_type": "display_data"
    }
   ],
   "source": [
    "# 或者\n",
    "x <- c(5,6,7,8)\n",
    "names(x) <- c('a','b','c','d')\n",
    "x"
   ]
  },
  {
   "cell_type": "markdown",
   "id": "3c5b524d",
   "metadata": {},
   "source": [
    "### 数值型向量\n",
    "- 向量的元素都是数值类型，因此也叫数值型向量。\n",
    "  - 数值型的向量，有 integer 和 double 两种"
   ]
  },
  {
   "cell_type": "code",
   "execution_count": 37,
   "id": "65bd341c",
   "metadata": {},
   "outputs": [
    {
     "data": {
      "text/html": [
       "'double'"
      ],
      "text/latex": [
       "'double'"
      ],
      "text/markdown": [
       "'double'"
      ],
      "text/plain": [
       "[1] \"double\""
      ]
     },
     "metadata": {},
     "output_type": "display_data"
    },
    {
     "data": {
      "text/html": [
       "'numeric'"
      ],
      "text/latex": [
       "'numeric'"
      ],
      "text/markdown": [
       "'numeric'"
      ],
      "text/plain": [
       "[1] \"numeric\""
      ]
     },
     "metadata": {},
     "output_type": "display_data"
    },
    {
     "data": {
      "text/html": [
       "'numeric'"
      ],
      "text/latex": [
       "'numeric'"
      ],
      "text/markdown": [
       "'numeric'"
      ],
      "text/plain": [
       "[1] \"numeric\""
      ]
     },
     "metadata": {},
     "output_type": "display_data"
    }
   ],
   "source": [
    "x  <- c(1,5,2,3)\n",
    "typeof(x)\n",
    "x <- c(1.5,-0.5,2,3)\n",
    "class(x)\n",
    "x <- c(3e+06, 1.23e2)\n",
    "class(x)"
   ]
  },
  {
   "cell_type": "markdown",
   "id": "0d206a5b",
   "metadata": {},
   "source": [
    "   - seq() 函数可以生成等差数列，\n",
    "   - from 参数指定数列的起始值，to 参数指定数列的终止值，by 参数指定数值的间距"
   ]
  },
  {
   "cell_type": "code",
   "execution_count": 15,
   "id": "06cec7b8",
   "metadata": {},
   "outputs": [
    {
     "data": {
      "text/html": [
       "<style>\n",
       ".list-inline {list-style: none; margin:0; padding: 0}\n",
       ".list-inline>li {display: inline-block}\n",
       ".list-inline>li:not(:last-child)::after {content: \"\\00b7\"; padding: 0 .5ex}\n",
       "</style>\n",
       "<ol class=list-inline><li>0</li><li>0.5</li><li>1</li><li>1.5</li><li>2</li><li>2.5</li><li>3</li><li>3.5</li><li>4</li><li>4.5</li><li>5</li><li>5.5</li><li>6</li><li>6.5</li><li>7</li><li>7.5</li><li>8</li><li>8.5</li><li>9</li><li>9.5</li><li>10</li></ol>\n"
      ],
      "text/latex": [
       "\\begin{enumerate*}\n",
       "\\item 0\n",
       "\\item 0.5\n",
       "\\item 1\n",
       "\\item 1.5\n",
       "\\item 2\n",
       "\\item 2.5\n",
       "\\item 3\n",
       "\\item 3.5\n",
       "\\item 4\n",
       "\\item 4.5\n",
       "\\item 5\n",
       "\\item 5.5\n",
       "\\item 6\n",
       "\\item 6.5\n",
       "\\item 7\n",
       "\\item 7.5\n",
       "\\item 8\n",
       "\\item 8.5\n",
       "\\item 9\n",
       "\\item 9.5\n",
       "\\item 10\n",
       "\\end{enumerate*}\n"
      ],
      "text/markdown": [
       "1. 0\n",
       "2. 0.5\n",
       "3. 1\n",
       "4. 1.5\n",
       "5. 2\n",
       "6. 2.5\n",
       "7. 3\n",
       "8. 3.5\n",
       "9. 4\n",
       "10. 4.5\n",
       "11. 5\n",
       "12. 5.5\n",
       "13. 6\n",
       "14. 6.5\n",
       "15. 7\n",
       "16. 7.5\n",
       "17. 8\n",
       "18. 8.5\n",
       "19. 9\n",
       "20. 9.5\n",
       "21. 10\n",
       "\n",
       "\n"
      ],
      "text/plain": [
       " [1]  0.0  0.5  1.0  1.5  2.0  2.5  3.0  3.5  4.0  4.5  5.0  5.5  6.0  6.5  7.0\n",
       "[16]  7.5  8.0  8.5  9.0  9.5 10.0"
      ]
     },
     "metadata": {},
     "output_type": "display_data"
    }
   ],
   "source": [
    "s1  <- seq(from=0, to=10, by=0.5)\n",
    "s1"
   ]
  },
  {
   "cell_type": "markdown",
   "id": "76c490fe",
   "metadata": {},
   "source": [
    "   - rep() 是 repeat（重复）的意思，可以用于产生重复出现的数字序列：\n",
    "   - x 用于重复的向量，times 参数可以指定要生成的个数，each 参数可以指定每个元素重复的次数"
   ]
  },
  {
   "cell_type": "code",
   "execution_count": 16,
   "id": "8d1d09e8",
   "metadata": {},
   "outputs": [
    {
     "data": {
      "text/html": [
       "<style>\n",
       ".list-inline {list-style: none; margin:0; padding: 0}\n",
       ".list-inline>li {display: inline-block}\n",
       ".list-inline>li:not(:last-child)::after {content: \"\\00b7\"; padding: 0 .5ex}\n",
       "</style>\n",
       "<ol class=list-inline><li>0</li><li>1</li><li>0</li><li>1</li><li>0</li><li>1</li></ol>\n"
      ],
      "text/latex": [
       "\\begin{enumerate*}\n",
       "\\item 0\n",
       "\\item 1\n",
       "\\item 0\n",
       "\\item 1\n",
       "\\item 0\n",
       "\\item 1\n",
       "\\end{enumerate*}\n"
      ],
      "text/markdown": [
       "1. 0\n",
       "2. 1\n",
       "3. 0\n",
       "4. 1\n",
       "5. 0\n",
       "6. 1\n",
       "\n",
       "\n"
      ],
      "text/plain": [
       "[1] 0 1 0 1 0 1"
      ]
     },
     "metadata": {},
     "output_type": "display_data"
    },
    {
     "data": {
      "text/html": [
       "<style>\n",
       ".list-inline {list-style: none; margin:0; padding: 0}\n",
       ".list-inline>li {display: inline-block}\n",
       ".list-inline>li:not(:last-child)::after {content: \"\\00b7\"; padding: 0 .5ex}\n",
       "</style>\n",
       "<ol class=list-inline><li>0</li><li>0</li><li>0</li><li>1</li><li>1</li><li>1</li></ol>\n"
      ],
      "text/latex": [
       "\\begin{enumerate*}\n",
       "\\item 0\n",
       "\\item 0\n",
       "\\item 0\n",
       "\\item 1\n",
       "\\item 1\n",
       "\\item 1\n",
       "\\end{enumerate*}\n"
      ],
      "text/markdown": [
       "1. 0\n",
       "2. 0\n",
       "3. 0\n",
       "4. 1\n",
       "5. 1\n",
       "6. 1\n",
       "\n",
       "\n"
      ],
      "text/plain": [
       "[1] 0 0 0 1 1 1"
      ]
     },
     "metadata": {},
     "output_type": "display_data"
    }
   ],
   "source": [
    "s2 <- rep(x=c(0,1), times=3)\n",
    "s2\n",
    "\n",
    "s3 <- rep(x=c(0,1), each=3)\n",
    "s3"
   ]
  },
  {
   "cell_type": "markdown",
   "id": "c8da6aa5",
   "metadata": {},
   "source": [
    "  - m:n，如果单纯是要生成数值间距为1的数列，用 m:n 更快捷，\n",
    "  - 它产生从 m 到 n 的间距为1的数列"
   ]
  },
  {
   "cell_type": "code",
   "execution_count": 17,
   "id": "8811a6d9",
   "metadata": {},
   "outputs": [
    {
     "data": {
      "text/html": [
       "<style>\n",
       ".list-inline {list-style: none; margin:0; padding: 0}\n",
       ".list-inline>li {display: inline-block}\n",
       ".list-inline>li:not(:last-child)::after {content: \"\\00b7\"; padding: 0 .5ex}\n",
       "</style>\n",
       "<ol class=list-inline><li>0</li><li>1</li><li>2</li><li>3</li><li>4</li><li>5</li><li>6</li><li>7</li><li>8</li><li>9</li><li>10</li></ol>\n"
      ],
      "text/latex": [
       "\\begin{enumerate*}\n",
       "\\item 0\n",
       "\\item 1\n",
       "\\item 2\n",
       "\\item 3\n",
       "\\item 4\n",
       "\\item 5\n",
       "\\item 6\n",
       "\\item 7\n",
       "\\item 8\n",
       "\\item 9\n",
       "\\item 10\n",
       "\\end{enumerate*}\n"
      ],
      "text/markdown": [
       "1. 0\n",
       "2. 1\n",
       "3. 2\n",
       "4. 3\n",
       "5. 4\n",
       "6. 5\n",
       "7. 6\n",
       "8. 7\n",
       "9. 8\n",
       "10. 9\n",
       "11. 10\n",
       "\n",
       "\n"
      ],
      "text/plain": [
       " [1]  0  1  2  3  4  5  6  7  8  9 10"
      ]
     },
     "metadata": {},
     "output_type": "display_data"
    }
   ],
   "source": [
    "s4 <- 0:10\n",
    "s4"
   ]
  },
  {
   "cell_type": "markdown",
   "id": "e23c3729",
   "metadata": {},
   "source": [
    "### 字符串向量\n",
    "- 字符串（String）数据类型，实际上就是文本类型，必须用单引号或者是双引号包含"
   ]
  },
  {
   "cell_type": "code",
   "execution_count": 18,
   "id": "932b1683",
   "metadata": {},
   "outputs": [],
   "source": [
    "x <- c(\"a\", \"b\", \"c\")    \n",
    "x <- c('Alice', 'Bob', 'Charlie', 'Dave')    \n",
    "x <- c(\"hello\", \"baby\", \"I love you!\") "
   ]
  },
  {
   "cell_type": "code",
   "execution_count": 35,
   "id": "16ef3749",
   "metadata": {},
   "outputs": [
    {
     "data": {
      "text/html": [
       "'character'"
      ],
      "text/latex": [
       "'character'"
      ],
      "text/markdown": [
       "'character'"
      ],
      "text/plain": [
       "[1] \"character\""
      ]
     },
     "metadata": {},
     "output_type": "display_data"
    },
    {
     "data": {
      "text/html": [
       "'numeric'"
      ],
      "text/latex": [
       "'numeric'"
      ],
      "text/markdown": [
       "'numeric'"
      ],
      "text/plain": [
       "[1] \"numeric\""
      ]
     },
     "metadata": {},
     "output_type": "display_data"
    }
   ],
   "source": [
    "## x1是字符串型向量，x2是数值型向量\n",
    "x1 <- c(\"1\", \"2\", \"3\")\n",
    "x2 <- c(1, 2, 3)\n",
    "class(x1)\n",
    "class(x2)"
   ]
  },
  {
   "cell_type": "markdown",
   "id": "91a33837",
   "metadata": {},
   "source": [
    "### 逻辑型向量\n",
    "- 逻辑型常称为布尔型（Boolean）， 它的常量值只有`TRUE`和`FALSE`。\n",
    "- TRUE和FALSE必须都大写"
   ]
  },
  {
   "cell_type": "markdown",
   "id": "7be37c4b",
   "metadata": {},
   "source": [
    "### 因子型向量\n",
    "- 因子型可以看作是字符串向量的增强版，它是带有层级（Levels）的字符串向量。\n",
    "- 使用`factor()`函数可以将字符串向量转换成因子型向量，即可用`levels`参数指定顺序"
   ]
  },
  {
   "cell_type": "code",
   "execution_count": 24,
   "id": "9461f626",
   "metadata": {},
   "outputs": [
    {
     "data": {
      "text/html": [
       "<style>\n",
       ".list-inline {list-style: none; margin:0; padding: 0}\n",
       ".list-inline>li {display: inline-block}\n",
       ".list-inline>li:not(:last-child)::after {content: \"\\00b7\"; padding: 0 .5ex}\n",
       "</style>\n",
       "<ol class=list-inline><li>'spring'</li><li>'summer'</li><li>'autumn'</li><li>'winter'</li></ol>\n"
      ],
      "text/latex": [
       "\\begin{enumerate*}\n",
       "\\item 'spring'\n",
       "\\item 'summer'\n",
       "\\item 'autumn'\n",
       "\\item 'winter'\n",
       "\\end{enumerate*}\n"
      ],
      "text/markdown": [
       "1. 'spring'\n",
       "2. 'summer'\n",
       "3. 'autumn'\n",
       "4. 'winter'\n",
       "\n",
       "\n"
      ],
      "text/plain": [
       "[1] \"spring\" \"summer\" \"autumn\" \"winter\""
      ]
     },
     "metadata": {},
     "output_type": "display_data"
    },
    {
     "data": {
      "text/html": [
       "'character'"
      ],
      "text/latex": [
       "'character'"
      ],
      "text/markdown": [
       "'character'"
      ],
      "text/plain": [
       "[1] \"character\""
      ]
     },
     "metadata": {},
     "output_type": "display_data"
    },
    {
     "data": {
      "text/html": [
       "<style>\n",
       ".list-inline {list-style: none; margin:0; padding: 0}\n",
       ".list-inline>li {display: inline-block}\n",
       ".list-inline>li:not(:last-child)::after {content: \"\\00b7\"; padding: 0 .5ex}\n",
       "</style>\n",
       "<ol class=list-inline><li>spring</li><li>summer</li><li>autumn</li><li>winter</li></ol>\n",
       "\n",
       "<details>\n",
       "\t<summary style=display:list-item;cursor:pointer>\n",
       "\t\t<strong>Levels</strong>:\n",
       "\t</summary>\n",
       "\t<style>\n",
       "\t.list-inline {list-style: none; margin:0; padding: 0}\n",
       "\t.list-inline>li {display: inline-block}\n",
       "\t.list-inline>li:not(:last-child)::after {content: \"\\00b7\"; padding: 0 .5ex}\n",
       "\t</style>\n",
       "\t<ol class=list-inline><li>'summer'</li><li>'winter'</li><li>'spring'</li><li>'autumn'</li></ol>\n",
       "</details>"
      ],
      "text/latex": [
       "\\begin{enumerate*}\n",
       "\\item spring\n",
       "\\item summer\n",
       "\\item autumn\n",
       "\\item winter\n",
       "\\end{enumerate*}\n",
       "\n",
       "\\emph{Levels}: \\begin{enumerate*}\n",
       "\\item 'summer'\n",
       "\\item 'winter'\n",
       "\\item 'spring'\n",
       "\\item 'autumn'\n",
       "\\end{enumerate*}\n"
      ],
      "text/markdown": [
       "1. spring\n",
       "2. summer\n",
       "3. autumn\n",
       "4. winter\n",
       "\n",
       "\n",
       "\n",
       "**Levels**: 1. 'summer'\n",
       "2. 'winter'\n",
       "3. 'spring'\n",
       "4. 'autumn'\n",
       "\n",
       "\n"
      ],
      "text/plain": [
       "[1] spring summer autumn winter\n",
       "Levels: summer winter spring autumn"
      ]
     },
     "metadata": {},
     "output_type": "display_data"
    },
    {
     "data": {
      "text/html": [
       "'integer'"
      ],
      "text/latex": [
       "'integer'"
      ],
      "text/markdown": [
       "'integer'"
      ],
      "text/plain": [
       "[1] \"integer\""
      ]
     },
     "metadata": {},
     "output_type": "display_data"
    }
   ],
   "source": [
    "four_seasons <- c(\"spring\", \"summer\", \"autumn\", \"winter\")\n",
    "four_seasons\n",
    "typeof(four_seasons)\n",
    "\n",
    "four_seasons_factor <- factor(four_seasons, \n",
    "                             levels = c(\"summer\", \"winter\", \"spring\", \"autumn\"))\n",
    "four_seasons_factor\n",
    "typeof(four_seasons_factor)"
   ]
  },
  {
   "cell_type": "markdown",
   "id": "57ca82fa",
   "metadata": {},
   "source": [
    "### 强制转换\n",
    "- 矢量中的元素必须是相同的类型，但如果不一样呢，会发生什么？ \n",
    "- 这个时候R会强制转换成相同的类型。这就涉及数据类型的转换层级\n",
    "  - character > numeric > logical\n",
    "  - double > integer"
   ]
  },
  {
   "cell_type": "code",
   "execution_count": 28,
   "id": "edb1c1ec",
   "metadata": {},
   "outputs": [
    {
     "data": {
      "text/html": [
       "<style>\n",
       ".list-inline {list-style: none; margin:0; padding: 0}\n",
       ".list-inline>li {display: inline-block}\n",
       ".list-inline>li:not(:last-child)::after {content: \"\\00b7\"; padding: 0 .5ex}\n",
       "</style>\n",
       "<ol class=list-inline><li>'1'</li><li>'foo'</li><li>'TRUE'</li></ol>\n"
      ],
      "text/latex": [
       "\\begin{enumerate*}\n",
       "\\item '1'\n",
       "\\item 'foo'\n",
       "\\item 'TRUE'\n",
       "\\end{enumerate*}\n"
      ],
      "text/markdown": [
       "1. '1'\n",
       "2. 'foo'\n",
       "3. 'TRUE'\n",
       "\n",
       "\n"
      ],
      "text/plain": [
       "[1] \"1\"    \"foo\"  \"TRUE\""
      ]
     },
     "metadata": {},
     "output_type": "display_data"
    },
    {
     "data": {
      "text/html": [
       "<style>\n",
       ".list-inline {list-style: none; margin:0; padding: 0}\n",
       ".list-inline>li {display: inline-block}\n",
       ".list-inline>li:not(:last-child)::after {content: \"\\00b7\"; padding: 0 .5ex}\n",
       "</style>\n",
       "<ol class=list-inline><li>7</li><li>1</li><li>0</li></ol>\n"
      ],
      "text/latex": [
       "\\begin{enumerate*}\n",
       "\\item 7\n",
       "\\item 1\n",
       "\\item 0\n",
       "\\end{enumerate*}\n"
      ],
      "text/markdown": [
       "1. 7\n",
       "2. 1\n",
       "3. 0\n",
       "\n",
       "\n"
      ],
      "text/plain": [
       "[1] 7 1 0"
      ]
     },
     "metadata": {},
     "output_type": "display_data"
    },
    {
     "data": {
      "text/html": [
       "<style>\n",
       ".list-inline {list-style: none; margin:0; padding: 0}\n",
       ".list-inline>li {display: inline-block}\n",
       ".list-inline>li:not(:last-child)::after {content: \"\\00b7\"; padding: 0 .5ex}\n",
       "</style>\n",
       "<ol class=list-inline><li>1</li><li>2</li><li>3.14159265358979</li></ol>\n"
      ],
      "text/latex": [
       "\\begin{enumerate*}\n",
       "\\item 1\n",
       "\\item 2\n",
       "\\item 3.14159265358979\n",
       "\\end{enumerate*}\n"
      ],
      "text/markdown": [
       "1. 1\n",
       "2. 2\n",
       "3. 3.14159265358979\n",
       "\n",
       "\n"
      ],
      "text/plain": [
       "[1] 1.000000 2.000000 3.141593"
      ]
     },
     "metadata": {},
     "output_type": "display_data"
    }
   ],
   "source": [
    "c(1, \"foo\", TRUE) # 强制转换成字符串类型\n",
    "c(7, TRUE, FALSE) # 强制转换成数值型\n",
    "c(1L, 2, pi) # 强制转换成双精度的数值型"
   ]
  },
  {
   "cell_type": "markdown",
   "id": "57a1b078",
   "metadata": {},
   "source": [
    "## 数据结构\n",
    "- 向量\n",
    "- 矩阵 matrix\n",
    "- 列表 list\n",
    "- 数据框 dataframe"
   ]
  },
  {
   "cell_type": "markdown",
   "id": "821210ab",
   "metadata": {},
   "source": [
    "### 矩阵\n",
    "- 矩阵可以存储行(row)和列(column)二维的数据。\n",
    "- 实际上是向量的另一种表现形式，也就说它的本质还是向量，一维的向量用二维的方式呈现\n",
    "- 矩阵可以用`matrix()`函数创建，第一个位置的参数是用于创建矩阵的向量\n",
    "- 默认情况是竖着排，第一列排完再第二列这样，可用`byrow=TRUE`指定横着排，第一行排完排第二行"
   ]
  },
  {
   "cell_type": "code",
   "execution_count": 40,
   "id": "5c645061",
   "metadata": {},
   "outputs": [
    {
     "data": {
      "text/html": [
       "<table class=\"dataframe\">\n",
       "<caption>A matrix: 2 × 3 of type dbl</caption>\n",
       "<tbody>\n",
       "\t<tr><td>2</td><td>3</td><td>5</td></tr>\n",
       "\t<tr><td>4</td><td>1</td><td>7</td></tr>\n",
       "</tbody>\n",
       "</table>\n"
      ],
      "text/latex": [
       "A matrix: 2 × 3 of type dbl\n",
       "\\begin{tabular}{lll}\n",
       "\t 2 & 3 & 5\\\\\n",
       "\t 4 & 1 & 7\\\\\n",
       "\\end{tabular}\n"
      ],
      "text/markdown": [
       "\n",
       "A matrix: 2 × 3 of type dbl\n",
       "\n",
       "| 2 | 3 | 5 |\n",
       "| 4 | 1 | 7 |\n",
       "\n"
      ],
      "text/plain": [
       "     [,1] [,2] [,3]\n",
       "[1,] 2    3    5   \n",
       "[2,] 4    1    7   "
      ]
     },
     "metadata": {},
     "output_type": "display_data"
    },
    {
     "data": {
      "text/html": [
       "<table class=\"dataframe\">\n",
       "<caption>A matrix: 2 × 3 of type dbl</caption>\n",
       "<tbody>\n",
       "\t<tr><td>2</td><td>4</td><td>3</td></tr>\n",
       "\t<tr><td>1</td><td>5</td><td>7</td></tr>\n",
       "</tbody>\n",
       "</table>\n"
      ],
      "text/latex": [
       "A matrix: 2 × 3 of type dbl\n",
       "\\begin{tabular}{lll}\n",
       "\t 2 & 4 & 3\\\\\n",
       "\t 1 & 5 & 7\\\\\n",
       "\\end{tabular}\n"
      ],
      "text/markdown": [
       "\n",
       "A matrix: 2 × 3 of type dbl\n",
       "\n",
       "| 2 | 4 | 3 |\n",
       "| 1 | 5 | 7 |\n",
       "\n"
      ],
      "text/plain": [
       "     [,1] [,2] [,3]\n",
       "[1,] 2    4    3   \n",
       "[2,] 1    5    7   "
      ]
     },
     "metadata": {},
     "output_type": "display_data"
    },
    {
     "data": {
      "text/html": [
       "<style>\n",
       ".list-inline {list-style: none; margin:0; padding: 0}\n",
       ".list-inline>li {display: inline-block}\n",
       ".list-inline>li:not(:last-child)::after {content: \"\\00b7\"; padding: 0 .5ex}\n",
       "</style>\n",
       "<ol class=list-inline><li>'matrix'</li><li>'array'</li></ol>\n"
      ],
      "text/latex": [
       "\\begin{enumerate*}\n",
       "\\item 'matrix'\n",
       "\\item 'array'\n",
       "\\end{enumerate*}\n"
      ],
      "text/markdown": [
       "1. 'matrix'\n",
       "2. 'array'\n",
       "\n",
       "\n"
      ],
      "text/plain": [
       "[1] \"matrix\" \"array\" "
      ]
     },
     "metadata": {},
     "output_type": "display_data"
    },
    {
     "data": {
      "text/html": [
       "6"
      ],
      "text/latex": [
       "6"
      ],
      "text/markdown": [
       "6"
      ],
      "text/plain": [
       "[1] 6"
      ]
     },
     "metadata": {},
     "output_type": "display_data"
    },
    {
     "data": {
      "text/html": [
       "<style>\n",
       ".list-inline {list-style: none; margin:0; padding: 0}\n",
       ".list-inline>li {display: inline-block}\n",
       ".list-inline>li:not(:last-child)::after {content: \"\\00b7\"; padding: 0 .5ex}\n",
       "</style>\n",
       "<ol class=list-inline><li>2</li><li>3</li></ol>\n"
      ],
      "text/latex": [
       "\\begin{enumerate*}\n",
       "\\item 2\n",
       "\\item 3\n",
       "\\end{enumerate*}\n"
      ],
      "text/markdown": [
       "1. 2\n",
       "2. 3\n",
       "\n",
       "\n"
      ],
      "text/plain": [
       "[1] 2 3"
      ]
     },
     "metadata": {},
     "output_type": "display_data"
    }
   ],
   "source": [
    "m <- matrix(c(2,4,3,1,5,7),\n",
    "           nrow=2,\n",
    "           ncol=3)\n",
    "m\n",
    "\n",
    "m1 <- matrix(c(2,4,3,1,5,7),\n",
    "            nrow=2,\n",
    "            ncol=3,\n",
    "            byrow=TRUE)\n",
    "m1\n",
    "class(m1) # 类型\n",
    "length(m1) # 长度\n",
    "dim(m1) # 维度"
   ]
  },
  {
   "attachments": {
    "image-2.png": {
     "image/png": "[encoded data removed]"
    },
    "image.png": {
     "image/png": "[encoded data removed]"
    }
   },
   "cell_type": "markdown",
   "id": "07065034",
   "metadata": {},
   "source": [
    "### 列表\n",
    "- 如果我们想要装更多的东西，可以想象有一个小火车，小火车的每节车厢是独立的，因此每节车厢装的东西可以不一样。这种结构装载数据的能力很强大，称之为列表。\n",
    "  - ![image.png](attachment:image.png)\n",
    "- 我们可以使用`list()`函数创建列表，和python的list不太一样\n",
    "- `c()`函数创建向量 对比`list()`函数创建列表\n",
    "  - ![image-2.png](attachment:image-2.png)"
   ]
  },
  {
   "cell_type": "code",
   "execution_count": 44,
   "id": "9bc7be82",
   "metadata": {},
   "outputs": [
    {
     "data": {
      "text/html": [
       "<dl>\n",
       "\t<dt>$a</dt>\n",
       "\t\t<dd><style>\n",
       ".list-inline {list-style: none; margin:0; padding: 0}\n",
       ".list-inline>li {display: inline-block}\n",
       ".list-inline>li:not(:last-child)::after {content: \"\\00b7\"; padding: 0 .5ex}\n",
       "</style>\n",
       "<ol class=list-inline><li>5</li><li>10</li></ol>\n",
       "</dd>\n",
       "\t<dt>$b</dt>\n",
       "\t\t<dd><style>\n",
       ".list-inline {list-style: none; margin:0; padding: 0}\n",
       ".list-inline>li {display: inline-block}\n",
       ".list-inline>li:not(:last-child)::after {content: \"\\00b7\"; padding: 0 .5ex}\n",
       "</style>\n",
       "<ol class=list-inline><li>'I'</li><li>'love'</li><li>'R'</li><li>'language'</li><li>'!'</li></ol>\n",
       "</dd>\n",
       "\t<dt>$c</dt>\n",
       "\t\t<dd><style>\n",
       ".list-inline {list-style: none; margin:0; padding: 0}\n",
       ".list-inline>li {display: inline-block}\n",
       ".list-inline>li:not(:last-child)::after {content: \"\\00b7\"; padding: 0 .5ex}\n",
       "</style>\n",
       "<ol class=list-inline><li>TRUE</li><li>TRUE</li><li>FALSE</li><li>TRUE</li></ol>\n",
       "</dd>\n",
       "</dl>\n"
      ],
      "text/latex": [
       "\\begin{description}\n",
       "\\item[\\$a] \\begin{enumerate*}\n",
       "\\item 5\n",
       "\\item 10\n",
       "\\end{enumerate*}\n",
       "\n",
       "\\item[\\$b] \\begin{enumerate*}\n",
       "\\item 'I'\n",
       "\\item 'love'\n",
       "\\item 'R'\n",
       "\\item 'language'\n",
       "\\item '!'\n",
       "\\end{enumerate*}\n",
       "\n",
       "\\item[\\$c] \\begin{enumerate*}\n",
       "\\item TRUE\n",
       "\\item TRUE\n",
       "\\item FALSE\n",
       "\\item TRUE\n",
       "\\end{enumerate*}\n",
       "\n",
       "\\end{description}\n"
      ],
      "text/markdown": [
       "$a\n",
       ":   1. 5\n",
       "2. 10\n",
       "\n",
       "\n",
       "\n",
       "$b\n",
       ":   1. 'I'\n",
       "2. 'love'\n",
       "3. 'R'\n",
       "4. 'language'\n",
       "5. '!'\n",
       "\n",
       "\n",
       "\n",
       "$c\n",
       ":   1. TRUE\n",
       "2. TRUE\n",
       "3. FALSE\n",
       "4. TRUE\n",
       "\n",
       "\n",
       "\n",
       "\n",
       "\n"
      ],
      "text/plain": [
       "$a\n",
       "[1]  5 10\n",
       "\n",
       "$b\n",
       "[1] \"I\"        \"love\"     \"R\"        \"language\" \"!\"       \n",
       "\n",
       "$c\n",
       "[1]  TRUE  TRUE FALSE  TRUE\n"
      ]
     },
     "metadata": {},
     "output_type": "display_data"
    },
    {
     "data": {
      "text/html": [
       "<style>\n",
       ".list-inline {list-style: none; margin:0; padding: 0}\n",
       ".list-inline>li {display: inline-block}\n",
       ".list-inline>li:not(:last-child)::after {content: \"\\00b7\"; padding: 0 .5ex}\n",
       "</style>\n",
       "<ol class=list-inline><li>5</li><li>10</li></ol>\n"
      ],
      "text/latex": [
       "\\begin{enumerate*}\n",
       "\\item 5\n",
       "\\item 10\n",
       "\\end{enumerate*}\n"
      ],
      "text/markdown": [
       "1. 5\n",
       "2. 10\n",
       "\n",
       "\n"
      ],
      "text/plain": [
       "[1]  5 10"
      ]
     },
     "metadata": {},
     "output_type": "display_data"
    },
    {
     "data": {
      "text/html": [
       "'love'"
      ],
      "text/latex": [
       "'love'"
      ],
      "text/markdown": [
       "'love'"
      ],
      "text/plain": [
       "[1] \"love\""
      ]
     },
     "metadata": {},
     "output_type": "display_data"
    }
   ],
   "source": [
    "list1 <- list(a=c(5, 10),\n",
    "             b=c(\"I\", \"love\", \"R\", \"language\", \"!\"),\n",
    "             c=c(TRUE, TRUE, FALSE, TRUE))\n",
    "list1\n",
    "list1$a\n",
    "list1$`b[2]"
   ]
  },
  {
   "cell_type": "markdown",
   "id": "15913b82",
   "metadata": {},
   "source": [
    "### 数据框\n",
    "- 列表可以想象成一个小火车，如果每节车厢装的都是向量而且等长，那么这种特殊形式的列表就变成了数据框\n",
    "- 数据框是一种特殊的列表，我们可以使用`data.frame()`函数构建数据框\n",
    "\n",
    "#### 属性"
   ]
  },
  {
   "cell_type": "code",
   "execution_count": 48,
   "id": "00b0411a",
   "metadata": {},
   "outputs": [
    {
     "data": {
      "text/html": [
       "<table class=\"dataframe\">\n",
       "<caption>A data.frame: 4 × 4</caption>\n",
       "<thead>\n",
       "\t<tr><th scope=col>name</th><th scope=col>age</th><th scope=col>marriage</th><th scope=col>color</th></tr>\n",
       "\t<tr><th scope=col>&lt;chr&gt;</th><th scope=col>&lt;dbl&gt;</th><th scope=col>&lt;lgl&gt;</th><th scope=col>&lt;chr&gt;</th></tr>\n",
       "</thead>\n",
       "<tbody>\n",
       "\t<tr><td>Alice</td><td> 3</td><td> TRUE</td><td>red   </td></tr>\n",
       "\t<tr><td>Bob  </td><td>34</td><td>FALSE</td><td>blue  </td></tr>\n",
       "\t<tr><td>Carl </td><td>23</td><td> TRUE</td><td>orange</td></tr>\n",
       "\t<tr><td>Dave </td><td>25</td><td>FALSE</td><td>purple</td></tr>\n",
       "</tbody>\n",
       "</table>\n"
      ],
      "text/latex": [
       "A data.frame: 4 × 4\n",
       "\\begin{tabular}{llll}\n",
       " name & age & marriage & color\\\\\n",
       " <chr> & <dbl> & <lgl> & <chr>\\\\\n",
       "\\hline\n",
       "\t Alice &  3 &  TRUE & red   \\\\\n",
       "\t Bob   & 34 & FALSE & blue  \\\\\n",
       "\t Carl  & 23 &  TRUE & orange\\\\\n",
       "\t Dave  & 25 & FALSE & purple\\\\\n",
       "\\end{tabular}\n"
      ],
      "text/markdown": [
       "\n",
       "A data.frame: 4 × 4\n",
       "\n",
       "| name &lt;chr&gt; | age &lt;dbl&gt; | marriage &lt;lgl&gt; | color &lt;chr&gt; |\n",
       "|---|---|---|---|\n",
       "| Alice |  3 |  TRUE | red    |\n",
       "| Bob   | 34 | FALSE | blue   |\n",
       "| Carl  | 23 |  TRUE | orange |\n",
       "| Dave  | 25 | FALSE | purple |\n",
       "\n"
      ],
      "text/plain": [
       "  name  age marriage color \n",
       "1 Alice  3   TRUE    red   \n",
       "2 Bob   34  FALSE    blue  \n",
       "3 Carl  23   TRUE    orange\n",
       "4 Dave  25  FALSE    purple"
      ]
     },
     "metadata": {},
     "output_type": "display_data"
    },
    {
     "data": {
      "text/html": [
       "'data.frame'"
      ],
      "text/latex": [
       "'data.frame'"
      ],
      "text/markdown": [
       "'data.frame'"
      ],
      "text/plain": [
       "[1] \"data.frame\""
      ]
     },
     "metadata": {},
     "output_type": "display_data"
    },
    {
     "data": {
      "text/html": [
       "4"
      ],
      "text/latex": [
       "4"
      ],
      "text/markdown": [
       "4"
      ],
      "text/plain": [
       "[1] 4"
      ]
     },
     "metadata": {},
     "output_type": "display_data"
    },
    {
     "data": {
      "text/html": [
       "4"
      ],
      "text/latex": [
       "4"
      ],
      "text/markdown": [
       "4"
      ],
      "text/plain": [
       "[1] 4"
      ]
     },
     "metadata": {},
     "output_type": "display_data"
    }
   ],
   "source": [
    "df <- data.frame(\n",
    "name = c(\"Alice\", \"Bob\", \"Carl\", \"Dave\"),\n",
    "age = c(3, 34, 23, 25),\n",
    "marriage = c(TRUE, FALSE, TRUE, FALSE),\n",
    "color = c(\"red\", \"blue\", \"orange\", \"purple\")\n",
    ")\n",
    "df\n",
    "class(df) # 类型\n",
    "nrow(df)  # 维度\n",
    "ncol(df)  # 维度\n"
   ]
  },
  {
   "attachments": {
    "image.png": {
     "image/png": "[encoded data removed]"
    }
   },
   "cell_type": "markdown",
   "id": "058465ab",
   "metadata": {},
   "source": [
    "![image.png](attachment:image.png)"
   ]
  },
  {
   "cell_type": "markdown",
   "id": "245c74b5",
   "metadata": {},
   "source": [
    "## 运算符及向量运算\n",
    "- 算数运算符  + - x ➗\n",
    "- 关系运算符  = > < !=\n",
    "- 逻辑运算符 & |\n",
    "- 其他运算符"
   ]
  },
  {
   "cell_type": "markdown",
   "id": "eee623a2",
   "metadata": {},
   "source": [
    "### 算数运算符\n",
    "- `+ - * / `\n",
    "- 循环补齐\n",
    "  - 做算术运算时，当两个向量长度相等的时候，就一一对应的完成计算；\n",
    "  - 当两个向量长度不相等的时候，短的向量会`循环补齐`，保持与长向量的长度一致后，再做运算\n",
    "  - 需要长向量是短向量的整数倍才能运算"
   ]
  },
  {
   "cell_type": "code",
   "execution_count": 50,
   "id": "5b2ee082",
   "metadata": {},
   "outputs": [
    {
     "data": {
      "text/html": [
       "<style>\n",
       ".list-inline {list-style: none; margin:0; padding: 0}\n",
       ".list-inline>li {display: inline-block}\n",
       ".list-inline>li:not(:last-child)::after {content: \"\\00b7\"; padding: 0 .5ex}\n",
       "</style>\n",
       "<ol class=list-inline><li>11</li><li>22</li><li>31</li><li>42</li></ol>\n"
      ],
      "text/latex": [
       "\\begin{enumerate*}\n",
       "\\item 11\n",
       "\\item 22\n",
       "\\item 31\n",
       "\\item 42\n",
       "\\end{enumerate*}\n"
      ],
      "text/markdown": [
       "1. 11\n",
       "2. 22\n",
       "3. 31\n",
       "4. 42\n",
       "\n",
       "\n"
      ],
      "text/plain": [
       "[1] 11 22 31 42"
      ]
     },
     "metadata": {},
     "output_type": "display_data"
    }
   ],
   "source": [
    "x <- c(1,2)\n",
    "y <- c(10,20,30,40)\n",
    "x+y"
   ]
  },
  {
   "cell_type": "markdown",
   "id": "372c0534",
   "metadata": {},
   "source": [
    "### 关系运算符\n",
    "- 将第一向量的每个元素与第二向量的相应元素进行比较，比较的结果是布尔值，布尔值是“真” TRUE 或“假” FALSE 中的一个。\n",
    "- `<  >  = !=`"
   ]
  },
  {
   "cell_type": "code",
   "execution_count": 52,
   "id": "fd514a29",
   "metadata": {},
   "outputs": [
    {
     "data": {
      "text/html": [
       "<style>\n",
       ".list-inline {list-style: none; margin:0; padding: 0}\n",
       ".list-inline>li {display: inline-block}\n",
       ".list-inline>li:not(:last-child)::after {content: \"\\00b7\"; padding: 0 .5ex}\n",
       "</style>\n",
       "<ol class=list-inline><li>FALSE</li><li>FALSE</li><li>FALSE</li></ol>\n"
      ],
      "text/latex": [
       "\\begin{enumerate*}\n",
       "\\item FALSE\n",
       "\\item FALSE\n",
       "\\item FALSE\n",
       "\\end{enumerate*}\n"
      ],
      "text/markdown": [
       "1. FALSE\n",
       "2. FALSE\n",
       "3. FALSE\n",
       "\n",
       "\n"
      ],
      "text/plain": [
       "[1] FALSE FALSE FALSE"
      ]
     },
     "metadata": {},
     "output_type": "display_data"
    }
   ],
   "source": [
    "# 检查第一个向量的每个元素是否等于第二个向量的相应元素。\n",
    "a <- c(1, 2, 3)\n",
    "b <- c(4, 5, 6)\n",
    "a == b"
   ]
  },
  {
   "cell_type": "markdown",
   "id": "80dc5600",
   "metadata": {},
   "source": [
    "### 逻辑运算符\n",
    "- 一般适用于逻辑类型的向量\n",
    "- `& | !` ! 为逻辑非运算符。 对于向量的每个元素，给出相反的逻辑值。\n",
    "- 逻辑运算符`&&`和`||`只考虑向量的第一个元素，给出单个元素的向量作为输出"
   ]
  },
  {
   "cell_type": "code",
   "execution_count": 55,
   "id": "3b364dc9",
   "metadata": {},
   "outputs": [
    {
     "data": {
      "text/html": [
       "<style>\n",
       ".list-inline {list-style: none; margin:0; padding: 0}\n",
       ".list-inline>li {display: inline-block}\n",
       ".list-inline>li:not(:last-child)::after {content: \"\\00b7\"; padding: 0 .5ex}\n",
       "</style>\n",
       "<ol class=list-inline><li>FALSE</li><li>TRUE</li><li>TRUE</li></ol>\n"
      ],
      "text/latex": [
       "\\begin{enumerate*}\n",
       "\\item FALSE\n",
       "\\item TRUE\n",
       "\\item TRUE\n",
       "\\end{enumerate*}\n"
      ],
      "text/markdown": [
       "1. FALSE\n",
       "2. TRUE\n",
       "3. TRUE\n",
       "\n",
       "\n"
      ],
      "text/plain": [
       "[1] FALSE  TRUE  TRUE"
      ]
     },
     "metadata": {},
     "output_type": "display_data"
    },
    {
     "name": "stderr",
     "output_type": "stream",
     "text": [
      "Warning message in a && b:\n",
      "“'length(x) = 3 > 1' in coercion to 'logical(1)'”\n",
      "Warning message in a && b:\n",
      "“'length(x) = 3 > 1' in coercion to 'logical(1)'”\n"
     ]
    },
    {
     "data": {
      "text/html": [
       "FALSE"
      ],
      "text/latex": [
       "FALSE"
      ],
      "text/markdown": [
       "FALSE"
      ],
      "text/plain": [
       "[1] FALSE"
      ]
     },
     "metadata": {},
     "output_type": "display_data"
    },
    {
     "name": "stderr",
     "output_type": "stream",
     "text": [
      "Warning message in a || b:\n",
      "“'length(x) = 3 > 1' in coercion to 'logical(1)'”\n"
     ]
    },
    {
     "data": {
      "text/html": [
       "TRUE"
      ],
      "text/latex": [
       "TRUE"
      ],
      "text/markdown": [
       "TRUE"
      ],
      "text/plain": [
       "[1] TRUE"
      ]
     },
     "metadata": {},
     "output_type": "display_data"
    }
   ],
   "source": [
    "a <- c(TRUE, FALSE, FALSE)\n",
    "!a\n",
    "\n",
    "a <- c(TRUE, FALSE, FALSE)\n",
    "b <- c(FALSE, TRUE, FALSE)\n",
    "a && b\n",
    "\n",
    "a <- c(TRUE, FALSE, FALSE)\n",
    "b <- c(FALSE, TRUE, FALSE)\n",
    "a || b"
   ]
  },
  {
   "cell_type": "markdown",
   "id": "cf5b51a1",
   "metadata": {},
   "source": [
    "### 其他运算符\n",
    "- `:`冒号运算符。按顺序创建一个**整数**序列\n",
    "- `%in%` 此运算符用于判断元素是否属于向量\n",
    "- `is.na()`判断是否为缺失值，`R` 里缺失值用`NA`表示，`NA`的意思就是 `not available` 或者 `not applicable`."
   ]
  },
  {
   "cell_type": "code",
   "execution_count": 64,
   "id": "248f1da9",
   "metadata": {},
   "outputs": [
    {
     "data": {
      "text/html": [
       "<style>\n",
       ".list-inline {list-style: none; margin:0; padding: 0}\n",
       ".list-inline>li {display: inline-block}\n",
       ".list-inline>li:not(:last-child)::after {content: \"\\00b7\"; padding: 0 .5ex}\n",
       "</style>\n",
       "<ol class=list-inline><li>1</li><li>2</li><li>3</li><li>4</li><li>5</li><li>6</li><li>7</li><li>8</li><li>9</li><li>10</li></ol>\n"
      ],
      "text/latex": [
       "\\begin{enumerate*}\n",
       "\\item 1\n",
       "\\item 2\n",
       "\\item 3\n",
       "\\item 4\n",
       "\\item 5\n",
       "\\item 6\n",
       "\\item 7\n",
       "\\item 8\n",
       "\\item 9\n",
       "\\item 10\n",
       "\\end{enumerate*}\n"
      ],
      "text/markdown": [
       "1. 1\n",
       "2. 2\n",
       "3. 3\n",
       "4. 4\n",
       "5. 5\n",
       "6. 6\n",
       "7. 7\n",
       "8. 8\n",
       "9. 9\n",
       "10. 10\n",
       "\n",
       "\n"
      ],
      "text/plain": [
       " [1]  1  2  3  4  5  6  7  8  9 10"
      ]
     },
     "metadata": {},
     "output_type": "display_data"
    },
    {
     "data": {
      "text/html": [
       "'integer'"
      ],
      "text/latex": [
       "'integer'"
      ],
      "text/markdown": [
       "'integer'"
      ],
      "text/plain": [
       "[1] \"integer\""
      ]
     },
     "metadata": {},
     "output_type": "display_data"
    },
    {
     "data": {
      "text/html": [
       "<style>\n",
       ".list-inline {list-style: none; margin:0; padding: 0}\n",
       ".list-inline>li {display: inline-block}\n",
       ".list-inline>li:not(:last-child)::after {content: \"\\00b7\"; padding: 0 .5ex}\n",
       "</style>\n",
       "<ol class=list-inline><li>TRUE</li><li>TRUE</li><li>FALSE</li></ol>\n"
      ],
      "text/latex": [
       "\\begin{enumerate*}\n",
       "\\item TRUE\n",
       "\\item TRUE\n",
       "\\item FALSE\n",
       "\\end{enumerate*}\n"
      ],
      "text/markdown": [
       "1. TRUE\n",
       "2. TRUE\n",
       "3. FALSE\n",
       "\n",
       "\n"
      ],
      "text/plain": [
       "[1]  TRUE  TRUE FALSE"
      ]
     },
     "metadata": {},
     "output_type": "display_data"
    },
    {
     "data": {
      "text/html": [
       "<style>\n",
       ".list-inline {list-style: none; margin:0; padding: 0}\n",
       ".list-inline>li {display: inline-block}\n",
       ".list-inline>li:not(:last-child)::after {content: \"\\00b7\"; padding: 0 .5ex}\n",
       "</style>\n",
       "<ol class=list-inline><li>FALSE</li><li>FALSE</li><li>FALSE</li><li>TRUE</li><li>FALSE</li><li>TRUE</li><li>FALSE</li></ol>\n"
      ],
      "text/latex": [
       "\\begin{enumerate*}\n",
       "\\item FALSE\n",
       "\\item FALSE\n",
       "\\item FALSE\n",
       "\\item TRUE\n",
       "\\item FALSE\n",
       "\\item TRUE\n",
       "\\item FALSE\n",
       "\\end{enumerate*}\n"
      ],
      "text/markdown": [
       "1. FALSE\n",
       "2. FALSE\n",
       "3. FALSE\n",
       "4. TRUE\n",
       "5. FALSE\n",
       "6. TRUE\n",
       "7. FALSE\n",
       "\n",
       "\n"
      ],
      "text/plain": [
       "[1] FALSE FALSE FALSE  TRUE FALSE  TRUE FALSE"
      ]
     },
     "metadata": {},
     "output_type": "display_data"
    },
    {
     "data": {
      "text/html": [
       "<style>\n",
       ".list-inline {list-style: none; margin:0; padding: 0}\n",
       ".list-inline>li {display: inline-block}\n",
       ".list-inline>li:not(:last-child)::after {content: \"\\00b7\"; padding: 0 .5ex}\n",
       "</style>\n",
       "<ol class=list-inline><li>TRUE</li><li>TRUE</li><li>FALSE</li><li>TRUE</li><li>FALSE</li><li>TRUE</li></ol>\n"
      ],
      "text/latex": [
       "\\begin{enumerate*}\n",
       "\\item TRUE\n",
       "\\item TRUE\n",
       "\\item FALSE\n",
       "\\item TRUE\n",
       "\\item FALSE\n",
       "\\item TRUE\n",
       "\\end{enumerate*}\n"
      ],
      "text/markdown": [
       "1. TRUE\n",
       "2. TRUE\n",
       "3. FALSE\n",
       "4. TRUE\n",
       "5. FALSE\n",
       "6. TRUE\n",
       "\n",
       "\n"
      ],
      "text/plain": [
       "[1]  TRUE  TRUE FALSE  TRUE FALSE  TRUE"
      ]
     },
     "metadata": {},
     "output_type": "display_data"
    }
   ],
   "source": [
    "# :\n",
    "a <- 1:10\n",
    "a\n",
    "typeof(a)\n",
    "\n",
    "# %in%\n",
    "c(2,3,7) %in% c(1,2,3,4,5)\n",
    "\n",
    "# is.na()\n",
    "is.na(c(1,2,3,NA,4,NA,5))\n",
    "x <- c(1,2,NA,4,NA,6)\n",
    "!is.na(x)"
   ]
  },
  {
   "cell_type": "markdown",
   "id": "4e647d0d",
   "metadata": {},
   "source": [
    "- `seq()`函数也能产生序列\n",
    "- 注意到a是整数类型，而b是双精度的数值型"
   ]
  },
  {
   "cell_type": "code",
   "execution_count": 61,
   "id": "72b18bfa",
   "metadata": {},
   "outputs": [
    {
     "data": {
      "text/html": [
       "<style>\n",
       ".list-inline {list-style: none; margin:0; padding: 0}\n",
       ".list-inline>li {display: inline-block}\n",
       ".list-inline>li:not(:last-child)::after {content: \"\\00b7\"; padding: 0 .5ex}\n",
       "</style>\n",
       "<ol class=list-inline><li>1</li><li>2</li><li>3</li><li>4</li><li>5</li><li>6</li><li>7</li><li>8</li><li>9</li><li>10</li></ol>\n"
      ],
      "text/latex": [
       "\\begin{enumerate*}\n",
       "\\item 1\n",
       "\\item 2\n",
       "\\item 3\n",
       "\\item 4\n",
       "\\item 5\n",
       "\\item 6\n",
       "\\item 7\n",
       "\\item 8\n",
       "\\item 9\n",
       "\\item 10\n",
       "\\end{enumerate*}\n"
      ],
      "text/markdown": [
       "1. 1\n",
       "2. 2\n",
       "3. 3\n",
       "4. 4\n",
       "5. 5\n",
       "6. 6\n",
       "7. 7\n",
       "8. 8\n",
       "9. 9\n",
       "10. 10\n",
       "\n",
       "\n"
      ],
      "text/plain": [
       " [1]  1  2  3  4  5  6  7  8  9 10"
      ]
     },
     "metadata": {},
     "output_type": "display_data"
    },
    {
     "data": {
      "text/html": [
       "'integer'"
      ],
      "text/latex": [
       "'integer'"
      ],
      "text/markdown": [
       "'integer'"
      ],
      "text/plain": [
       "[1] \"integer\""
      ]
     },
     "metadata": {},
     "output_type": "display_data"
    }
   ],
   "source": [
    "b <- seq(1,10,1)\n",
    "b\n",
    "typeof(b)"
   ]
  },
  {
   "cell_type": "markdown",
   "id": "14d09e16",
   "metadata": {},
   "source": [
    "### 特殊值\n",
    "- R 语言里还有一些特殊的值: `Inf, NaN, NA 和 NULL`\n",
    "- `Inf`, 是Infinity的简写，表示无限大；`-Inf`表示无限小\n",
    "- `NaN`, 是Not a Number的简写，表示这个数字没有数学定义\n",
    "- `NA`, 是Not available的简写，表示缺失状态\n",
    "- `NULL`, 是No value的意思，表示没有值，或者空值的意思，表示变量实际上没有任何值，或者甚至不存在。"
   ]
  },
  {
   "cell_type": "code",
   "execution_count": 71,
   "id": "4e078920",
   "metadata": {},
   "outputs": [
    {
     "data": {
      "text/html": [
       "Inf"
      ],
      "text/latex": [
       "Inf"
      ],
      "text/markdown": [
       "Inf"
      ],
      "text/plain": [
       "[1] Inf"
      ]
     },
     "metadata": {},
     "output_type": "display_data"
    },
    {
     "data": {
      "text/html": [
       "-Inf"
      ],
      "text/latex": [
       "-Inf"
      ],
      "text/markdown": [
       "-Inf"
      ],
      "text/plain": [
       "[1] -Inf"
      ]
     },
     "metadata": {},
     "output_type": "display_data"
    },
    {
     "data": {
      "text/html": [
       "NaN"
      ],
      "text/latex": [
       "NaN"
      ],
      "text/markdown": [
       "NaN"
      ],
      "text/plain": [
       "[1] NaN"
      ]
     },
     "metadata": {},
     "output_type": "display_data"
    },
    {
     "data": {
      "text/plain": [
       "NULL"
      ]
     },
     "metadata": {},
     "output_type": "display_data"
    },
    {
     "data": {
      "text/html": [
       "<style>\n",
       ".list-inline {list-style: none; margin:0; padding: 0}\n",
       ".list-inline>li {display: inline-block}\n",
       ".list-inline>li:not(:last-child)::after {content: \"\\00b7\"; padding: 0 .5ex}\n",
       "</style>\n",
       "<ol class=list-inline><li>1</li><li>&lt;NA&gt;</li><li>3</li></ol>\n"
      ],
      "text/latex": [
       "\\begin{enumerate*}\n",
       "\\item 1\n",
       "\\item <NA>\n",
       "\\item 3\n",
       "\\end{enumerate*}\n"
      ],
      "text/markdown": [
       "1. 1\n",
       "2. &lt;NA&gt;\n",
       "3. 3\n",
       "\n",
       "\n"
      ],
      "text/plain": [
       "[1]  1 NA  3"
      ]
     },
     "metadata": {},
     "output_type": "display_data"
    }
   ],
   "source": [
    "# Inf\n",
    "1/0\n",
    "-1/0\n",
    "\n",
    "# NaN\n",
    "0/0\n",
    "\n",
    "# NULL\n",
    "c( )\n",
    "\n",
    "# NA\n",
    "c(1,NA,3)"
   ]
  },
  {
   "cell_type": "code",
   "execution_count": 72,
   "id": "95d2b3bf",
   "metadata": {},
   "outputs": [
    {
     "data": {
      "text/html": [
       "FALSE"
      ],
      "text/latex": [
       "FALSE"
      ],
      "text/markdown": [
       "FALSE"
      ],
      "text/plain": [
       "[1] FALSE"
      ]
     },
     "metadata": {},
     "output_type": "display_data"
    }
   ],
   "source": [
    "a <- 1:10\n",
    "b <- seq(1,10,1)\n",
    "\n",
    "identical(a,b)"
   ]
  },
  {
   "cell_type": "markdown",
   "id": "d76e2f5e",
   "metadata": {},
   "source": [
    "## 函数\n",
    "### 基础函数\n",
    "- `print()`     打印\n",
    "- `sqrt()`    求开方\n",
    "- `sd()`  标准差函数\n",
    "- `log()`      求自然对数\n",
    "- `sum()`      求和\n",
    "- `mean()`     求平均值\n",
    "- `min()`      最小值\n",
    "- `max()`      最大值\n",
    "- `length()`    计算向量个数\n",
    "- `sort()`     排序\n",
    "- `nique()`    去重\n",
    "- `quantile()`   求分位数\n",
    "- `is.numeric()` 判断是否为数值型\n",
    "- `is.character()` 判断是否为字符串型\n",
    "- `as.character()` 转为字符串型"
   ]
  },
  {
   "attachments": {
    "image.png": {
     "image/png": "[encoded data removed]"
    }
   },
   "cell_type": "markdown",
   "id": "7d89b0cd",
   "metadata": {},
   "source": [
    "### 向量的函数\n",
    "- 用在向量上的函数，可以分为向量化函数(vectorized function)和汇总类函数(summary function)\n",
    "- ![image.png](attachment:image.png)\n",
    "- 这两类函数在`Tidyverse`框架中，应用非常广泛。\n",
    "- 当然，也会有例外，比如`unique()`函数，它返回的向量通常不会与输入的向量等长，既不属于向量化函数，也不属于汇总类函数。"
   ]
  },
  {
   "cell_type": "code",
   "execution_count": 76,
   "id": "cef52a29",
   "metadata": {},
   "outputs": [
    {
     "data": {
      "text/html": [
       "<style>\n",
       ".list-inline {list-style: none; margin:0; padding: 0}\n",
       ".list-inline>li {display: inline-block}\n",
       ".list-inline>li:not(:last-child)::after {content: \"\\00b7\"; padding: 0 .5ex}\n",
       "</style>\n",
       "<ol class=list-inline><li>9</li><li>54</li><li>69</li><li>86</li><li>14</li></ol>\n"
      ],
      "text/latex": [
       "\\begin{enumerate*}\n",
       "\\item 9\n",
       "\\item 54\n",
       "\\item 69\n",
       "\\item 86\n",
       "\\item 14\n",
       "\\end{enumerate*}\n"
      ],
      "text/markdown": [
       "1. 9\n",
       "2. 54\n",
       "3. 69\n",
       "4. 86\n",
       "5. 14\n",
       "\n",
       "\n"
      ],
      "text/plain": [
       "[1]  9 54 69 86 14"
      ]
     },
     "metadata": {},
     "output_type": "display_data"
    },
    {
     "data": {
      "text/html": [
       "<style>\n",
       ".list-inline {list-style: none; margin:0; padding: 0}\n",
       ".list-inline>li {display: inline-block}\n",
       ".list-inline>li:not(:last-child)::after {content: \"\\00b7\"; padding: 0 .5ex}\n",
       "</style>\n",
       "<ol class=list-inline><li>2</li><li>3</li><li>7</li><li>8</li><li>9</li></ol>\n"
      ],
      "text/latex": [
       "\\begin{enumerate*}\n",
       "\\item 2\n",
       "\\item 3\n",
       "\\item 7\n",
       "\\item 8\n",
       "\\item 9\n",
       "\\end{enumerate*}\n"
      ],
      "text/markdown": [
       "1. 2\n",
       "2. 3\n",
       "3. 7\n",
       "4. 8\n",
       "5. 9\n",
       "\n",
       "\n"
      ],
      "text/plain": [
       "[1] 2 3 7 8 9"
      ]
     },
     "metadata": {},
     "output_type": "display_data"
    },
    {
     "data": {
      "text/html": [
       "<style>\n",
       ".list-inline {list-style: none; margin:0; padding: 0}\n",
       ".list-inline>li {display: inline-block}\n",
       ".list-inline>li:not(:last-child)::after {content: \"\\00b7\"; padding: 0 .5ex}\n",
       "</style>\n",
       "<ol class=list-inline><li>-3.8</li><li>1.2</li><li>2.2</li><li>3.2</li><li>-2.8</li></ol>\n"
      ],
      "text/latex": [
       "\\begin{enumerate*}\n",
       "\\item -3.8\n",
       "\\item 1.2\n",
       "\\item 2.2\n",
       "\\item 3.2\n",
       "\\item -2.8\n",
       "\\end{enumerate*}\n"
      ],
      "text/markdown": [
       "1. -3.8\n",
       "2. 1.2\n",
       "3. 2.2\n",
       "4. 3.2\n",
       "5. -2.8\n",
       "\n",
       "\n"
      ],
      "text/plain": [
       "[1] -3.8  1.2  2.2  3.2 -2.8"
      ]
     },
     "metadata": {},
     "output_type": "display_data"
    },
    {
     "data": {
      "text/html": [
       "<style>\n",
       ".list-inline {list-style: none; margin:0; padding: 0}\n",
       ".list-inline>li {display: inline-block}\n",
       ".list-inline>li:not(:last-child)::after {content: \"\\00b7\"; padding: 0 .5ex}\n",
       "</style>\n",
       "<ol class=list-inline><li>-1.22010646822908</li><li>0.385296779440761</li><li>0.706377428974729</li><li>1.0274580785087</li><li>-0.89902581869511</li></ol>\n"
      ],
      "text/latex": [
       "\\begin{enumerate*}\n",
       "\\item -1.22010646822908\n",
       "\\item 0.385296779440761\n",
       "\\item 0.706377428974729\n",
       "\\item 1.0274580785087\n",
       "\\item -0.89902581869511\n",
       "\\end{enumerate*}\n"
      ],
      "text/markdown": [
       "1. -1.22010646822908\n",
       "2. 0.385296779440761\n",
       "3. 0.706377428974729\n",
       "4. 1.0274580785087\n",
       "5. -0.89902581869511\n",
       "\n",
       "\n"
      ],
      "text/plain": [
       "[1] -1.2201065  0.3852968  0.7063774  1.0274581 -0.8990258"
      ]
     },
     "metadata": {},
     "output_type": "display_data"
    }
   ],
   "source": [
    "x <- c(2,7,8,9,3)\n",
    "x^2 + 5\n",
    "\n",
    "sort(x)\n",
    "\n",
    "x - mean(x)\n",
    "\n",
    "# 向量标准化（向量减去其均值之后，除以标准差）\n",
    "(x -mean(x))/sd(x)"
   ]
  },
  {
   "cell_type": "markdown",
   "id": "9adcce5e",
   "metadata": {},
   "source": [
    "### 自定义函数\n",
    "- **创建**，由`function(...)`创建一个函数\n",
    "- **参数**，由`(...)`里指定参数，比如`function(x)`中的参数为 `x`\n",
    "- **函数主体**，一般情况下，在`function(...)`后跟随一对大括号`{ }`，在大括号里声明具体函数功能，在代码最后一行，可以用`return`返回计算后的值。当然，如果函数的目的只是返回最后一行代码计算的值，这个`return`可以省略。\n",
    "- **函数名**，`function() { }`赋值给新对象，比如这里的`my_std`，相当于给函数取一名字，方便以后使用。\n",
    "- **函数调用**，现在这个函数名字叫`my_std`，需要用这个函数的时候，就调用它的名字`my_std()`。\n",
    "\n",
    "和`python`的`def`创建的函数差不多，创建形式不同，但应用方式一样，元素差不多"
   ]
  },
  {
   "cell_type": "code",
   "execution_count": 79,
   "id": "3ab4d86e",
   "metadata": {},
   "outputs": [
    {
     "data": {
      "text/html": [
       "<style>\n",
       ".list-inline {list-style: none; margin:0; padding: 0}\n",
       ".list-inline>li {display: inline-block}\n",
       ".list-inline>li:not(:last-child)::after {content: \"\\00b7\"; padding: 0 .5ex}\n",
       "</style>\n",
       "<ol class=list-inline><li>-1.22010646822908</li><li>0.385296779440761</li><li>0.706377428974729</li><li>1.0274580785087</li><li>-0.89902581869511</li></ol>\n"
      ],
      "text/latex": [
       "\\begin{enumerate*}\n",
       "\\item -1.22010646822908\n",
       "\\item 0.385296779440761\n",
       "\\item 0.706377428974729\n",
       "\\item 1.0274580785087\n",
       "\\item -0.89902581869511\n",
       "\\end{enumerate*}\n"
      ],
      "text/markdown": [
       "1. -1.22010646822908\n",
       "2. 0.385296779440761\n",
       "3. 0.706377428974729\n",
       "4. 1.0274580785087\n",
       "5. -0.89902581869511\n",
       "\n",
       "\n"
      ],
      "text/plain": [
       "[1] -1.2201065  0.3852968  0.7063774  1.0274581 -0.8990258"
      ]
     },
     "metadata": {},
     "output_type": "display_data"
    }
   ],
   "source": [
    "y <- c(2,7,8,9,3)\n",
    "\n",
    "my_std <- function(x){\n",
    "    (x - mean(x)) / sd(x)\n",
    "}\n",
    "\n",
    "my_std(y)"
   ]
  },
  {
   "attachments": {
    "image.png": {
     "image/png": "[encoded data removed]"
    }
   },
   "cell_type": "markdown",
   "id": "a3c1726a",
   "metadata": {},
   "source": [
    "- ![image.png](attachment:image.png)"
   ]
  },
  {
   "cell_type": "code",
   "execution_count": 81,
   "id": "acb03440",
   "metadata": {},
   "outputs": [],
   "source": [
    "rescale <- function(x){\n",
    "    (x - min(x)) / (max(x) - min(x))\n",
    "}"
   ]
  },
  {
   "cell_type": "markdown",
   "id": "9a39ced6",
   "metadata": {},
   "source": [
    "### 使用宏包的函数\n",
    "#### 安装宏包与使用宏包\n",
    "- 安装宏包 `install.packages(\"dplyr\")`，也就是说宏包就是别人已经写好了的函数的集合\n",
    "- 加载 `library(\"dplyr\")`，和python中的`import pandas`一样的效果‘pandas’为包\n",
    "#### 指定函数的所属宏包\n",
    "- 其它宏包可能也有`select()`函数，比如`MASS`和`skimr`，如果同时加载了`dplyr`，`MASS`和`skimr`三个宏包，在程序中使用`select()`函数，就会造成混淆和报错。\n",
    "- 这个时候就需要给每个函数指定是来源哪个宏包，具体方法就是在宏包和函数之间添加::，\n",
    "- 比如`dplyr::select()`，`skimr::select()` 或者`MASS::select()`。"
   ]
  },
  {
   "cell_type": "markdown",
   "id": "4b4ac114",
   "metadata": {},
   "source": [
    "### 获取帮助"
   ]
  },
  {
   "cell_type": "code",
   "execution_count": 84,
   "id": "fd83004a",
   "metadata": {},
   "outputs": [],
   "source": [
    "?sqrt()\n",
    "?scale()"
   ]
  },
  {
   "cell_type": "code",
   "execution_count": 97,
   "id": "5b1903f6",
   "metadata": {},
   "outputs": [
    {
     "data": {
      "text/html": [
       "10"
      ],
      "text/latex": [
       "10"
      ],
      "text/markdown": [
       "10"
      ],
      "text/plain": [
       "[1] 10"
      ]
     },
     "metadata": {},
     "output_type": "display_data"
    },
    {
     "data": {
      "text/html": [
       "10"
      ],
      "text/latex": [
       "10"
      ],
      "text/markdown": [
       "10"
      ],
      "text/plain": [
       "[1] 10"
      ]
     },
     "metadata": {},
     "output_type": "display_data"
    }
   ],
   "source": [
    "get_var <- function(x){\n",
    "    n <- length(x)\n",
    "    y <- mean(x)\n",
    "    var2 <- sum((x - y)^2) / (n - 1)\n",
    "    return(var2)\n",
    "}\n",
    "\n",
    "var(c(2,4,6,8,10))\n",
    "get_var(c(2,4,6,8,10))"
   ]
  },
  {
   "cell_type": "code",
   "execution_count": 91,
   "id": "c13cd5f6",
   "metadata": {},
   "outputs": [
    {
     "data": {
      "text/html": [
       "0.00238751147842057"
      ],
      "text/latex": [
       "0.00238751147842057"
      ],
      "text/markdown": [
       "0.00238751147842057"
      ],
      "text/plain": [
       "[1] 0.002387511"
      ]
     },
     "metadata": {},
     "output_type": "display_data"
    }
   ],
   "source": [
    "get_bmi <- function(height, weight){\n",
    "    weight / height^2\n",
    "}\n",
    "get_bmi(165, 65)"
   ]
  },
  {
   "cell_type": "code",
   "execution_count": 108,
   "id": "64c10e1f",
   "metadata": {},
   "outputs": [
    {
     "data": {
      "text/html": [
       "'NA'"
      ],
      "text/latex": [
       "'NA'"
      ],
      "text/markdown": [
       "'NA'"
      ],
      "text/plain": [
       "[1] \"NA\""
      ]
     },
     "metadata": {},
     "output_type": "display_data"
    }
   ],
   "source": [
    "mean_above_threshod <- function(vector, threshod){\n",
    "    upthreshod <- vector[vector > threshod]\n",
    "    if(length(upthreshod) == 0){\n",
    "        return(\"NA\")\n",
    "    }else{return(mean(upthreshod))\n",
    "         }\n",
    "}\n",
    "\n",
    "vector <- c(2,3,4,5,6)\n",
    "threshod <- 6\n",
    "mean_above_threshod(vector, threshod)"
   ]
  },
  {
   "cell_type": "markdown",
   "id": "dc7be121",
   "metadata": {},
   "source": [
    "## 函数应用\n",
    "### 灵活的语法\n",
    "- R语言中，完成一件事情往往有很多种方法\n",
    "\n",
    "### 多个参数\n",
    "\n",
    "### 条件语句\n",
    "- `if-else`语句\n",
    "  - `if(condition){\n",
    "   Do something\n",
    "} else{\n",
    "    Alternative something\n",
    "}`\n",
    "\n",
    "### 返回多个结果\n",
    "- 如果要返回多个统计结果，可以把结果先放在`list`或者`data.frame`中，然后再返回\n",
    "\n",
    "### 函数默认值\n",
    "- `function(multi = 10)`这样的表达式"
   ]
  },
  {
   "cell_type": "code",
   "execution_count": 109,
   "id": "0ea283eb",
   "metadata": {},
   "outputs": [],
   "source": [
    "### 灵活的语法\n",
    "mysquare <- function(x){\n",
    "    y <- x^2\n",
    "    return(y)\n",
    "}\n",
    "\n",
    "mysquare2 <- function(x){\n",
    "    return(x^2)\n",
    "}\n",
    "\n",
    "mysquare3 <- function(x){ return(x^2) }\n",
    "\n",
    "mysquare4 <- function(x) return(x^2)\n",
    "\n",
    "mysquare5 <- function(x){\n",
    "    x^2\n",
    "}\n",
    "\n",
    "mysquare6 <- function(x) x^2"
   ]
  },
  {
   "cell_type": "code",
   "execution_count": 111,
   "id": "64b1d30a",
   "metadata": {},
   "outputs": [
    {
     "data": {
      "text/html": [
       "3"
      ],
      "text/latex": [
       "3"
      ],
      "text/markdown": [
       "3"
      ],
      "text/plain": [
       "[1] 3"
      ]
     },
     "metadata": {},
     "output_type": "display_data"
    },
    {
     "data": {
      "text/html": [
       "3"
      ],
      "text/latex": [
       "3"
      ],
      "text/markdown": [
       "3"
      ],
      "text/plain": [
       "[1] 3"
      ]
     },
     "metadata": {},
     "output_type": "display_data"
    }
   ],
   "source": [
    "### 多个参数\n",
    "sum_two <- function(num1, num2){\n",
    "    sum <- num1 + num2\n",
    "    return(sum)\n",
    "}\n",
    "sum_two(num1 = 1, num2 = 2)\n",
    "sum_two(1, 2)"
   ]
  },
  {
   "cell_type": "code",
   "execution_count": 114,
   "id": "71ba20ff",
   "metadata": {},
   "outputs": [
    {
     "data": {
      "text/html": [
       "'Your input is not numeric.'"
      ],
      "text/latex": [
       "'Your input is not numeric.'"
      ],
      "text/markdown": [
       "'Your input is not numeric.'"
      ],
      "text/plain": [
       "[1] \"Your input is not numeric.\""
      ]
     },
     "metadata": {},
     "output_type": "display_data"
    },
    {
     "data": {
      "text/html": [
       "9"
      ],
      "text/latex": [
       "9"
      ],
      "text/markdown": [
       "9"
      ],
      "text/plain": [
       "[1] 9"
      ]
     },
     "metadata": {},
     "output_type": "display_data"
    }
   ],
   "source": [
    "### 条件语句\n",
    "square_if <- function(num){\n",
    "    if (is.numeric(num)){\n",
    "        num^2\n",
    "    } else{\n",
    "        \"Your input is not numeric.\"\n",
    "    }\n",
    "}\n",
    "\n",
    "square_if(\"a\")\n",
    "square_if(3)"
   ]
  },
  {
   "cell_type": "code",
   "execution_count": 119,
   "id": "dca917c0",
   "metadata": {},
   "outputs": [
    {
     "data": {
      "text/html": [
       "3"
      ],
      "text/latex": [
       "3"
      ],
      "text/markdown": [
       "3"
      ],
      "text/plain": [
       "[1] 3"
      ]
     },
     "metadata": {},
     "output_type": "display_data"
    },
    {
     "name": "stdout",
     "output_type": "stream",
     "text": [
      "[1] \"Your input is not numeric.\"\n"
     ]
    }
   ],
   "source": [
    "sum_two <- function(num1, num2){\n",
    "    if(is.numeric(num1) & is.numeric(num2)){\n",
    "        sum <- num1 + num2\n",
    "        return(sum)\n",
    "    } else{\n",
    "        print(\"Your input is not numeric.\")\n",
    "    } \n",
    "}\n",
    "sum_two(1, 2)\n",
    "sum_two(1,\"x\")"
   ]
  },
  {
   "cell_type": "code",
   "execution_count": 124,
   "id": "710f870f",
   "metadata": {},
   "outputs": [
    {
     "name": "stdout",
     "output_type": "stream",
     "text": [
      "[1] \"Zero\"\n"
     ]
    }
   ],
   "source": [
    "### 多个条件\n",
    "check_number <- function(x){\n",
    "    if (x < 0){\n",
    "        print(\"Negative number\")\n",
    "    } else if (x > 0){\n",
    "        print(\"Positive number\")\n",
    "    } else{\n",
    "        print(\"Zero\")\n",
    "    }\n",
    "}\n",
    "\n",
    "x <- 0\n",
    "check_number(x)"
   ]
  },
  {
   "cell_type": "code",
   "execution_count": 126,
   "id": "f294a534",
   "metadata": {},
   "outputs": [],
   "source": [
    "### 返回多个结果\n",
    "mystat <- function(x){\n",
    "    meanval <- mean(x)\n",
    "    sdval <- sd(x)\n",
    "    list(sd=sdval, mean=meanval)\n",
    "}\n",
    "\n",
    "mystat2 <- function(x){\n",
    "    meanval <- mean(x)\n",
    "    sdval <- sd(x)\n",
    "    data.frame(\n",
    "    sd=sdval,\n",
    "    mean=meanval\n",
    "    )\n",
    "}"
   ]
  },
  {
   "cell_type": "markdown",
   "id": "11793a30",
   "metadata": {},
   "source": [
    "## 子集选取\n",
    "-  对象就是我们在计算机里新建了存储空间，好比一个盒子， 我们可以往盒子里面装东西（赋值），可以查看里面的内容或者对里面的内容做计算（函数），也可以从盒子里取出**部分东西**（子集选取）\n",
    "- **子集选取**，就是从盒子里取东西出来\n",
    "\n",
    "\n",
    "### 向量\n",
    "- 对于原子型向量，我们有至少四种选取子集的方法\n",
    "  - 正整数： 指定向量元素中的位置 `x[1]`\n",
    "  - 负整数：删除指定位置的元素 `x[-2]`\n",
    "  - 逻辑向量：将`TRUE`对应位置的元素提取出来`x[x > 3]`\n",
    "  - 我们可以用命名向量，返回其对应位置的向量\n",
    "### 列表\n",
    "- 对列表取子集，和向量的方法一样。向量的子集仍然是向量，使用`[`提取列表的子集，总是返回列表\n",
    "- 如果想提取列表某个元素的值，需要使用`[[`\n",
    "- 取出`one`位置上的元素，需要写`[[\"one\"]]`，太麻烦了，所以用`$`来简写\n",
    "- `x$y` 是 `x[[\"y\"]]`的简写"
   ]
  },
  {
   "cell_type": "code",
   "execution_count": 137,
   "id": "da5d4409",
   "metadata": {},
   "outputs": [
    {
     "data": {
      "text/html": [
       "<dl>\n",
       "\t<dt>$one</dt>\n",
       "\t\t<dd><style>\n",
       ".list-inline {list-style: none; margin:0; padding: 0}\n",
       ".list-inline>li {display: inline-block}\n",
       ".list-inline>li:not(:last-child)::after {content: \"\\00b7\"; padding: 0 .5ex}\n",
       "</style>\n",
       "<ol class=list-inline><li>'a'</li><li>'b'</li><li>'c'</li></ol>\n",
       "</dd>\n",
       "\t<dt>$two</dt>\n",
       "\t\t<dd><style>\n",
       ".list-inline {list-style: none; margin:0; padding: 0}\n",
       ".list-inline>li {display: inline-block}\n",
       ".list-inline>li:not(:last-child)::after {content: \"\\00b7\"; padding: 0 .5ex}\n",
       "</style>\n",
       "<ol class=list-inline><li>1</li><li>2</li><li>3</li><li>4</li><li>5</li></ol>\n",
       "</dd>\n",
       "\t<dt>$three</dt>\n",
       "\t\t<dd><style>\n",
       ".list-inline {list-style: none; margin:0; padding: 0}\n",
       ".list-inline>li {display: inline-block}\n",
       ".list-inline>li:not(:last-child)::after {content: \"\\00b7\"; padding: 0 .5ex}\n",
       "</style>\n",
       "<ol class=list-inline><li>TRUE</li><li>FALSE</li></ol>\n",
       "</dd>\n",
       "</dl>\n"
      ],
      "text/latex": [
       "\\begin{description}\n",
       "\\item[\\$one] \\begin{enumerate*}\n",
       "\\item 'a'\n",
       "\\item 'b'\n",
       "\\item 'c'\n",
       "\\end{enumerate*}\n",
       "\n",
       "\\item[\\$two] \\begin{enumerate*}\n",
       "\\item 1\n",
       "\\item 2\n",
       "\\item 3\n",
       "\\item 4\n",
       "\\item 5\n",
       "\\end{enumerate*}\n",
       "\n",
       "\\item[\\$three] \\begin{enumerate*}\n",
       "\\item TRUE\n",
       "\\item FALSE\n",
       "\\end{enumerate*}\n",
       "\n",
       "\\end{description}\n"
      ],
      "text/markdown": [
       "$one\n",
       ":   1. 'a'\n",
       "2. 'b'\n",
       "3. 'c'\n",
       "\n",
       "\n",
       "\n",
       "$two\n",
       ":   1. 1\n",
       "2. 2\n",
       "3. 3\n",
       "4. 4\n",
       "5. 5\n",
       "\n",
       "\n",
       "\n",
       "$three\n",
       ":   1. TRUE\n",
       "2. FALSE\n",
       "\n",
       "\n",
       "\n",
       "\n",
       "\n"
      ],
      "text/plain": [
       "$one\n",
       "[1] \"a\" \"b\" \"c\"\n",
       "\n",
       "$two\n",
       "[1] 1 2 3 4 5\n",
       "\n",
       "$three\n",
       "[1]  TRUE FALSE\n"
      ]
     },
     "metadata": {},
     "output_type": "display_data"
    },
    {
     "data": {
      "text/html": [
       "<strong>$one</strong> = <style>\n",
       ".list-inline {list-style: none; margin:0; padding: 0}\n",
       ".list-inline>li {display: inline-block}\n",
       ".list-inline>li:not(:last-child)::after {content: \"\\00b7\"; padding: 0 .5ex}\n",
       "</style>\n",
       "<ol class=list-inline><li>'a'</li><li>'b'</li><li>'c'</li></ol>\n"
      ],
      "text/latex": [
       "\\textbf{\\$one} = \\begin{enumerate*}\n",
       "\\item 'a'\n",
       "\\item 'b'\n",
       "\\item 'c'\n",
       "\\end{enumerate*}\n"
      ],
      "text/markdown": [
       "**$one** = 1. 'a'\n",
       "2. 'b'\n",
       "3. 'c'\n",
       "\n",
       "\n"
      ],
      "text/plain": [
       "$one\n",
       "[1] \"a\" \"b\" \"c\"\n"
      ]
     },
     "metadata": {},
     "output_type": "display_data"
    },
    {
     "data": {
      "text/html": [
       "<strong>$one</strong> = <style>\n",
       ".list-inline {list-style: none; margin:0; padding: 0}\n",
       ".list-inline>li {display: inline-block}\n",
       ".list-inline>li:not(:last-child)::after {content: \"\\00b7\"; padding: 0 .5ex}\n",
       "</style>\n",
       "<ol class=list-inline><li>'a'</li><li>'b'</li><li>'c'</li></ol>\n"
      ],
      "text/latex": [
       "\\textbf{\\$one} = \\begin{enumerate*}\n",
       "\\item 'a'\n",
       "\\item 'b'\n",
       "\\item 'c'\n",
       "\\end{enumerate*}\n"
      ],
      "text/markdown": [
       "**$one** = 1. 'a'\n",
       "2. 'b'\n",
       "3. 'c'\n",
       "\n",
       "\n"
      ],
      "text/plain": [
       "$one\n",
       "[1] \"a\" \"b\" \"c\"\n"
      ]
     },
     "metadata": {},
     "output_type": "display_data"
    },
    {
     "data": {
      "text/html": [
       "<style>\n",
       ".list-inline {list-style: none; margin:0; padding: 0}\n",
       ".list-inline>li {display: inline-block}\n",
       ".list-inline>li:not(:last-child)::after {content: \"\\00b7\"; padding: 0 .5ex}\n",
       "</style>\n",
       "<ol class=list-inline><li>'a'</li><li>'b'</li><li>'c'</li></ol>\n"
      ],
      "text/latex": [
       "\\begin{enumerate*}\n",
       "\\item 'a'\n",
       "\\item 'b'\n",
       "\\item 'c'\n",
       "\\end{enumerate*}\n"
      ],
      "text/markdown": [
       "1. 'a'\n",
       "2. 'b'\n",
       "3. 'c'\n",
       "\n",
       "\n"
      ],
      "text/plain": [
       "[1] \"a\" \"b\" \"c\""
      ]
     },
     "metadata": {},
     "output_type": "display_data"
    },
    {
     "data": {
      "text/html": [
       "<style>\n",
       ".list-inline {list-style: none; margin:0; padding: 0}\n",
       ".list-inline>li {display: inline-block}\n",
       ".list-inline>li:not(:last-child)::after {content: \"\\00b7\"; padding: 0 .5ex}\n",
       "</style>\n",
       "<ol class=list-inline><li>'a'</li><li>'b'</li><li>'c'</li></ol>\n"
      ],
      "text/latex": [
       "\\begin{enumerate*}\n",
       "\\item 'a'\n",
       "\\item 'b'\n",
       "\\item 'c'\n",
       "\\end{enumerate*}\n"
      ],
      "text/markdown": [
       "1. 'a'\n",
       "2. 'b'\n",
       "3. 'c'\n",
       "\n",
       "\n"
      ],
      "text/plain": [
       "[1] \"a\" \"b\" \"c\""
      ]
     },
     "metadata": {},
     "output_type": "display_data"
    }
   ],
   "source": [
    "l <- list(\n",
    "\"one\" = c(\"a\", \"b\", \"c\"),\n",
    "\"two\"   = c(1:5),\n",
    "\"three\" = c(TRUE, FALSE)\n",
    ")\n",
    "l \n",
    "l[1]       # 使用位置索引\n",
    "l[\"one\"]   # 使用元素名\n",
    "l[[1]]     # 提取列表某个元素的值\n",
    "l$one"
   ]
  },
  {
   "cell_type": "markdown",
   "id": "a089a0cf",
   "metadata": {},
   "source": [
    "### 矩阵\n",
    "- `x[a,b]`用于选取，`a`为行方向，`b`为列方向\n",
    "- `x[a, ]`,表示列方向选取所有列，反之\n",
    "- `x[, ]` `x[]`，表示取整个矩阵"
   ]
  },
  {
   "cell_type": "code",
   "execution_count": 144,
   "id": "2a691774",
   "metadata": {},
   "outputs": [
    {
     "data": {
      "text/html": [
       "<table class=\"dataframe\">\n",
       "<caption>A matrix: 3 × 3 of type int</caption>\n",
       "<tbody>\n",
       "\t<tr><td>1</td><td>2</td><td>3</td></tr>\n",
       "\t<tr><td>4</td><td>5</td><td>6</td></tr>\n",
       "\t<tr><td>7</td><td>8</td><td>9</td></tr>\n",
       "</tbody>\n",
       "</table>\n"
      ],
      "text/latex": [
       "A matrix: 3 × 3 of type int\n",
       "\\begin{tabular}{lll}\n",
       "\t 1 & 2 & 3\\\\\n",
       "\t 4 & 5 & 6\\\\\n",
       "\t 7 & 8 & 9\\\\\n",
       "\\end{tabular}\n"
      ],
      "text/markdown": [
       "\n",
       "A matrix: 3 × 3 of type int\n",
       "\n",
       "| 1 | 2 | 3 |\n",
       "| 4 | 5 | 6 |\n",
       "| 7 | 8 | 9 |\n",
       "\n"
      ],
      "text/plain": [
       "     [,1] [,2] [,3]\n",
       "[1,] 1    2    3   \n",
       "[2,] 4    5    6   \n",
       "[3,] 7    8    9   "
      ]
     },
     "metadata": {},
     "output_type": "display_data"
    },
    {
     "data": {
      "text/html": [
       "<table class=\"dataframe\">\n",
       "<caption>A matrix: 2 × 2 of type int</caption>\n",
       "<tbody>\n",
       "\t<tr><td>2</td><td>3</td></tr>\n",
       "\t<tr><td>5</td><td>6</td></tr>\n",
       "</tbody>\n",
       "</table>\n"
      ],
      "text/latex": [
       "A matrix: 2 × 2 of type int\n",
       "\\begin{tabular}{ll}\n",
       "\t 2 & 3\\\\\n",
       "\t 5 & 6\\\\\n",
       "\\end{tabular}\n"
      ],
      "text/markdown": [
       "\n",
       "A matrix: 2 × 2 of type int\n",
       "\n",
       "| 2 | 3 |\n",
       "| 5 | 6 |\n",
       "\n"
      ],
      "text/plain": [
       "     [,1] [,2]\n",
       "[1,] 2    3   \n",
       "[2,] 5    6   "
      ]
     },
     "metadata": {},
     "output_type": "display_data"
    },
    {
     "data": {
      "text/html": [
       "<style>\n",
       ".list-inline {list-style: none; margin:0; padding: 0}\n",
       ".list-inline>li {display: inline-block}\n",
       ".list-inline>li:not(:last-child)::after {content: \"\\00b7\"; padding: 0 .5ex}\n",
       "</style>\n",
       "<ol class=list-inline><li>1</li><li>2</li></ol>\n"
      ],
      "text/latex": [
       "\\begin{enumerate*}\n",
       "\\item 1\n",
       "\\item 2\n",
       "\\end{enumerate*}\n"
      ],
      "text/markdown": [
       "1. 1\n",
       "2. 2\n",
       "\n",
       "\n"
      ],
      "text/plain": [
       "[1] 1 2"
      ]
     },
     "metadata": {},
     "output_type": "display_data"
    },
    {
     "data": {
      "text/html": [
       "<table class=\"dataframe\">\n",
       "<caption>A matrix: 2 × 3 of type int</caption>\n",
       "<tbody>\n",
       "\t<tr><td>1</td><td>2</td><td>3</td></tr>\n",
       "\t<tr><td>4</td><td>5</td><td>6</td></tr>\n",
       "</tbody>\n",
       "</table>\n"
      ],
      "text/latex": [
       "A matrix: 2 × 3 of type int\n",
       "\\begin{tabular}{lll}\n",
       "\t 1 & 2 & 3\\\\\n",
       "\t 4 & 5 & 6\\\\\n",
       "\\end{tabular}\n"
      ],
      "text/markdown": [
       "\n",
       "A matrix: 2 × 3 of type int\n",
       "\n",
       "| 1 | 2 | 3 |\n",
       "| 4 | 5 | 6 |\n",
       "\n"
      ],
      "text/plain": [
       "     [,1] [,2] [,3]\n",
       "[1,] 1    2    3   \n",
       "[2,] 4    5    6   "
      ]
     },
     "metadata": {},
     "output_type": "display_data"
    },
    {
     "data": {
      "text/html": [
       "<table class=\"dataframe\">\n",
       "<caption>A matrix: 3 × 3 of type int</caption>\n",
       "<tbody>\n",
       "\t<tr><td>1</td><td>2</td><td>3</td></tr>\n",
       "\t<tr><td>4</td><td>5</td><td>6</td></tr>\n",
       "\t<tr><td>7</td><td>8</td><td>9</td></tr>\n",
       "</tbody>\n",
       "</table>\n"
      ],
      "text/latex": [
       "A matrix: 3 × 3 of type int\n",
       "\\begin{tabular}{lll}\n",
       "\t 1 & 2 & 3\\\\\n",
       "\t 4 & 5 & 6\\\\\n",
       "\t 7 & 8 & 9\\\\\n",
       "\\end{tabular}\n"
      ],
      "text/markdown": [
       "\n",
       "A matrix: 3 × 3 of type int\n",
       "\n",
       "| 1 | 2 | 3 |\n",
       "| 4 | 5 | 6 |\n",
       "| 7 | 8 | 9 |\n",
       "\n"
      ],
      "text/plain": [
       "     [,1] [,2] [,3]\n",
       "[1,] 1    2    3   \n",
       "[2,] 4    5    6   \n",
       "[3,] 7    8    9   "
      ]
     },
     "metadata": {},
     "output_type": "display_data"
    }
   ],
   "source": [
    "a <- matrix(1:9, nrow=3, byrow=TRUE)\n",
    "a\n",
    "\n",
    "a[1:2, 2:3] # 我们取第1行到第2行的2-3列\n",
    "a[1, 1:2]   # 默认情况下, [ 会将获取的数据，以尽可能低的维度形式呈现\n",
    "a[1:2, ]   # 列方向，选取所有列\n",
    "a[]"
   ]
  },
  {
   "cell_type": "markdown",
   "id": "04cf8106",
   "metadata": {},
   "source": [
    "### 数据框\n",
    "- 数据框具有`list`和`matrix`的双重属性，因此\n",
    "  - 当选取数据框的某几列的时候，可以和list一样，指定元素位置索引，比如`df[1:2]`选取前两列\n",
    "  - 也可以像矩阵一样，按照行和列的标识选取，比如`df[1:3, ]`选取前三行的所有列\n",
    "  - 当遇到单行或单列的时候，也和矩阵一样，数据会降维\n",
    "  - 如果想避免降维，需要多写一句话`df[, \"x\", drop = FALSE]`"
   ]
  },
  {
   "cell_type": "code",
   "execution_count": 16,
   "id": "009a6add",
   "metadata": {},
   "outputs": [
    {
     "data": {
      "text/html": [
       "<table class=\"dataframe\">\n",
       "<caption>A data.frame: 4 × 3</caption>\n",
       "<thead>\n",
       "\t<tr><th scope=col>x</th><th scope=col>y</th><th scope=col>z</th></tr>\n",
       "\t<tr><th scope=col>&lt;int&gt;</th><th scope=col>&lt;int&gt;</th><th scope=col>&lt;chr&gt;</th></tr>\n",
       "</thead>\n",
       "<tbody>\n",
       "\t<tr><td>1</td><td>4</td><td>a</td></tr>\n",
       "\t<tr><td>2</td><td>3</td><td>b</td></tr>\n",
       "\t<tr><td>3</td><td>2</td><td>c</td></tr>\n",
       "\t<tr><td>4</td><td>1</td><td>d</td></tr>\n",
       "</tbody>\n",
       "</table>\n"
      ],
      "text/latex": [
       "A data.frame: 4 × 3\n",
       "\\begin{tabular}{lll}\n",
       " x & y & z\\\\\n",
       " <int> & <int> & <chr>\\\\\n",
       "\\hline\n",
       "\t 1 & 4 & a\\\\\n",
       "\t 2 & 3 & b\\\\\n",
       "\t 3 & 2 & c\\\\\n",
       "\t 4 & 1 & d\\\\\n",
       "\\end{tabular}\n"
      ],
      "text/markdown": [
       "\n",
       "A data.frame: 4 × 3\n",
       "\n",
       "| x &lt;int&gt; | y &lt;int&gt; | z &lt;chr&gt; |\n",
       "|---|---|---|\n",
       "| 1 | 4 | a |\n",
       "| 2 | 3 | b |\n",
       "| 3 | 2 | c |\n",
       "| 4 | 1 | d |\n",
       "\n"
      ],
      "text/plain": [
       "  x y z\n",
       "1 1 4 a\n",
       "2 2 3 b\n",
       "3 3 2 c\n",
       "4 4 1 d"
      ]
     },
     "metadata": {},
     "output_type": "display_data"
    },
    {
     "data": {
      "text/html": [
       "<table class=\"dataframe\">\n",
       "<caption>A data.frame: 4 × 1</caption>\n",
       "<thead>\n",
       "\t<tr><th scope=col>x</th></tr>\n",
       "\t<tr><th scope=col>&lt;int&gt;</th></tr>\n",
       "</thead>\n",
       "<tbody>\n",
       "\t<tr><td>1</td></tr>\n",
       "\t<tr><td>2</td></tr>\n",
       "\t<tr><td>3</td></tr>\n",
       "\t<tr><td>4</td></tr>\n",
       "</tbody>\n",
       "</table>\n"
      ],
      "text/latex": [
       "A data.frame: 4 × 1\n",
       "\\begin{tabular}{l}\n",
       " x\\\\\n",
       " <int>\\\\\n",
       "\\hline\n",
       "\t 1\\\\\n",
       "\t 2\\\\\n",
       "\t 3\\\\\n",
       "\t 4\\\\\n",
       "\\end{tabular}\n"
      ],
      "text/markdown": [
       "\n",
       "A data.frame: 4 × 1\n",
       "\n",
       "| x &lt;int&gt; |\n",
       "|---|\n",
       "| 1 |\n",
       "| 2 |\n",
       "| 3 |\n",
       "| 4 |\n",
       "\n"
      ],
      "text/plain": [
       "  x\n",
       "1 1\n",
       "2 2\n",
       "3 3\n",
       "4 4"
      ]
     },
     "metadata": {},
     "output_type": "display_data"
    }
   ],
   "source": [
    "df <- data.frame(\n",
    "x=1:4,\n",
    "y=4:1,\n",
    "z=c(\"a\", \"b\", \"c\", \"d\")\n",
    ")\n",
    "df\n",
    "df[\"x\"]"
   ]
  },
  {
   "cell_type": "code",
   "execution_count": 2,
   "id": "8a5f279d",
   "metadata": {},
   "outputs": [
    {
     "data": {
      "text/html": [
       "<table class=\"dataframe\">\n",
       "<caption>A data.frame: 4 × 2</caption>\n",
       "<thead>\n",
       "\t<tr><th scope=col>x</th><th scope=col>y</th></tr>\n",
       "\t<tr><th scope=col>&lt;int&gt;</th><th scope=col>&lt;int&gt;</th></tr>\n",
       "</thead>\n",
       "<tbody>\n",
       "\t<tr><td>1</td><td>4</td></tr>\n",
       "\t<tr><td>2</td><td>3</td></tr>\n",
       "\t<tr><td>3</td><td>2</td></tr>\n",
       "\t<tr><td>4</td><td>1</td></tr>\n",
       "</tbody>\n",
       "</table>\n"
      ],
      "text/latex": [
       "A data.frame: 4 × 2\n",
       "\\begin{tabular}{ll}\n",
       " x & y\\\\\n",
       " <int> & <int>\\\\\n",
       "\\hline\n",
       "\t 1 & 4\\\\\n",
       "\t 2 & 3\\\\\n",
       "\t 3 & 2\\\\\n",
       "\t 4 & 1\\\\\n",
       "\\end{tabular}\n"
      ],
      "text/markdown": [
       "\n",
       "A data.frame: 4 × 2\n",
       "\n",
       "| x &lt;int&gt; | y &lt;int&gt; |\n",
       "|---|---|\n",
       "| 1 | 4 |\n",
       "| 2 | 3 |\n",
       "| 3 | 2 |\n",
       "| 4 | 1 |\n",
       "\n"
      ],
      "text/plain": [
       "  x y\n",
       "1 1 4\n",
       "2 2 3\n",
       "3 3 2\n",
       "4 4 1"
      ]
     },
     "metadata": {},
     "output_type": "display_data"
    },
    {
     "data": {
      "text/html": [
       "<style>\n",
       ".list-inline {list-style: none; margin:0; padding: 0}\n",
       ".list-inline>li {display: inline-block}\n",
       ".list-inline>li:not(:last-child)::after {content: \"\\00b7\"; padding: 0 .5ex}\n",
       "</style>\n",
       "<ol class=list-inline><li>1</li><li>2</li><li>3</li><li>4</li></ol>\n"
      ],
      "text/latex": [
       "\\begin{enumerate*}\n",
       "\\item 1\n",
       "\\item 2\n",
       "\\item 3\n",
       "\\item 4\n",
       "\\end{enumerate*}\n"
      ],
      "text/markdown": [
       "1. 1\n",
       "2. 2\n",
       "3. 3\n",
       "4. 4\n",
       "\n",
       "\n"
      ],
      "text/plain": [
       "[1] 1 2 3 4"
      ]
     },
     "metadata": {},
     "output_type": "display_data"
    },
    {
     "data": {
      "text/html": [
       "<style>\n",
       ".list-inline {list-style: none; margin:0; padding: 0}\n",
       ".list-inline>li {display: inline-block}\n",
       ".list-inline>li:not(:last-child)::after {content: \"\\00b7\"; padding: 0 .5ex}\n",
       "</style>\n",
       "<ol class=list-inline><li>1</li><li>2</li><li>3</li><li>4</li></ol>\n"
      ],
      "text/latex": [
       "\\begin{enumerate*}\n",
       "\\item 1\n",
       "\\item 2\n",
       "\\item 3\n",
       "\\item 4\n",
       "\\end{enumerate*}\n"
      ],
      "text/markdown": [
       "1. 1\n",
       "2. 2\n",
       "3. 3\n",
       "4. 4\n",
       "\n",
       "\n"
      ],
      "text/plain": [
       "[1] 1 2 3 4"
      ]
     },
     "metadata": {},
     "output_type": "display_data"
    }
   ],
   "source": [
    "# like a list\n",
    "df[1:2]\n",
    "df[[\"x\"]]\n",
    "df$x"
   ]
  },
  {
   "cell_type": "code",
   "execution_count": 9,
   "id": "5f94f1b8",
   "metadata": {},
   "outputs": [
    {
     "data": {
      "text/html": [
       "<table class=\"dataframe\">\n",
       "<caption>A data.frame: 4 × 2</caption>\n",
       "<thead>\n",
       "\t<tr><th scope=col>x</th><th scope=col>z</th></tr>\n",
       "\t<tr><th scope=col>&lt;int&gt;</th><th scope=col>&lt;chr&gt;</th></tr>\n",
       "</thead>\n",
       "<tbody>\n",
       "\t<tr><td>1</td><td>a</td></tr>\n",
       "\t<tr><td>2</td><td>b</td></tr>\n",
       "\t<tr><td>3</td><td>c</td></tr>\n",
       "\t<tr><td>4</td><td>d</td></tr>\n",
       "</tbody>\n",
       "</table>\n"
      ],
      "text/latex": [
       "A data.frame: 4 × 2\n",
       "\\begin{tabular}{ll}\n",
       " x & z\\\\\n",
       " <int> & <chr>\\\\\n",
       "\\hline\n",
       "\t 1 & a\\\\\n",
       "\t 2 & b\\\\\n",
       "\t 3 & c\\\\\n",
       "\t 4 & d\\\\\n",
       "\\end{tabular}\n"
      ],
      "text/markdown": [
       "\n",
       "A data.frame: 4 × 2\n",
       "\n",
       "| x &lt;int&gt; | z &lt;chr&gt; |\n",
       "|---|---|\n",
       "| 1 | a |\n",
       "| 2 | b |\n",
       "| 3 | c |\n",
       "| 4 | d |\n",
       "\n"
      ],
      "text/plain": [
       "  x z\n",
       "1 1 a\n",
       "2 2 b\n",
       "3 3 c\n",
       "4 4 d"
      ]
     },
     "metadata": {},
     "output_type": "display_data"
    },
    {
     "data": {
      "text/html": [
       "<table class=\"dataframe\">\n",
       "<caption>A data.frame: 4 × 3</caption>\n",
       "<thead>\n",
       "\t<tr><th scope=col>x</th><th scope=col>y</th><th scope=col>z</th></tr>\n",
       "\t<tr><th scope=col>&lt;int&gt;</th><th scope=col>&lt;int&gt;</th><th scope=col>&lt;chr&gt;</th></tr>\n",
       "</thead>\n",
       "<tbody>\n",
       "\t<tr><td>1</td><td>4</td><td>a</td></tr>\n",
       "\t<tr><td>2</td><td>3</td><td>b</td></tr>\n",
       "\t<tr><td>3</td><td>2</td><td>c</td></tr>\n",
       "\t<tr><td>4</td><td>1</td><td>d</td></tr>\n",
       "</tbody>\n",
       "</table>\n"
      ],
      "text/latex": [
       "A data.frame: 4 × 3\n",
       "\\begin{tabular}{lll}\n",
       " x & y & z\\\\\n",
       " <int> & <int> & <chr>\\\\\n",
       "\\hline\n",
       "\t 1 & 4 & a\\\\\n",
       "\t 2 & 3 & b\\\\\n",
       "\t 3 & 2 & c\\\\\n",
       "\t 4 & 1 & d\\\\\n",
       "\\end{tabular}\n"
      ],
      "text/markdown": [
       "\n",
       "A data.frame: 4 × 3\n",
       "\n",
       "| x &lt;int&gt; | y &lt;int&gt; | z &lt;chr&gt; |\n",
       "|---|---|---|\n",
       "| 1 | 4 | a |\n",
       "| 2 | 3 | b |\n",
       "| 3 | 2 | c |\n",
       "| 4 | 1 | d |\n",
       "\n"
      ],
      "text/plain": [
       "  x y z\n",
       "1 1 4 a\n",
       "2 2 3 b\n",
       "3 3 2 c\n",
       "4 4 1 d"
      ]
     },
     "metadata": {},
     "output_type": "display_data"
    },
    {
     "data": {
      "text/html": [
       "<table class=\"dataframe\">\n",
       "<caption>A data.frame: 4 × 1</caption>\n",
       "<thead>\n",
       "\t<tr><th scope=col>x</th></tr>\n",
       "\t<tr><th scope=col>&lt;int&gt;</th></tr>\n",
       "</thead>\n",
       "<tbody>\n",
       "\t<tr><td>1</td></tr>\n",
       "\t<tr><td>2</td></tr>\n",
       "\t<tr><td>3</td></tr>\n",
       "\t<tr><td>4</td></tr>\n",
       "</tbody>\n",
       "</table>\n"
      ],
      "text/latex": [
       "A data.frame: 4 × 1\n",
       "\\begin{tabular}{l}\n",
       " x\\\\\n",
       " <int>\\\\\n",
       "\\hline\n",
       "\t 1\\\\\n",
       "\t 2\\\\\n",
       "\t 3\\\\\n",
       "\t 4\\\\\n",
       "\\end{tabular}\n"
      ],
      "text/markdown": [
       "\n",
       "A data.frame: 4 × 1\n",
       "\n",
       "| x &lt;int&gt; |\n",
       "|---|\n",
       "| 1 |\n",
       "| 2 |\n",
       "| 3 |\n",
       "| 4 |\n",
       "\n"
      ],
      "text/plain": [
       "  x\n",
       "1 1\n",
       "2 2\n",
       "3 3\n",
       "4 4"
      ]
     },
     "metadata": {},
     "output_type": "display_data"
    }
   ],
   "source": [
    "# like a matrix\n",
    "df[,c(\"x\",\"z\")]\n",
    "df[,1:3]\n",
    "df[, \"x\", drop=FALSE]"
   ]
  },
  {
   "cell_type": "markdown",
   "id": "195f5f78",
   "metadata": {},
   "source": [
    "### 增强型数据框\n",
    "- `tibble`是增强型的`data.frame`，\n",
    "- 选取`tibble`的行或者列，即使遇到单行或者单列的时候，数据也不会降维，总是返回`tibble`，即仍然是数据框的形式。"
   ]
  },
  {
   "cell_type": "code",
   "execution_count": 10,
   "id": "26c87dd8",
   "metadata": {},
   "outputs": [
    {
     "data": {
      "text/html": [
       "<table class=\"dataframe\">\n",
       "<caption>A tibble: 4 × 3</caption>\n",
       "<thead>\n",
       "\t<tr><th scope=col>x</th><th scope=col>y</th><th scope=col>z</th></tr>\n",
       "\t<tr><th scope=col>&lt;int&gt;</th><th scope=col>&lt;int&gt;</th><th scope=col>&lt;chr&gt;</th></tr>\n",
       "</thead>\n",
       "<tbody>\n",
       "\t<tr><td>1</td><td>4</td><td>a</td></tr>\n",
       "\t<tr><td>2</td><td>3</td><td>b</td></tr>\n",
       "\t<tr><td>3</td><td>2</td><td>c</td></tr>\n",
       "\t<tr><td>4</td><td>1</td><td>d</td></tr>\n",
       "</tbody>\n",
       "</table>\n"
      ],
      "text/latex": [
       "A tibble: 4 × 3\n",
       "\\begin{tabular}{lll}\n",
       " x & y & z\\\\\n",
       " <int> & <int> & <chr>\\\\\n",
       "\\hline\n",
       "\t 1 & 4 & a\\\\\n",
       "\t 2 & 3 & b\\\\\n",
       "\t 3 & 2 & c\\\\\n",
       "\t 4 & 1 & d\\\\\n",
       "\\end{tabular}\n"
      ],
      "text/markdown": [
       "\n",
       "A tibble: 4 × 3\n",
       "\n",
       "| x &lt;int&gt; | y &lt;int&gt; | z &lt;chr&gt; |\n",
       "|---|---|---|\n",
       "| 1 | 4 | a |\n",
       "| 2 | 3 | b |\n",
       "| 3 | 2 | c |\n",
       "| 4 | 1 | d |\n",
       "\n"
      ],
      "text/plain": [
       "  x y z\n",
       "1 1 4 a\n",
       "2 2 3 b\n",
       "3 3 2 c\n",
       "4 4 1 d"
      ]
     },
     "metadata": {},
     "output_type": "display_data"
    }
   ],
   "source": [
    "tb <- tibble::tibble(\n",
    "x=1:4,\n",
    "y=4:1,\n",
    "z=c(\"a\", \"b\", \"c\", \"d\"))\n",
    "tb"
   ]
  },
  {
   "cell_type": "code",
   "execution_count": 13,
   "id": "d5458ba9",
   "metadata": {},
   "outputs": [
    {
     "data": {
      "text/html": [
       "<table class=\"dataframe\">\n",
       "<caption>A tibble: 4 × 1</caption>\n",
       "<thead>\n",
       "\t<tr><th scope=col>x</th></tr>\n",
       "\t<tr><th scope=col>&lt;int&gt;</th></tr>\n",
       "</thead>\n",
       "<tbody>\n",
       "\t<tr><td>1</td></tr>\n",
       "\t<tr><td>2</td></tr>\n",
       "\t<tr><td>3</td></tr>\n",
       "\t<tr><td>4</td></tr>\n",
       "</tbody>\n",
       "</table>\n"
      ],
      "text/latex": [
       "A tibble: 4 × 1\n",
       "\\begin{tabular}{l}\n",
       " x\\\\\n",
       " <int>\\\\\n",
       "\\hline\n",
       "\t 1\\\\\n",
       "\t 2\\\\\n",
       "\t 3\\\\\n",
       "\t 4\\\\\n",
       "\\end{tabular}\n"
      ],
      "text/markdown": [
       "\n",
       "A tibble: 4 × 1\n",
       "\n",
       "| x &lt;int&gt; |\n",
       "|---|\n",
       "| 1 |\n",
       "| 2 |\n",
       "| 3 |\n",
       "| 4 |\n",
       "\n"
      ],
      "text/plain": [
       "  x\n",
       "1 1\n",
       "2 2\n",
       "3 3\n",
       "4 4"
      ]
     },
     "metadata": {},
     "output_type": "display_data"
    },
    {
     "data": {
      "text/html": [
       "<table class=\"dataframe\">\n",
       "<caption>A tibble: 4 × 1</caption>\n",
       "<thead>\n",
       "\t<tr><th scope=col>x</th></tr>\n",
       "\t<tr><th scope=col>&lt;int&gt;</th></tr>\n",
       "</thead>\n",
       "<tbody>\n",
       "\t<tr><td>1</td></tr>\n",
       "\t<tr><td>2</td></tr>\n",
       "\t<tr><td>3</td></tr>\n",
       "\t<tr><td>4</td></tr>\n",
       "</tbody>\n",
       "</table>\n"
      ],
      "text/latex": [
       "A tibble: 4 × 1\n",
       "\\begin{tabular}{l}\n",
       " x\\\\\n",
       " <int>\\\\\n",
       "\\hline\n",
       "\t 1\\\\\n",
       "\t 2\\\\\n",
       "\t 3\\\\\n",
       "\t 4\\\\\n",
       "\\end{tabular}\n"
      ],
      "text/markdown": [
       "\n",
       "A tibble: 4 × 1\n",
       "\n",
       "| x &lt;int&gt; |\n",
       "|---|\n",
       "| 1 |\n",
       "| 2 |\n",
       "| 3 |\n",
       "| 4 |\n",
       "\n"
      ],
      "text/plain": [
       "  x\n",
       "1 1\n",
       "2 2\n",
       "3 3\n",
       "4 4"
      ]
     },
     "metadata": {},
     "output_type": "display_data"
    }
   ],
   "source": [
    "tb[\"x\"]\n",
    "tb[,\"x\"]"
   ]
  },
  {
   "cell_type": "code",
   "execution_count": 19,
   "id": "2620c5cd",
   "metadata": {},
   "outputs": [
    {
     "data": {
      "text/html": [
       "<table class=\"dataframe\">\n",
       "<caption>A matrix: 3 × 3 of type int</caption>\n",
       "<tbody>\n",
       "\t<tr><td>1</td><td>4</td><td>7</td></tr>\n",
       "\t<tr><td>2</td><td>5</td><td>8</td></tr>\n",
       "\t<tr><td>3</td><td>6</td><td>9</td></tr>\n",
       "</tbody>\n",
       "</table>\n"
      ],
      "text/latex": [
       "A matrix: 3 × 3 of type int\n",
       "\\begin{tabular}{lll}\n",
       "\t 1 & 4 & 7\\\\\n",
       "\t 2 & 5 & 8\\\\\n",
       "\t 3 & 6 & 9\\\\\n",
       "\\end{tabular}\n"
      ],
      "text/markdown": [
       "\n",
       "A matrix: 3 × 3 of type int\n",
       "\n",
       "| 1 | 4 | 7 |\n",
       "| 2 | 5 | 8 |\n",
       "| 3 | 6 | 9 |\n",
       "\n"
      ],
      "text/plain": [
       "     [,1] [,2] [,3]\n",
       "[1,] 1    4    7   \n",
       "[2,] 2    5    8   \n",
       "[3,] 3    6    9   "
      ]
     },
     "metadata": {},
     "output_type": "display_data"
    },
    {
     "data": {
      "text/html": [
       "7"
      ],
      "text/latex": [
       "7"
      ],
      "text/markdown": [
       "7"
      ],
      "text/plain": [
       "[1] 7"
      ]
     },
     "metadata": {},
     "output_type": "display_data"
    }
   ],
   "source": [
    "mt <- matrix(1:9, nrow=3)\n",
    "mt\n",
    "mt[1,3]"
   ]
  },
  {
   "cell_type": "code",
   "execution_count": 29,
   "id": "dbebc12a",
   "metadata": {},
   "outputs": [
    {
     "data": {
      "text/html": [
       "<style>\n",
       ".list-inline {list-style: none; margin:0; padding: 0}\n",
       ".list-inline>li {display: inline-block}\n",
       ".list-inline>li:not(:last-child)::after {content: \"\\00b7\"; padding: 0 .5ex}\n",
       "</style>\n",
       "<ol class=list-inline><li>3</li><li>5</li><li>0</li><li>2</li><li>0</li></ol>\n"
      ],
      "text/latex": [
       "\\begin{enumerate*}\n",
       "\\item 3\n",
       "\\item 5\n",
       "\\item 0\n",
       "\\item 2\n",
       "\\item 0\n",
       "\\end{enumerate*}\n"
      ],
      "text/markdown": [
       "1. 3\n",
       "2. 5\n",
       "3. 0\n",
       "4. 2\n",
       "5. 0\n",
       "\n",
       "\n"
      ],
      "text/plain": [
       "[1] 3 5 0 2 0"
      ]
     },
     "metadata": {},
     "output_type": "display_data"
    }
   ],
   "source": [
    "x <- c(3, 5, NA, 2, NA)\n",
    "x_missing <- is.na(x)\n",
    "x[x_missing] <- 0\n",
    "x"
   ]
  },
  {
   "attachments": {
    "image.png": {
     "image/png": "[encoded data removed]"
    }
   },
   "cell_type": "markdown",
   "id": "a0004a37",
   "metadata": {},
   "source": [
    "## 可重复性文档\n",
    "### 什么是`Rmarkdown`\n",
    "- ![image.png](attachment:image.png)\n",
    "### `markdown` 基本语法\n",
    "- 如果想制作简单表格，\n",
    "  - 列与列之间用 `|` 分隔，表格的首行下面添加`--------`\n",
    "- 如果想添加网页链接，可以用方括号和圆括号\n",
    "  - `[Download R](http://www.r-project.org/)`"
   ]
  },
  {
   "cell_type": "code",
   "execution_count": null,
   "id": "96140bd6",
   "metadata": {},
   "outputs": [],
   "source": [
    "# This is a title\n",
    "\n",
    "#  第一章   （注意   \"#\" 与 \"第一章\"之间有空格）\n",
    "##  第一节  （同上，\"##\" 与 \"第一节\"之间有空格）\n",
    "\n",
    "This is a sentence.\n",
    "\n",
    "Now a list begins:\n",
    "  \n",
    "- no importance\n",
    "- again\n",
    "- repeat\n",
    "  \n",
    "A numbered list:\n",
    "  \n",
    "1. first\n",
    "2. second\n",
    "\n",
    "__bold__, _italic_, ~~strike through~~"
   ]
  },
  {
   "cell_type": "markdown",
   "id": "896e8afd",
   "metadata": {},
   "source": [
    "Table Header  | Second Header\n",
    "------------- | -------------\n",
    "Cell 1, 1    | Cell 2, 1\n",
    "Cell 1, 2    | Cell 2, 2"
   ]
  },
  {
   "cell_type": "markdown",
   "id": "bdf6725d",
   "metadata": {},
   "source": [
    "###  R Code chunks\n",
    "- 在`Rmd`文档中写`R`代码，需要插入代码块(`Code chunks`)，具体以 ` ```{r} ` 开始，以 ` ``` `结尾。可以用快捷方式`Ctrl + Alt + I` (OS X: `Cmd + Option + I`)创建代码块。"
   ]
  },
  {
   "cell_type": "markdown",
   "id": "b259931d",
   "metadata": {},
   "source": [
    "### 生成`html`文档\n",
    "- 希望`html`文档有章节号、目录或者更好显示表格，可以修改`yaml`头文件（用下面的内容替换`Rmarkdown`的头文件）"
   ]
  },
  {
   "cell_type": "code",
   "execution_count": null,
   "id": "3563059f",
   "metadata": {},
   "outputs": [],
   "source": [
    "---\n",
    "title: Habits\n",
    "author: John Doe\n",
    "date: \"2023-07-18\"\n",
    "output: \n",
    "  html_document:\n",
    "    df_print: paged\n",
    "    toc: yes\n",
    "    number_sections: yes\n",
    "---"
   ]
  },
  {
   "cell_type": "markdown",
   "id": "86f96673",
   "metadata": {},
   "source": [
    "### 生成`word`文档\n",
    "### 生成`pdf`文档"
   ]
  },
  {
   "attachments": {
    "image.png": {
     "image/png": "[encoded data removed]"
    }
   },
   "cell_type": "markdown",
   "id": "a1cc5b23",
   "metadata": {},
   "source": [
    "## 读取数据\n",
    "- 在学习R语言过程中，除了使用内置的数据集外，我们更多的需要导入外部数据\n",
    "### 数据科学中的文件管理\n",
    "- 把项目所需的文件（代码、数据、图片等），放在一个文件夹里\n",
    "- 项目文件结构\n",
    "  - ![image.png](attachment:image.png)"
   ]
  },
  {
   "cell_type": "markdown",
   "id": "a7bc587b",
   "metadata": {},
   "source": [
    "- 读取文件\n",
    "  - 事实上，R语言提供了很多读取数据的函数。下表列出了常见文件格式的读取方法\n",
    "\n",
    "文件格式   |   R函数\n",
    "----------- | ------------\n",
    "txt\t| read.table()\n",
    ".csv\t| read.csv() and readr::read_csv()\n",
    ".xls and .xlsx\t| readxl::read_excel() and openxlsx::read.xlsx()\n",
    ".sav(SPSS files)\t| haven::read_sav() and foreign::read.spss()\n",
    ".Rdata or rda\t| load()\n",
    ".rds\t| readRDS() and readr::read_rds()\n",
    ".dta\t| haven::read_dta() and haven::read_stata()\n",
    ".sas7bdat(SAS files)\t| haven::read_sas()\n",
    "Internet\t| download.file()"
   ]
  },
  {
   "cell_type": "markdown",
   "id": "9001bfb3",
   "metadata": {},
   "source": [
    "### `here`宏包\n",
    "- 强大的`here`宏包，`here()`会告诉我们当前所在的目录\n",
    "- 指向某个文件的路径信息\n",
    "- `here`宏包的好处还在于，在不同的电脑和文件结构下，代码都能运行"
   ]
  },
  {
   "cell_type": "code",
   "execution_count": 32,
   "id": "c7b969de",
   "metadata": {},
   "outputs": [
    {
     "data": {
      "text/html": [
       "'/public/home/sll'"
      ],
      "text/latex": [
       "'/public/home/sll'"
      ],
      "text/markdown": [
       "'/public/home/sll'"
      ],
      "text/plain": [
       "[1] \"/public/home/sll\""
      ]
     },
     "metadata": {},
     "output_type": "display_data"
    }
   ],
   "source": [
    "here::here()"
   ]
  },
  {
   "cell_type": "code",
   "execution_count": 36,
   "id": "f3cfd0b9",
   "metadata": {},
   "outputs": [
    {
     "data": {
      "text/html": [
       "'/public/home/sll/software/smoove'"
      ],
      "text/latex": [
       "'/public/home/sll/software/smoove'"
      ],
      "text/markdown": [
       "'/public/home/sll/software/smoove'"
      ],
      "text/plain": [
       "[1] \"/public/home/sll/software/smoove\""
      ]
     },
     "metadata": {},
     "output_type": "display_data"
    }
   ],
   "source": [
    "here::here(\"software\", \"smoove\")\n",
    "d <- read.table(file= \"./data/txt_file.txt\", header = TRUE)"
   ]
  },
  {
   "cell_type": "code",
   "execution_count": 39,
   "id": "87b44dca",
   "metadata": {},
   "outputs": [
    {
     "ename": "ERROR",
     "evalue": "Error in open.connection(structure(4L, class = c(\"curl\", \"connection\"), conn_id = <pointer: 0x383>), : Failed to connect to raw.githubusercontent.com port 443 after 7 ms: Couldn't connect to server\n",
     "output_type": "error",
     "traceback": [
      "Error in open.connection(structure(4L, class = c(\"curl\", \"connection\"), conn_id = <pointer: 0x383>), : Failed to connect to raw.githubusercontent.com port 443 after 7 ms: Couldn't connect to server\nTraceback:\n",
      "1. read_csv(url)",
      "2. vroom::vroom(file, delim = \",\", col_names = col_names, col_types = col_types, \n .     col_select = {\n .         {\n .             col_select\n .         }\n .     }, id = id, .name_repair = name_repair, skip = skip, n_max = n_max, \n .     na = na, quote = quote, comment = comment, skip_empty_rows = skip_empty_rows, \n .     trim_ws = trim_ws, escape_double = TRUE, escape_backslash = FALSE, \n .     locale = locale, guess_max = guess_max, show_col_types = show_col_types, \n .     progress = progress, altrep = lazy, num_threads = num_threads)",
      "3. vroom_(file, delim = delim %||% col_types$delim, col_names = col_names, \n .     col_types = col_types, id = id, skip = skip, col_select = col_select, \n .     name_repair = .name_repair, na = na, quote = quote, trim_ws = trim_ws, \n .     escape_double = escape_double, escape_backslash = escape_backslash, \n .     comment = comment, skip_empty_rows = skip_empty_rows, locale = locale, \n .     guess_max = guess_max, n_max = n_max, altrep = vroom_altrep(altrep), \n .     num_threads = num_threads, progress = progress)",
      "4. (function (con, ...) \n . UseMethod(\"open\"))(structure(4L, class = c(\"curl\", \"connection\"\n . ), conn_id = <pointer: 0x383>), \"rb\")",
      "5. open.connection(structure(4L, class = c(\"curl\", \"connection\"), conn_id = <pointer: 0x383>), \n .     \"rb\")"
     ]
    }
   ],
   "source": [
    "library(readr)\n",
    "url <- \"https://raw.githubusercontent.com/perlatex/R_for_Data_Science/master/demo_data/wages.csv\"\n",
    "d <- read_csv(url)"
   ]
  }
 ],
 "metadata": {
  "kernelspec": {
   "display_name": "R",
   "language": "R",
   "name": "ir"
  },
  "language_info": {
   "codemirror_mode": "r",
   "file_extension": ".r",
   "mimetype": "text/x-r-source",
   "name": "R",
   "pygments_lexer": "r",
   "version": "4.2.0"
  }
 },
 "nbformat": 4,
 "nbformat_minor": 5
}
